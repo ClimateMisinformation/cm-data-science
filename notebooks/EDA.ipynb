{
 "metadata": {
  "language_info": {
   "codemirror_mode": {
    "name": "ipython",
    "version": 3
   },
   "file_extension": ".py",
   "mimetype": "text/x-python",
   "name": "python",
   "nbconvert_exporter": "python",
   "pygments_lexer": "ipython3",
   "version": "3.8.3-final"
  },
  "orig_nbformat": 2,
  "kernelspec": {
   "name": "python383jvsc74a57bd0ecc3cf92167a3a0acf2f0dd942a3784382a6e8b29ecc1dee137264adbf3f9835",
   "display_name": "Python 3.8.3 64-bit ('pytorch': conda)"
  },
  "metadata": {
   "interpreter": {
    "hash": "ecc3cf92167a3a0acf2f0dd942a3784382a6e8b29ecc1dee137264adbf3f9835"
   }
  }
 },
 "nbformat": 4,
 "nbformat_minor": 2,
 "cells": [
  {
   "source": [
    "# Simple EDA\n",
    "Exploratory Data Analysis for Climate Misinformation dataset\n",
    "20210324\n"
   ],
   "cell_type": "markdown",
   "metadata": {}
  },
  {
   "cell_type": "code",
   "execution_count": null,
   "metadata": {},
   "outputs": [],
   "source": [
    "import logging\n",
    "import pandas as pd \n",
    "import seaborn as sns\n",
    "import matplotlib.pyplot as plt\n"
   ]
  },
  {
   "cell_type": "code",
   "execution_count": null,
   "metadata": {},
   "outputs": [],
   "source": [
    "assert tuple(int(el) for el in sns.__version__.split('.')) >= (0, 11, 0), 'You need Seaborn >= 0.11'\n"
   ]
  },
  {
   "source": [
    "# read dataset"
   ],
   "cell_type": "markdown",
   "metadata": {}
  },
  {
   "cell_type": "code",
   "execution_count": null,
   "metadata": {},
   "outputs": [],
   "source": [
    "\n",
    "# later, I think data should be taken from Google Cloud Platform => https://cloud.google.com/docs/authentication/end-user \n",
    "# for the moment look with file saved in github\n",
    "\n",
    "DATA_DIR = os.path.join('..', 'labelled_data') \n",
    "DATASET = os.path.join(DATA_DIR, 'labelled_data_14032021.csv')\n",
    "df = pd.read_csv(DATASET, header=0)\n"
   ]
  },
  {
   "source": [
    "# Do some cleansing and add some metrics"
   ],
   "cell_type": "markdown",
   "metadata": {}
  },
  {
   "cell_type": "code",
   "execution_count": null,
   "metadata": {},
   "outputs": [],
   "source": [
    "# remove double white spaces\n",
    "df.text = df.text.replace('\\s+', ' ', regex=True)\n",
    "\n",
    "# text length\n",
    "df['text_len'] = df.text.str.len()\n",
    "df['word_count'] = df.text.str.count(' ') + 1\n",
    "\n",
    "# for prettier plots, indicate label is a category\n",
    "# df.label = df.label.astype('category')\n",
    "\n",
    "# convert labels\n",
    "    # - 118: climate denying\n",
    "    # - 119: not climate denying\n",
    "    # - 120: not climate related\n",
    "labels = {\n",
    "    118: 'climate denying',\n",
    "    119: 'not climate denying',\n",
    "    120: 'not climate related'\n",
    "}\n",
    "df.label = df.label.apply(lambda x: labels[x] if x in labels else 'other')\n"
   ]
  },
  {
   "source": [
    "# describe is always useful"
   ],
   "cell_type": "markdown",
   "metadata": {}
  },
  {
   "cell_type": "code",
   "execution_count": null,
   "metadata": {},
   "outputs": [],
   "source": [
    "df.describe()"
   ]
  },
  {
   "source": [
    "# class balance"
   ],
   "cell_type": "markdown",
   "metadata": {}
  },
  {
   "cell_type": "code",
   "execution_count": null,
   "metadata": {},
   "outputs": [],
   "source": [
    "df['label'].value_counts()\n"
   ]
  },
  {
   "source": [
    "# text lengths and word counts by class"
   ],
   "cell_type": "markdown",
   "metadata": {}
  },
  {
   "cell_type": "code",
   "execution_count": null,
   "metadata": {},
   "outputs": [],
   "source": [
    "# for col in ['text_len', 'word_count']:\n",
    "#     sns.displot(x=col, data=df[[col, 'label']], hue='label', height=10, aspect=2)\n",
    "#     plt.show()"
   ]
  },
  {
   "cell_type": "code",
   "execution_count": null,
   "metadata": {},
   "outputs": [],
   "source": [
    "palette = sns.color_palette(\"Set2\")\n",
    "for col in ['text_len', 'word_count']:\n",
    "    fig, axes = plt.subplots(2, 2, figsize=(16, 12), sharex=True, sharey=True)\n",
    "    plt.suptitle(col)\n",
    "    for idx, cat in enumerate(df.label.unique()):\n",
    "        ax = axes[idx//2, idx%2]\n",
    "        sns.histplot(x=col, data=df[df.label == cat][[col]], label=cat, ax=ax, color=palette[idx])\n",
    "        ax.set_title(cat)\n",
    "        # plt.legend(loc='best')\n",
    "    plt.show()"
   ]
  },
  {
   "source": [
    "Distributions between the classes in terms of length of text and word counts are dissimilar\n",
    "\n",
    "There are more \"climate denying\" 'shorter' texts than for the other classes. "
   ],
   "cell_type": "markdown",
   "metadata": {}
  },
  {
   "cell_type": "code",
   "execution_count": null,
   "metadata": {},
   "outputs": [],
   "source": []
  }
 ]
}
{
 "cells": [
  {
   "cell_type": "code",
   "execution_count": 1,
   "id": "8f299761",
   "metadata": {},
   "outputs": [
    {
     "name": "stderr",
     "output_type": "stream",
     "text": [
      "INFO:matplotlib.font_manager:generated new fontManager\n"
     ]
    }
   ],
   "source": [
    "import logging, sys, os, tqdm\n",
    "\n",
    "# Main code is in ../models\n",
    "SRC_DIR = os.path.abspath(os.path.join('..', 'models'))\n",
    "if SRC_DIR not in sys.path:\n",
    "    sys.path.append(SRC_DIR)\n",
    "\n",
    "logging.basicConfig(level=logging.INFO)\n",
    "\n",
    "from models import *"
   ]
  },
  {
   "cell_type": "code",
   "execution_count": 2,
   "id": "0cd3c8f6",
   "metadata": {},
   "outputs": [],
   "source": [
    "def import_data(embedding):\n",
    "\n",
    "    try:\n",
    "        data = pd.read_csv(\n",
    "            os.path.join(SRC_DIR, \"embedding_data\",  embedding + \"test.csv\")\n",
    "            ,index_col=0\n",
    "            )\n",
    "        logging.info(f\"Data loaded {embedding}\")\n",
    "        logging.debug(f\"Dataset shape {data.shape}\")\n",
    "    except:\n",
    "\n",
    "        logging.error(\"Error loading embedding data. Possible embedding types are: word2vec and tfidf\")\n",
    "\n",
    "    logging.info(\"Splitting data into train and test\")\n",
    "    X_train, Y_train, X_test, Y_test = split_train_test(data)\n",
    "\n",
    "    return X_train, Y_train, X_test, Y_test"
   ]
  },
  {
   "cell_type": "code",
   "execution_count": 3,
   "id": "e72aeb3a",
   "metadata": {},
   "outputs": [],
   "source": [
    "def fit_predict(model, X_train, Y_train, X_test, Y_test):\n",
    "\n",
    "    methods = {\n",
    "        'dummy': Dummy,\n",
    "        'naivebayes': NaiveBayes,\n",
    "        'onevsrest': One_VS_Rest_SVM,\n",
    "        'onevsone': One_vs_One_SVM,\n",
    "        'randomforest': RandomForest,\n",
    "        'adaboost': AdaBoost,\n",
    "    }\n",
    "\n",
    "    if model in methods:\n",
    "        eval_dict = methods[model](X_train, Y_train, X_test, Y_test)\n",
    "    else:\n",
    "        logging.error(f\"{model} unknown. Potential models are: {lits(methods.keys())}\")\n",
    "        eval_dict = {}\n",
    "\n",
    "    return eval_dict"
   ]
  },
  {
   "cell_type": "code",
   "execution_count": null,
   "id": "57d8ee19",
   "metadata": {},
   "outputs": [
    {
     "name": "stderr",
     "output_type": "stream",
     "text": [
      "INFO:root:\n",
      "WORD2VEC\n",
      "\n",
      "INFO:root:Data loaded word2vec\n",
      "INFO:root:Splitting data into train and test\n",
      "INFO:root:\n",
      "--------------------\n",
      "\n"
     ]
    },
    {
     "name": "stdout",
     "output_type": "stream",
     "text": [
      "Training shape  (502, 301)\n",
      "Test shape  (126, 301)\n",
      "Training target distributions \n",
      "0    199\n",
      "2    175\n",
      "1    128\n",
      "Name: classes, dtype: int64\n",
      "Test target distributions \n",
      "2    46\n",
      "0    45\n",
      "1    35\n",
      "Name: classes, dtype: int64\n"
     ]
    },
    {
     "data": {
      "image/png": "[encoded data removed]",
      "text/plain": [
       "<Figure size 432x288 with 2 Axes>"
      ]
     },
     "metadata": {
      "needs_background": "light"
     },
     "output_type": "display_data"
    },
    {
     "name": "stderr",
     "output_type": "stream",
     "text": [
      "/opt/conda/lib/python3.8/site-packages/sklearn/metrics/_classification.py:1245: UndefinedMetricWarning: Precision and F-score are ill-defined and being set to 0.0 in labels with no predicted samples. Use `zero_division` parameter to control this behavior.\n",
      "  _warn_prf(average, modifier, msg_start, len(result))\n",
      "/opt/conda/lib/python3.8/site-packages/sklearn/metrics/_classification.py:1245: UndefinedMetricWarning: Precision and F-score are ill-defined and being set to 0.0 in labels with no predicted samples. Use `zero_division` parameter to control this behavior.\n",
      "  _warn_prf(average, modifier, msg_start, len(result))\n",
      "/opt/conda/lib/python3.8/site-packages/sklearn/metrics/_classification.py:1245: UndefinedMetricWarning: Precision and F-score are ill-defined and being set to 0.0 in labels with no predicted samples. Use `zero_division` parameter to control this behavior.\n",
      "  _warn_prf(average, modifier, msg_start, len(result))\n",
      "INFO:root:\n",
      "--------------------\n",
      "\n"
     ]
    },
    {
     "name": "stdout",
     "output_type": "stream",
     "text": [
      "              precision    recall  f1-score   support\n",
      "\n",
      "           0       0.36      1.00      0.53        45\n",
      "           1       0.00      0.00      0.00        35\n",
      "           2       0.00      0.00      0.00        46\n",
      "\n",
      "    accuracy                           0.36       126\n",
      "   macro avg       0.12      0.33      0.18       126\n",
      "weighted avg       0.13      0.36      0.19       126\n",
      "\n"
     ]
    },
    {
     "data": {
      "image/png": "[encoded data removed]",
      "text/plain": [
       "<Figure size 432x288 with 2 Axes>"
      ]
     },
     "metadata": {
      "needs_background": "light"
     },
     "output_type": "display_data"
    },
    {
     "name": "stderr",
     "output_type": "stream",
     "text": [
      "INFO:root:\n",
      "--------------------\n",
      "\n"
     ]
    },
    {
     "name": "stdout",
     "output_type": "stream",
     "text": [
      "              precision    recall  f1-score   support\n",
      "\n",
      "           0       0.86      0.67      0.75        45\n",
      "           1       0.56      0.69      0.62        35\n",
      "           2       0.67      0.70      0.68        46\n",
      "\n",
      "    accuracy                           0.68       126\n",
      "   macro avg       0.69      0.68      0.68       126\n",
      "weighted avg       0.70      0.68      0.69       126\n",
      "\n",
      "\n",
      "Tuned one vs rest svm (tuned) parameters: {'estimator__kernel': 'rbf', 'estimator__gamma': 7.244752025202521, 'estimator__C': 11.200000000000001}\n"
     ]
    },
    {
     "data": {
      "image/png": "[encoded data removed]",
      "text/plain": [
       "<Figure size 432x288 with 2 Axes>"
      ]
     },
     "metadata": {
      "needs_background": "light"
     },
     "output_type": "display_data"
    },
    {
     "name": "stderr",
     "output_type": "stream",
     "text": [
      "INFO:root:\n",
      "--------------------\n",
      "\n"
     ]
    },
    {
     "name": "stdout",
     "output_type": "stream",
     "text": [
      "              precision    recall  f1-score   support\n",
      "\n",
      "           0       0.82      0.73      0.78        45\n",
      "           1       0.74      0.74      0.74        35\n",
      "           2       0.71      0.78      0.74        46\n",
      "\n",
      "    accuracy                           0.75       126\n",
      "   macro avg       0.76      0.75      0.75       126\n",
      "weighted avg       0.76      0.75      0.75       126\n",
      "\n"
     ]
    },
    {
     "data": {
      "image/png": "[encoded data removed]",
      "text/plain": [
       "<Figure size 432x288 with 2 Axes>"
      ]
     },
     "metadata": {
      "needs_background": "light"
     },
     "output_type": "display_data"
    },
    {
     "name": "stderr",
     "output_type": "stream",
     "text": [
      "INFO:root:\n",
      "--------------------\n",
      "\n"
     ]
    },
    {
     "name": "stdout",
     "output_type": "stream",
     "text": [
      "              precision    recall  f1-score   support\n",
      "\n",
      "           0       0.84      0.71      0.77        45\n",
      "           1       0.60      0.71      0.65        35\n",
      "           2       0.67      0.67      0.67        46\n",
      "\n",
      "    accuracy                           0.70       126\n",
      "   macro avg       0.70      0.70      0.70       126\n",
      "weighted avg       0.71      0.70      0.70       126\n",
      "\n"
     ]
    },
    {
     "name": "stderr",
     "output_type": "stream",
     "text": [
      "/opt/conda/lib/python3.8/site-packages/sklearn/model_selection/_search.py:285: UserWarning: The total space of parameters 36 is smaller than n_iter=100. Running 36 iterations. For exhaustive searches, use GridSearchCV.\n",
      "  warnings.warn(\n"
     ]
    }
   ],
   "source": [
    "%%time\n",
    "\n",
    "embeddings = ['word2vec','tfidf','normbow']\n",
    "models = ['dummy', 'naivebayes', 'onevsrest', 'onevsone', 'randomforest','adaboost']\n",
    "\n",
    "eval_list = []\n",
    "for embedding in embeddings:\n",
    "    logging.info(\"\\n{0}\\n\".format(embedding.upper()))\n",
    "    X_train, Y_train, X_test, Y_test = import_data(embedding)\n",
    "    logging.info(\"\\n{0}\\n\".format(20 * \"-\"))\n",
    "    for model in models:\n",
    "        t0 = datetime.now()\n",
    "        logging.debug(\"\\n{0} ({1})\\n\".format(model.upper(), embedding.upper()))\n",
    "        eval_dict = fit_predict(model, X_train, Y_train, X_test, Y_test)        \n",
    "        t1 = datetime.now()\n",
    "        eval_dict[\"Embedding\"] = embedding\n",
    "        eval_dict[\"Train & test duration (s)\"] = (t1 - t0).total_seconds()\n",
    "#         eval_dict[\"Train & test duration\"] = \"{0:.2f} seconds\".format((t1 - t0).total_seconds())\n",
    "        eval_list.append(eval_dict)\n",
    "        logging.info(\"\\n{0}\\n\".format(20 * \"-\"))\n",
    "    logging.info(\"\\n{0}\\n\".format(20 * \"=\"))"
   ]
  },
  {
   "cell_type": "code",
   "execution_count": null,
   "id": "297df5c2",
   "metadata": {},
   "outputs": [],
   "source": [
    "eval_df = pd.DataFrame(eval_list)\n",
    "# eval_df.columns\n",
    "\n",
    "eval_df[['Model', 'Embedding', 'Train & test duration (s)', 'Accuracy', 'Precision (class 0)',\n",
    "       'Recall (class 0)', 'ROC AUC (ovr)', 'Cross-entropy loss']]\\\n",
    "    .style\\\n",
    "    .background_gradient(cmap='Greens', subset=['Accuracy', 'Precision (class 0)', 'Recall (class 0)', 'ROC AUC (ovr)'])\\\n",
    "    .background_gradient(cmap='Reds', subset=[\"Train & test duration (s)\", \"Cross-entropy loss\"])"
   ]
  },
  {
   "cell_type": "code",
   "execution_count": null,
   "id": "daa0f055",
   "metadata": {},
   "outputs": [],
   "source": []
  }
 ],
 "metadata": {
  "kernelspec": {
   "display_name": "Python 3",
   "language": "python",
   "name": "python3"
  },
  "language_info": {
   "codemirror_mode": {
    "name": "ipython",
    "version": 3
   },
   "file_extension": ".py",
   "mimetype": "text/x-python",
   "name": "python",
   "nbconvert_exporter": "python",
   "pygments_lexer": "ipython3",
   "version": "3.8.5"
  }
 },
 "nbformat": 4,
 "nbformat_minor": 5
}
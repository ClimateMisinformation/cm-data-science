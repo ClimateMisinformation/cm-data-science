{
 "cells": [
  {
   "cell_type": "code",
   "execution_count": null,
   "id": "acd7d5a9",
   "metadata": {},
   "outputs": [],
   "source": [
    "import logging, sys, os, tqdm\n",
    "\n",
    "# Main code is in ../models\n",
    "SRC_DIR = os.path.abspath(os.path.join('..', 'models'))\n",
    "if SRC_DIR not in sys.path:\n",
    "    sys.path.append(SRC_DIR)\n",
    "\n",
    "logging.basicConfig(level=logging.INFO)\n",
    "\n",
    "from models import *"
   ]
  },
  {
   "cell_type": "code",
   "execution_count": null,
   "id": "5c03ae08",
   "metadata": {},
   "outputs": [],
   "source": [
    "def import_data(embedding):\n",
    "\n",
    "    try:\n",
    "        data = pd.read_csv(\n",
    "            os.path.join(SRC_DIR, \"embedding_data\",  embedding + \"test.csv\")\n",
    "            ,index_col=0\n",
    "            )\n",
    "        logging.info(f\"Data loaded {embedding}\")\n",
    "        logging.debug(f\"Dataset shape {data.shape}\")\n",
    "    except:\n",
    "\n",
    "        logging.error(\"Error loading embedding data. Possible embedding types are: word2vec and tfidf\")\n",
    "\n",
    "    logging.info(\"Splitting data into train and test\")\n",
    "    X_train, Y_train, X_test, Y_test = split_train_test(data)\n",
    "\n",
    "    return X_train, Y_train, X_test, Y_test"
   ]
  },
  {
   "cell_type": "code",
   "execution_count": null,
   "id": "8e154446",
   "metadata": {},
   "outputs": [],
   "source": [
    "def fit_predict(model, X_train, Y_train, X_test, Y_test):\n",
    "\n",
    "    methods = {\n",
    "        'dummy': Dummy,\n",
    "        'naivebayes': NaiveBayes,\n",
    "        'onevsrest': One_VS_Rest_SVM,\n",
    "        'onevsone': One_vs_One_SVM,\n",
    "        'randomforest': RandomForest,\n",
    "        'adaboost': AdaBoost,\n",
    "    }\n",
    "\n",
    "    if model in methods:\n",
    "        eval_dict = methods[model](X_train, Y_train, X_test, Y_test)\n",
    "    else:\n",
    "        logging.error(f\"{model} unknown. Potential models are: {lits(methods.keys())}\")\n",
    "        eval_dict = {}\n",
    "\n",
    "    return eval_dict"
   ]
  },
  {
   "cell_type": "code",
   "execution_count": null,
   "id": "a8deca62",
   "metadata": {},
   "outputs": [],
   "source": [
    "%%time\n",
    "\n",
    "embeddings = ['word2vec','tfidf','normbow']\n",
    "models = ['dummy', 'naivebayes', 'onevsrest', 'onevsone', 'randomforest','adaboost']\n",
    "\n",
    "eval_list = []\n",
    "for embedding in embeddings:\n",
    "    logging.info(\"\\n{0}\\n\".format(embedding.upper()))\n",
    "    X_train, Y_train, X_test, Y_test = import_data(embedding)\n",
    "    logging.info(\"\\n{0}\\n\".format(20 * \"-\"))\n",
    "    for model in models:\n",
    "        t0 = datetime.now()\n",
    "        logging.debug(\"\\n{0} ({1})\\n\".format(model.upper(), embedding.upper()))\n",
    "        eval_dict = fit_predict(model, X_train, Y_train, X_test, Y_test)        \n",
    "        t1 = datetime.now()\n",
    "        eval_dict[\"Embedding\"] = embedding\n",
    "        eval_dict[\"Train & test duration (s)\"] = (t1 - t0).total_seconds()\n",
    "#         eval_dict[\"Train & test duration\"] = \"{0:.2f} seconds\".format((t1 - t0).total_seconds())\n",
    "        eval_list.append(eval_dict)\n",
    "        logging.info(\"\\n{0}\\n\".format(20 * \"-\"))\n",
    "    logging.info(\"\\n{0}\\n\".format(20 * \"=\"))"
   ]
  },
  {
   "cell_type": "code",
   "execution_count": null,
   "id": "3db3aebe",
   "metadata": {},
   "outputs": [],
   "source": [
    "eval_df = pd.DataFrame(eval_list)\n",
    "# eval_df.columns\n",
    "\n",
    "eval_df[['Model', 'Embedding', 'Train & test duration (s)', 'Accuracy', 'Precision (class 0)',\n",
    "       'Recall (class 0)', 'ROC AUC (ovr)', 'Cross-entropy loss']]\\\n",
    "    .style\\\n",
    "    .background_gradient(cmap='Greens', subset=['Accuracy', 'Precision (class 0)', 'Recall (class 0)', 'ROC AUC (ovr)'])\\\n",
    "    .background_gradient(cmap='Reds', subset=[\"Train & test duration (s)\", \"Cross-entropy loss\"])"
   ]
  },
  {
   "cell_type": "code",
   "execution_count": null,
   "id": "9f0054c1",
   "metadata": {},
   "outputs": [],
   "source": []
  }
 ],
 "metadata": {
  "kernelspec": {
   "display_name": "Python 3",
   "language": "python",
   "name": "python3"
  },
  "language_info": {
   "codemirror_mode": {
    "name": "ipython",
    "version": 3
   },
   "file_extension": ".py",
   "mimetype": "text/x-python",
   "name": "python",
   "nbconvert_exporter": "python",
   "pygments_lexer": "ipython3",
   "version": "3.7.6-final"
  }
 },
 "nbformat": 4,
 "nbformat_minor": 5
}
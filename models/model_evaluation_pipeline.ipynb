{
 "cells": [
  {
   "cell_type": "code",
   "execution_count": 1,
   "id": "b56945c1",
   "metadata": {},
   "outputs": [],
   "source": [
    "from models import *"
   ]
  },
  {
   "cell_type": "code",
   "execution_count": 2,
   "id": "0ceec32f",
   "metadata": {},
   "outputs": [],
   "source": [
    "def import_data(embedding):\n",
    "\n",
    "    try:\n",
    "\n",
    "        data = pd.read_csv(\"embedding_data/\" + embedding + \"test.csv\", index_col=0)\n",
    "        print(\"Data loaded \", embedding)\n",
    "        print(\"Dataset shape \", data.shape)\n",
    "    except:\n",
    "\n",
    "        print(\"Error loading embedding data. Possible embedding types are: word2vec and tfidf\")\n",
    "\n",
    "    print(\"Splitting data into train and test\")\n",
    "    X_train, Y_train, X_test, Y_test = split_train_test(data)\n",
    "\n",
    "    return X_train, Y_train, X_test, Y_test"
   ]
  },
  {
   "cell_type": "code",
   "execution_count": 3,
   "id": "59665441",
   "metadata": {},
   "outputs": [],
   "source": [
    "def fit_predict(model, X_train, Y_train, X_test, Y_test):\n",
    "\n",
    "    if model == 'dummy':\n",
    "        eval_dict = Dummy(X_train, Y_train, X_test, Y_test)\n",
    "    elif model == 'naivebayes':\n",
    "        eval_dict = NaiveBayes(X_train, Y_train, X_test, Y_test)\n",
    "    elif model == 'onevsrest':\n",
    "        eval_dict = One_VS_Rest_SVM(X_train, Y_train, X_test, Y_test)\n",
    "    elif model == 'onevsone':\n",
    "        eval_dict = One_vs_One_SVM(X_train, Y_train, X_test, Y_test)\n",
    "    elif model == 'randomforest':\n",
    "        eval_dict = RandomForest(X_train, Y_train, X_test, Y_test)\n",
    "    elif model == 'adaboost':\n",
    "        eval_dict = AdaBoost(X_train, Y_train, X_test, Y_test)\n",
    "    else:\n",
    "        print(\"Error, potential models are: onevsrest, onevsone, randomfores and adaboost\")\n",
    "        eval_dict = {}\n",
    "\n",
    "    return eval_dict"
   ]
  },
  {
   "cell_type": "code",
   "execution_count": 4,
   "id": "d85c3ef7",
   "metadata": {},
   "outputs": [
    {
     "name": "stdout",
     "output_type": "stream",
     "text": [
      "\n",
      "WORD2VEC\n",
      "\n",
      "Data loaded  word2vec\n",
      "Dataset shape  (413, 301)\n",
      "Splitting data into train and test\n",
      "Training shape  (330, 301)\n",
      "Test shape  (83, 301)\n",
      "Training target distributions \n",
      "0    140\n",
      "2    116\n",
      "1     74\n",
      "Name: classes, dtype: int64\n",
      "Test target distributions \n",
      "0    31\n",
      "1    27\n",
      "2    25\n",
      "Name: classes, dtype: int64\n",
      "\n",
      "--------------------\n",
      "\n",
      "\n",
      "DUMMY (WORD2VEC)\n",
      "\n"
     ]
    },
    {
     "data": {
      "image/png": "[encoded data removed]",
      "text/plain": [
       "<Figure size 432x288 with 2 Axes>"
      ]
     },
     "metadata": {
      "needs_background": "light"
     },
     "output_type": "display_data"
    },
    {
     "name": "stdout",
     "output_type": "stream",
     "text": [
      "              precision    recall  f1-score   support\n",
      "\n",
      "           0       0.37      1.00      0.54        31\n",
      "           1       0.00      0.00      0.00        27\n",
      "           2       0.00      0.00      0.00        25\n",
      "\n",
      "    accuracy                           0.37        83\n",
      "   macro avg       0.12      0.33      0.18        83\n",
      "weighted avg       0.14      0.37      0.20        83\n",
      "\n",
      "\n",
      "--------------------\n",
      "\n",
      "\n",
      "NAIVEBAYES (WORD2VEC)\n",
      "\n"
     ]
    },
    {
     "name": "stderr",
     "output_type": "stream",
     "text": [
      "/opt/conda/lib/python3.8/site-packages/sklearn/metrics/_classification.py:1245: UndefinedMetricWarning: Precision and F-score are ill-defined and being set to 0.0 in labels with no predicted samples. Use `zero_division` parameter to control this behavior.\n",
      "  _warn_prf(average, modifier, msg_start, len(result))\n",
      "/opt/conda/lib/python3.8/site-packages/sklearn/metrics/_classification.py:1245: UndefinedMetricWarning: Precision and F-score are ill-defined and being set to 0.0 in labels with no predicted samples. Use `zero_division` parameter to control this behavior.\n",
      "  _warn_prf(average, modifier, msg_start, len(result))\n",
      "/opt/conda/lib/python3.8/site-packages/sklearn/metrics/_classification.py:1245: UndefinedMetricWarning: Precision and F-score are ill-defined and being set to 0.0 in labels with no predicted samples. Use `zero_division` parameter to control this behavior.\n",
      "  _warn_prf(average, modifier, msg_start, len(result))\n"
     ]
    },
    {
     "data": {
      "image/png": "[encoded data removed]",
      "text/plain": [
       "<Figure size 432x288 with 2 Axes>"
      ]
     },
     "metadata": {
      "needs_background": "light"
     },
     "output_type": "display_data"
    },
    {
     "name": "stdout",
     "output_type": "stream",
     "text": [
      "              precision    recall  f1-score   support\n",
      "\n",
      "           0       0.83      0.61      0.70        31\n",
      "           1       0.64      0.67      0.65        27\n",
      "           2       0.69      0.88      0.77        25\n",
      "\n",
      "    accuracy                           0.71        83\n",
      "   macro avg       0.72      0.72      0.71        83\n",
      "weighted avg       0.72      0.71      0.71        83\n",
      "\n",
      "\n",
      "--------------------\n",
      "\n",
      "\n",
      "ONEVSREST (WORD2VEC)\n",
      "\n",
      "\n",
      "Tuned one vs rest svm (tuned) parameters: {'estimator__kernel': 'rbf', 'estimator__gamma': 8.941904770477048, 'estimator__C': 30.6}\n"
     ]
    },
    {
     "data": {
      "image/png": "[encoded data removed]",
      "text/plain": [
       "<Figure size 432x288 with 2 Axes>"
      ]
     },
     "metadata": {
      "needs_background": "light"
     },
     "output_type": "display_data"
    },
    {
     "name": "stdout",
     "output_type": "stream",
     "text": [
      "              precision    recall  f1-score   support\n",
      "\n",
      "           0       0.79      0.74      0.77        31\n",
      "           1       0.82      0.67      0.73        27\n",
      "           2       0.72      0.92      0.81        25\n",
      "\n",
      "    accuracy                           0.77        83\n",
      "   macro avg       0.78      0.78      0.77        83\n",
      "weighted avg       0.78      0.77      0.77        83\n",
      "\n",
      "\n",
      "--------------------\n",
      "\n",
      "\n",
      "ONEVSONE (WORD2VEC)\n",
      "\n"
     ]
    },
    {
     "data": {
      "image/png": "[encoded data removed]",
      "text/plain": [
       "<Figure size 432x288 with 2 Axes>"
      ]
     },
     "metadata": {
      "needs_background": "light"
     },
     "output_type": "display_data"
    },
    {
     "name": "stdout",
     "output_type": "stream",
     "text": [
      "              precision    recall  f1-score   support\n",
      "\n",
      "           0       0.79      0.61      0.69        31\n",
      "           1       0.63      0.70      0.67        27\n",
      "           2       0.69      0.80      0.74        25\n",
      "\n",
      "    accuracy                           0.70        83\n",
      "   macro avg       0.70      0.71      0.70        83\n",
      "weighted avg       0.71      0.70      0.70        83\n",
      "\n",
      "\n",
      "--------------------\n",
      "\n",
      "\n",
      "RANDOMFOREST (WORD2VEC)\n",
      "\n"
     ]
    },
    {
     "name": "stderr",
     "output_type": "stream",
     "text": [
      "/opt/conda/lib/python3.8/site-packages/sklearn/model_selection/_search.py:285: UserWarning: The total space of parameters 36 is smaller than n_iter=100. Running 36 iterations. For exhaustive searches, use GridSearchCV.\n",
      "  warnings.warn(\n"
     ]
    },
    {
     "name": "stdout",
     "output_type": "stream",
     "text": [
      "\n",
      "Tuned random forest (tuned) parameters: {'max_features': 0.4, 'max_depth': 5, 'criterion': 'entropy'}\n"
     ]
    },
    {
     "data": {
      "image/png": "[encoded data removed]",
      "text/plain": [
       "<Figure size 432x288 with 2 Axes>"
      ]
     },
     "metadata": {
      "needs_background": "light"
     },
     "output_type": "display_data"
    },
    {
     "name": "stdout",
     "output_type": "stream",
     "text": [
      "              precision    recall  f1-score   support\n",
      "\n",
      "           0       0.76      0.71      0.73        31\n",
      "           1       0.81      0.63      0.71        27\n",
      "           2       0.70      0.92      0.79        25\n",
      "\n",
      "    accuracy                           0.75        83\n",
      "   macro avg       0.76      0.75      0.74        83\n",
      "weighted avg       0.76      0.75      0.74        83\n",
      "\n",
      "\n",
      "--------------------\n",
      "\n",
      "\n",
      "ADABOOST (WORD2VEC)\n",
      "\n"
     ]
    },
    {
     "data": {
      "image/png": "[encoded data removed]",
      "text/plain": [
       "<Figure size 432x288 with 2 Axes>"
      ]
     },
     "metadata": {
      "needs_background": "light"
     },
     "output_type": "display_data"
    },
    {
     "name": "stdout",
     "output_type": "stream",
     "text": [
      "              precision    recall  f1-score   support\n",
      "\n",
      "           0       0.79      0.87      0.83        31\n",
      "           1       0.71      0.63      0.67        27\n",
      "           2       0.76      0.76      0.76        25\n",
      "\n",
      "    accuracy                           0.76        83\n",
      "   macro avg       0.75      0.75      0.75        83\n",
      "weighted avg       0.76      0.76      0.76        83\n",
      "\n",
      "\n",
      "--------------------\n",
      "\n",
      "\n",
      "====================\n",
      "\n",
      "\n",
      "TFIDF\n",
      "\n",
      "Data loaded  tfidf\n",
      "Dataset shape  (413, 3599)\n",
      "Splitting data into train and test\n",
      "Training shape  (330, 3599)\n",
      "Test shape  (83, 3599)\n",
      "Training target distributions \n",
      "0    140\n",
      "2    116\n",
      "1     74\n",
      "Name: classes, dtype: int64\n",
      "Test target distributions \n",
      "0    31\n",
      "1    27\n",
      "2    25\n",
      "Name: classes, dtype: int64\n",
      "\n",
      "--------------------\n",
      "\n",
      "\n",
      "DUMMY (TFIDF)\n",
      "\n"
     ]
    },
    {
     "data": {
      "image/png": "[encoded data removed]",
      "text/plain": [
       "<Figure size 432x288 with 2 Axes>"
      ]
     },
     "metadata": {
      "needs_background": "light"
     },
     "output_type": "display_data"
    },
    {
     "name": "stdout",
     "output_type": "stream",
     "text": [
      "              precision    recall  f1-score   support\n",
      "\n",
      "           0       0.37      1.00      0.54        31\n",
      "           1       0.00      0.00      0.00        27\n",
      "           2       0.00      0.00      0.00        25\n",
      "\n",
      "    accuracy                           0.37        83\n",
      "   macro avg       0.12      0.33      0.18        83\n",
      "weighted avg       0.14      0.37      0.20        83\n",
      "\n",
      "\n",
      "--------------------\n",
      "\n",
      "\n",
      "NAIVEBAYES (TFIDF)\n",
      "\n"
     ]
    },
    {
     "name": "stderr",
     "output_type": "stream",
     "text": [
      "/opt/conda/lib/python3.8/site-packages/sklearn/metrics/_classification.py:1245: UndefinedMetricWarning: Precision and F-score are ill-defined and being set to 0.0 in labels with no predicted samples. Use `zero_division` parameter to control this behavior.\n",
      "  _warn_prf(average, modifier, msg_start, len(result))\n",
      "/opt/conda/lib/python3.8/site-packages/sklearn/metrics/_classification.py:1245: UndefinedMetricWarning: Precision and F-score are ill-defined and being set to 0.0 in labels with no predicted samples. Use `zero_division` parameter to control this behavior.\n",
      "  _warn_prf(average, modifier, msg_start, len(result))\n",
      "/opt/conda/lib/python3.8/site-packages/sklearn/metrics/_classification.py:1245: UndefinedMetricWarning: Precision and F-score are ill-defined and being set to 0.0 in labels with no predicted samples. Use `zero_division` parameter to control this behavior.\n",
      "  _warn_prf(average, modifier, msg_start, len(result))\n"
     ]
    },
    {
     "data": {
      "image/png": "[encoded data removed]",
      "text/plain": [
       "<Figure size 432x288 with 2 Axes>"
      ]
     },
     "metadata": {
      "needs_background": "light"
     },
     "output_type": "display_data"
    },
    {
     "name": "stdout",
     "output_type": "stream",
     "text": [
      "              precision    recall  f1-score   support\n",
      "\n",
      "           0       0.71      0.65      0.68        31\n",
      "           1       0.74      0.52      0.61        27\n",
      "           2       0.58      0.84      0.69        25\n",
      "\n",
      "    accuracy                           0.66        83\n",
      "   macro avg       0.68      0.67      0.66        83\n",
      "weighted avg       0.68      0.66      0.66        83\n",
      "\n",
      "\n",
      "--------------------\n",
      "\n",
      "\n",
      "ONEVSREST (TFIDF)\n",
      "\n",
      "\n",
      "Tuned one vs rest svm (tuned) parameters: {'estimator__kernel': 'linear', 'estimator__gamma': 2.639337533753376, 'estimator__C': 34.300000000000004}\n"
     ]
    },
    {
     "data": {
      "image/png": "[encoded data removed]",
      "text/plain": [
       "<Figure size 432x288 with 2 Axes>"
      ]
     },
     "metadata": {
      "needs_background": "light"
     },
     "output_type": "display_data"
    },
    {
     "name": "stdout",
     "output_type": "stream",
     "text": [
      "              precision    recall  f1-score   support\n",
      "\n",
      "           0       0.84      0.84      0.84        31\n",
      "           1       0.90      0.70      0.79        27\n",
      "           2       0.77      0.96      0.86        25\n",
      "\n",
      "    accuracy                           0.83        83\n",
      "   macro avg       0.84      0.83      0.83        83\n",
      "weighted avg       0.84      0.83      0.83        83\n",
      "\n",
      "\n",
      "--------------------\n",
      "\n",
      "\n",
      "ONEVSONE (TFIDF)\n",
      "\n"
     ]
    },
    {
     "data": {
      "image/png": "[encoded data removed]",
      "text/plain": [
       "<Figure size 432x288 with 2 Axes>"
      ]
     },
     "metadata": {
      "needs_background": "light"
     },
     "output_type": "display_data"
    },
    {
     "name": "stdout",
     "output_type": "stream",
     "text": [
      "              precision    recall  f1-score   support\n",
      "\n",
      "           0       0.81      0.71      0.76        31\n",
      "           1       0.83      0.70      0.76        27\n",
      "           2       0.73      0.96      0.83        25\n",
      "\n",
      "    accuracy                           0.78        83\n",
      "   macro avg       0.79      0.79      0.78        83\n",
      "weighted avg       0.79      0.78      0.78        83\n",
      "\n",
      "\n",
      "--------------------\n",
      "\n",
      "\n",
      "RANDOMFOREST (TFIDF)\n",
      "\n"
     ]
    },
    {
     "name": "stderr",
     "output_type": "stream",
     "text": [
      "/opt/conda/lib/python3.8/site-packages/sklearn/model_selection/_search.py:285: UserWarning: The total space of parameters 36 is smaller than n_iter=100. Running 36 iterations. For exhaustive searches, use GridSearchCV.\n",
      "  warnings.warn(\n"
     ]
    },
    {
     "name": "stdout",
     "output_type": "stream",
     "text": [
      "\n",
      "Tuned random forest (tuned) parameters: {'max_features': 0.3, 'max_depth': 15, 'criterion': 'entropy'}\n"
     ]
    },
    {
     "data": {
      "image/png": "[encoded data removed]",
      "text/plain": [
       "<Figure size 432x288 with 2 Axes>"
      ]
     },
     "metadata": {
      "needs_background": "light"
     },
     "output_type": "display_data"
    },
    {
     "name": "stdout",
     "output_type": "stream",
     "text": [
      "              precision    recall  f1-score   support\n",
      "\n",
      "           0       0.83      0.77      0.80        31\n",
      "           1       0.63      0.70      0.67        27\n",
      "           2       0.83      0.80      0.82        25\n",
      "\n",
      "    accuracy                           0.76        83\n",
      "   macro avg       0.76      0.76      0.76        83\n",
      "weighted avg       0.77      0.76      0.76        83\n",
      "\n",
      "\n",
      "--------------------\n",
      "\n",
      "\n",
      "ADABOOST (TFIDF)\n",
      "\n"
     ]
    },
    {
     "data": {
      "image/png": "[encoded data removed]",
      "text/plain": [
       "<Figure size 432x288 with 2 Axes>"
      ]
     },
     "metadata": {
      "needs_background": "light"
     },
     "output_type": "display_data"
    },
    {
     "name": "stdout",
     "output_type": "stream",
     "text": [
      "              precision    recall  f1-score   support\n",
      "\n",
      "           0       0.84      0.84      0.84        31\n",
      "           1       0.78      0.67      0.72        27\n",
      "           2       0.76      0.88      0.81        25\n",
      "\n",
      "    accuracy                           0.80        83\n",
      "   macro avg       0.79      0.80      0.79        83\n",
      "weighted avg       0.80      0.80      0.79        83\n",
      "\n",
      "\n",
      "--------------------\n",
      "\n",
      "\n",
      "====================\n",
      "\n",
      "\n",
      "NORMBOW\n",
      "\n",
      "Data loaded  normbow\n",
      "Dataset shape  (413, 15677)\n",
      "Splitting data into train and test\n",
      "Training shape  (330, 15677)\n",
      "Test shape  (83, 15677)\n",
      "Training target distributions \n",
      "0    140\n",
      "2    116\n",
      "1     74\n",
      "Name: classes, dtype: int64\n",
      "Test target distributions \n",
      "0    31\n",
      "1    27\n",
      "2    25\n",
      "Name: classes, dtype: int64\n",
      "\n",
      "--------------------\n",
      "\n",
      "\n",
      "DUMMY (NORMBOW)\n",
      "\n"
     ]
    },
    {
     "data": {
      "image/png": "[encoded data removed]",
      "text/plain": [
       "<Figure size 432x288 with 2 Axes>"
      ]
     },
     "metadata": {
      "needs_background": "light"
     },
     "output_type": "display_data"
    },
    {
     "name": "stdout",
     "output_type": "stream",
     "text": [
      "              precision    recall  f1-score   support\n",
      "\n",
      "           0       0.37      1.00      0.54        31\n",
      "           1       0.00      0.00      0.00        27\n",
      "           2       0.00      0.00      0.00        25\n",
      "\n",
      "    accuracy                           0.37        83\n",
      "   macro avg       0.12      0.33      0.18        83\n",
      "weighted avg       0.14      0.37      0.20        83\n",
      "\n",
      "\n",
      "--------------------\n",
      "\n",
      "\n",
      "NAIVEBAYES (NORMBOW)\n",
      "\n"
     ]
    },
    {
     "name": "stderr",
     "output_type": "stream",
     "text": [
      "/opt/conda/lib/python3.8/site-packages/sklearn/metrics/_classification.py:1245: UndefinedMetricWarning: Precision and F-score are ill-defined and being set to 0.0 in labels with no predicted samples. Use `zero_division` parameter to control this behavior.\n",
      "  _warn_prf(average, modifier, msg_start, len(result))\n",
      "/opt/conda/lib/python3.8/site-packages/sklearn/metrics/_classification.py:1245: UndefinedMetricWarning: Precision and F-score are ill-defined and being set to 0.0 in labels with no predicted samples. Use `zero_division` parameter to control this behavior.\n",
      "  _warn_prf(average, modifier, msg_start, len(result))\n",
      "/opt/conda/lib/python3.8/site-packages/sklearn/metrics/_classification.py:1245: UndefinedMetricWarning: Precision and F-score are ill-defined and being set to 0.0 in labels with no predicted samples. Use `zero_division` parameter to control this behavior.\n",
      "  _warn_prf(average, modifier, msg_start, len(result))\n"
     ]
    },
    {
     "data": {
      "image/png": "[encoded data removed]",
      "text/plain": [
       "<Figure size 432x288 with 2 Axes>"
      ]
     },
     "metadata": {
      "needs_background": "light"
     },
     "output_type": "display_data"
    },
    {
     "name": "stdout",
     "output_type": "stream",
     "text": [
      "              precision    recall  f1-score   support\n",
      "\n",
      "           0       0.74      0.65      0.69        31\n",
      "           1       0.67      0.44      0.53        27\n",
      "           2       0.55      0.84      0.67        25\n",
      "\n",
      "    accuracy                           0.64        83\n",
      "   macro avg       0.65      0.64      0.63        83\n",
      "weighted avg       0.66      0.64      0.63        83\n",
      "\n",
      "\n",
      "--------------------\n",
      "\n",
      "\n",
      "ONEVSREST (NORMBOW)\n",
      "\n",
      "\n",
      "Tuned one vs rest svm (tuned) parameters: {'estimator__kernel': 'rbf', 'estimator__gamma': 0.38613474347434745, 'estimator__C': 37.900000000000006}\n"
     ]
    },
    {
     "data": {
      "image/png": "[encoded data removed]",
      "text/plain": [
       "<Figure size 432x288 with 2 Axes>"
      ]
     },
     "metadata": {
      "needs_background": "light"
     },
     "output_type": "display_data"
    },
    {
     "name": "stdout",
     "output_type": "stream",
     "text": [
      "              precision    recall  f1-score   support\n",
      "\n",
      "           0       0.83      0.77      0.80        31\n",
      "           1       0.86      0.70      0.78        27\n",
      "           2       0.75      0.96      0.84        25\n",
      "\n",
      "    accuracy                           0.81        83\n",
      "   macro avg       0.81      0.81      0.81        83\n",
      "weighted avg       0.82      0.81      0.80        83\n",
      "\n",
      "\n",
      "--------------------\n",
      "\n",
      "\n",
      "ONEVSONE (NORMBOW)\n",
      "\n"
     ]
    },
    {
     "data": {
      "image/png": "[encoded data removed]",
      "text/plain": [
       "<Figure size 432x288 with 2 Axes>"
      ]
     },
     "metadata": {
      "needs_background": "light"
     },
     "output_type": "display_data"
    },
    {
     "name": "stdout",
     "output_type": "stream",
     "text": [
      "              precision    recall  f1-score   support\n",
      "\n",
      "           0       0.83      0.77      0.80        31\n",
      "           1       0.82      0.67      0.73        27\n",
      "           2       0.75      0.96      0.84        25\n",
      "\n",
      "    accuracy                           0.80        83\n",
      "   macro avg       0.80      0.80      0.79        83\n",
      "weighted avg       0.80      0.80      0.79        83\n",
      "\n",
      "\n",
      "--------------------\n",
      "\n",
      "\n",
      "RANDOMFOREST (NORMBOW)\n",
      "\n"
     ]
    },
    {
     "name": "stderr",
     "output_type": "stream",
     "text": [
      "/opt/conda/lib/python3.8/site-packages/sklearn/model_selection/_search.py:285: UserWarning: The total space of parameters 36 is smaller than n_iter=100. Running 36 iterations. For exhaustive searches, use GridSearchCV.\n",
      "  warnings.warn(\n"
     ]
    },
    {
     "name": "stdout",
     "output_type": "stream",
     "text": [
      "\n",
      "Tuned random forest (tuned) parameters: {'max_features': 0.4, 'max_depth': 10, 'criterion': 'gini'}\n"
     ]
    },
    {
     "data": {
      "image/png": "[encoded data removed]",
      "text/plain": [
       "<Figure size 432x288 with 2 Axes>"
      ]
     },
     "metadata": {
      "needs_background": "light"
     },
     "output_type": "display_data"
    },
    {
     "name": "stdout",
     "output_type": "stream",
     "text": [
      "              precision    recall  f1-score   support\n",
      "\n",
      "           0       0.83      0.77      0.80        31\n",
      "           1       0.62      0.67      0.64        27\n",
      "           2       0.80      0.80      0.80        25\n",
      "\n",
      "    accuracy                           0.75        83\n",
      "   macro avg       0.75      0.75      0.75        83\n",
      "weighted avg       0.75      0.75      0.75        83\n",
      "\n",
      "\n",
      "--------------------\n",
      "\n",
      "\n",
      "ADABOOST (NORMBOW)\n",
      "\n"
     ]
    },
    {
     "data": {
      "image/png": "[encoded data removed]",
      "text/plain": [
       "<Figure size 432x288 with 2 Axes>"
      ]
     },
     "metadata": {
      "needs_background": "light"
     },
     "output_type": "display_data"
    },
    {
     "name": "stdout",
     "output_type": "stream",
     "text": [
      "              precision    recall  f1-score   support\n",
      "\n",
      "           0       0.79      0.71      0.75        31\n",
      "           1       0.67      0.67      0.67        27\n",
      "           2       0.71      0.80      0.75        25\n",
      "\n",
      "    accuracy                           0.72        83\n",
      "   macro avg       0.72      0.73      0.72        83\n",
      "weighted avg       0.73      0.72      0.72        83\n",
      "\n",
      "\n",
      "--------------------\n",
      "\n",
      "\n",
      "====================\n",
      "\n",
      "CPU times: user 1h 23min 32s, sys: 57min 2s, total: 2h 20min 35s\n",
      "Wall time: 42min 58s\n"
     ]
    }
   ],
   "source": [
    "%%time\n",
    "\n",
    "embeddings = ['word2vec','tfidf','normbow']\n",
    "models = ['dummy', 'naivebayes', 'onevsrest', 'onevsone', 'randomforest','adaboost']\n",
    "\n",
    "eval_list = []\n",
    "for embedding in embeddings:\n",
    "    print(\"\\n{0}\\n\".format(embedding.upper()))\n",
    "    X_train, Y_train, X_test, Y_test = import_data(embedding)\n",
    "    print(\"\\n{0}\\n\".format(20 * \"-\"))\n",
    "    for model in models:\n",
    "        t0 = datetime.now()\n",
    "        print(\"\\n{0} ({1})\\n\".format(model.upper(), embedding.upper()))\n",
    "        eval_dict = fit_predict(model, X_train, Y_train, X_test, Y_test)        \n",
    "        t1 = datetime.now()\n",
    "        eval_dict[\"Embedding\"] = embedding\n",
    "        eval_dict[\"Train & test duration (s)\"] = (t1 - t0).total_seconds()\n",
    "#         eval_dict[\"Train & test duration\"] = \"{0:.2f} seconds\".format((t1 - t0).total_seconds())\n",
    "        eval_list.append(eval_dict)\n",
    "        print(\"\\n{0}\\n\".format(20 * \"-\"))\n",
    "    print(\"\\n{0}\\n\".format(20 * \"=\"))"
   ]
  },
  {
   "cell_type": "code",
   "execution_count": 5,
   "id": "0d898b13",
   "metadata": {},
   "outputs": [
    {
     "data": {
      "text/html": [
       "<style  type=\"text/css\" >\n",
       "#T_20eb2_row0_col2,#T_20eb2_row1_col2,#T_20eb2_row2_col7,#T_20eb2_row3_col2,#T_20eb2_row5_col2,#T_20eb2_row6_col2,#T_20eb2_row7_col2,#T_20eb2_row8_col7,#T_20eb2_row9_col2,#T_20eb2_row12_col2,#T_20eb2_row13_col2,#T_20eb2_row14_col7{\n",
       "            background-color:  #fff5f0;\n",
       "            color:  #000000;\n",
       "        }#T_20eb2_row0_col3,#T_20eb2_row0_col4,#T_20eb2_row0_col6,#T_20eb2_row1_col5,#T_20eb2_row3_col5,#T_20eb2_row6_col3,#T_20eb2_row6_col4,#T_20eb2_row6_col6,#T_20eb2_row12_col3,#T_20eb2_row12_col4,#T_20eb2_row12_col6{\n",
       "            background-color:  #f7fcf5;\n",
       "            color:  #000000;\n",
       "        }#T_20eb2_row0_col5,#T_20eb2_row2_col6,#T_20eb2_row6_col5,#T_20eb2_row8_col3,#T_20eb2_row8_col4,#T_20eb2_row11_col4,#T_20eb2_row12_col5,#T_20eb2_row14_col6{\n",
       "            background-color:  #00441b;\n",
       "            color:  #f1f1f1;\n",
       "        }#T_20eb2_row0_col7,#T_20eb2_row6_col7,#T_20eb2_row12_col7,#T_20eb2_row16_col2{\n",
       "            background-color:  #67000d;\n",
       "            color:  #f1f1f1;\n",
       "        }#T_20eb2_row1_col3{\n",
       "            background-color:  #268e47;\n",
       "            color:  #000000;\n",
       "        }#T_20eb2_row1_col4,#T_20eb2_row4_col6,#T_20eb2_row8_col6,#T_20eb2_row10_col4,#T_20eb2_row14_col4,#T_20eb2_row15_col4,#T_20eb2_row16_col4{\n",
       "            background-color:  #004c1e;\n",
       "            color:  #f1f1f1;\n",
       "        }#T_20eb2_row1_col6{\n",
       "            background-color:  #006729;\n",
       "            color:  #f1f1f1;\n",
       "        }#T_20eb2_row1_col7{\n",
       "            background-color:  #fcb296;\n",
       "            color:  #000000;\n",
       "        }#T_20eb2_row2_col2,#T_20eb2_row10_col7,#T_20eb2_row11_col2,#T_20eb2_row16_col7{\n",
       "            background-color:  #fff4ef;\n",
       "            color:  #000000;\n",
       "        }#T_20eb2_row2_col3{\n",
       "            background-color:  #016e2d;\n",
       "            color:  #f1f1f1;\n",
       "        }#T_20eb2_row2_col4,#T_20eb2_row3_col4{\n",
       "            background-color:  #006428;\n",
       "            color:  #f1f1f1;\n",
       "        }#T_20eb2_row2_col5{\n",
       "            background-color:  #aedea7;\n",
       "            color:  #000000;\n",
       "        }#T_20eb2_row3_col3{\n",
       "            background-color:  #2d954d;\n",
       "            color:  #000000;\n",
       "        }#T_20eb2_row3_col6,#T_20eb2_row3_col7,#T_20eb2_row9_col6,#T_20eb2_row9_col7,#T_20eb2_row15_col6,#T_20eb2_row15_col7{\n",
       "            background-color:  #000000;\n",
       "            color:  #f1f1f1;\n",
       "        }#T_20eb2_row4_col2{\n",
       "            background-color:  #fc997a;\n",
       "            color:  #000000;\n",
       "        }#T_20eb2_row4_col3,#T_20eb2_row16_col3{\n",
       "            background-color:  #117b38;\n",
       "            color:  #f1f1f1;\n",
       "        }#T_20eb2_row4_col4{\n",
       "            background-color:  #0d7836;\n",
       "            color:  #f1f1f1;\n",
       "        }#T_20eb2_row4_col5,#T_20eb2_row9_col5,#T_20eb2_row17_col5{\n",
       "            background-color:  #c7e9c0;\n",
       "            color:  #000000;\n",
       "        }#T_20eb2_row4_col7,#T_20eb2_row15_col2{\n",
       "            background-color:  #fff4ee;\n",
       "            color:  #000000;\n",
       "        }#T_20eb2_row5_col3,#T_20eb2_row10_col3{\n",
       "            background-color:  #097532;\n",
       "            color:  #f1f1f1;\n",
       "        }#T_20eb2_row5_col4{\n",
       "            background-color:  #006328;\n",
       "            color:  #f1f1f1;\n",
       "        }#T_20eb2_row5_col5{\n",
       "            background-color:  #37a055;\n",
       "            color:  #000000;\n",
       "        }#T_20eb2_row5_col6{\n",
       "            background-color:  #005221;\n",
       "            color:  #f1f1f1;\n",
       "        }#T_20eb2_row5_col7,#T_20eb2_row11_col7,#T_20eb2_row17_col7{\n",
       "            background-color:  #fff1ea;\n",
       "            color:  #000000;\n",
       "        }#T_20eb2_row7_col3{\n",
       "            background-color:  #3fa95c;\n",
       "            color:  #000000;\n",
       "        }#T_20eb2_row7_col4{\n",
       "            background-color:  #278f48;\n",
       "            color:  #000000;\n",
       "        }#T_20eb2_row7_col5,#T_20eb2_row13_col5{\n",
       "            background-color:  #ebf7e7;\n",
       "            color:  #000000;\n",
       "        }#T_20eb2_row7_col6{\n",
       "            background-color:  #55b567;\n",
       "            color:  #000000;\n",
       "        }#T_20eb2_row7_col7{\n",
       "            background-color:  #f85f43;\n",
       "            color:  #000000;\n",
       "        }#T_20eb2_row8_col2{\n",
       "            background-color:  #fee1d3;\n",
       "            color:  #000000;\n",
       "        }#T_20eb2_row8_col5,#T_20eb2_row11_col5{\n",
       "            background-color:  #52b365;\n",
       "            color:  #000000;\n",
       "        }#T_20eb2_row9_col3,#T_20eb2_row11_col6{\n",
       "            background-color:  #006529;\n",
       "            color:  #f1f1f1;\n",
       "        }#T_20eb2_row9_col4,#T_20eb2_row14_col3{\n",
       "            background-color:  #005522;\n",
       "            color:  #f1f1f1;\n",
       "        }#T_20eb2_row10_col2{\n",
       "            background-color:  #fc8a6a;\n",
       "            color:  #000000;\n",
       "        }#T_20eb2_row10_col5,#T_20eb2_row14_col5,#T_20eb2_row15_col5,#T_20eb2_row16_col5{\n",
       "            background-color:  #92d28f;\n",
       "            color:  #000000;\n",
       "        }#T_20eb2_row10_col6{\n",
       "            background-color:  #005321;\n",
       "            color:  #f1f1f1;\n",
       "        }#T_20eb2_row11_col3,#T_20eb2_row15_col3{\n",
       "            background-color:  #005e26;\n",
       "            color:  #f1f1f1;\n",
       "        }#T_20eb2_row13_col3{\n",
       "            background-color:  #53b466;\n",
       "            color:  #000000;\n",
       "        }#T_20eb2_row13_col4{\n",
       "            background-color:  #17813d;\n",
       "            color:  #f1f1f1;\n",
       "        }#T_20eb2_row13_col6{\n",
       "            background-color:  #65bd6f;\n",
       "            color:  #000000;\n",
       "        }#T_20eb2_row13_col7{\n",
       "            background-color:  #f4503a;\n",
       "            color:  #000000;\n",
       "        }#T_20eb2_row14_col2{\n",
       "            background-color:  #920a13;\n",
       "            color:  #f1f1f1;\n",
       "        }#T_20eb2_row16_col6{\n",
       "            background-color:  #005120;\n",
       "            color:  #f1f1f1;\n",
       "        }#T_20eb2_row17_col2{\n",
       "            background-color:  #fff3ed;\n",
       "            color:  #000000;\n",
       "        }#T_20eb2_row17_col3{\n",
       "            background-color:  #1f8742;\n",
       "            color:  #000000;\n",
       "        }#T_20eb2_row17_col4{\n",
       "            background-color:  #00692a;\n",
       "            color:  #f1f1f1;\n",
       "        }#T_20eb2_row17_col6{\n",
       "            background-color:  #00682a;\n",
       "            color:  #f1f1f1;\n",
       "        }</style><table id=\"T_20eb2_\" ><thead>    <tr>        <th class=\"blank level0\" ></th>        <th class=\"col_heading level0 col0\" >Model</th>        <th class=\"col_heading level0 col1\" >Embedding</th>        <th class=\"col_heading level0 col2\" >Train & test duration (s)</th>        <th class=\"col_heading level0 col3\" >Accuracy</th>        <th class=\"col_heading level0 col4\" >Precision (class 0)</th>        <th class=\"col_heading level0 col5\" >Recall (class 0)</th>        <th class=\"col_heading level0 col6\" >ROC AUC (ovr)</th>        <th class=\"col_heading level0 col7\" >Cross-entropy loss</th>    </tr></thead><tbody>\n",
       "                <tr>\n",
       "                        <th id=\"T_20eb2_level0_row0\" class=\"row_heading level0 row0\" >0</th>\n",
       "                        <td id=\"T_20eb2_row0_col0\" class=\"data row0 col0\" >pick most frequent</td>\n",
       "                        <td id=\"T_20eb2_row0_col1\" class=\"data row0 col1\" >word2vec</td>\n",
       "                        <td id=\"T_20eb2_row0_col2\" class=\"data row0 col2\" >0.192725</td>\n",
       "                        <td id=\"T_20eb2_row0_col3\" class=\"data row0 col3\" >0.373494</td>\n",
       "                        <td id=\"T_20eb2_row0_col4\" class=\"data row0 col4\" >0.373494</td>\n",
       "                        <td id=\"T_20eb2_row0_col5\" class=\"data row0 col5\" >1.000000</td>\n",
       "                        <td id=\"T_20eb2_row0_col6\" class=\"data row0 col6\" >0.500000</td>\n",
       "                        <td id=\"T_20eb2_row0_col7\" class=\"data row0 col7\" >21.638751</td>\n",
       "            </tr>\n",
       "            <tr>\n",
       "                        <th id=\"T_20eb2_level0_row1\" class=\"row_heading level0 row1\" >1</th>\n",
       "                        <td id=\"T_20eb2_row1_col0\" class=\"data row1 col0\" >naive bayes</td>\n",
       "                        <td id=\"T_20eb2_row1_col1\" class=\"data row1 col1\" >word2vec</td>\n",
       "                        <td id=\"T_20eb2_row1_col2\" class=\"data row1 col2\" >0.182825</td>\n",
       "                        <td id=\"T_20eb2_row1_col3\" class=\"data row1 col3\" >0.710843</td>\n",
       "                        <td id=\"T_20eb2_row1_col4\" class=\"data row1 col4\" >0.826087</td>\n",
       "                        <td id=\"T_20eb2_row1_col5\" class=\"data row1 col5\" >0.612903</td>\n",
       "                        <td id=\"T_20eb2_row1_col6\" class=\"data row1 col6\" >0.886588</td>\n",
       "                        <td id=\"T_20eb2_row1_col7\" class=\"data row1 col7\" >6.432517</td>\n",
       "            </tr>\n",
       "            <tr>\n",
       "                        <th id=\"T_20eb2_level0_row2\" class=\"row_heading level0 row2\" >2</th>\n",
       "                        <td id=\"T_20eb2_row2_col0\" class=\"data row2 col0\" >one vs rest svm (tuned)</td>\n",
       "                        <td id=\"T_20eb2_row2_col1\" class=\"data row2 col1\" >word2vec</td>\n",
       "                        <td id=\"T_20eb2_row2_col2\" class=\"data row2 col2\" >4.945345</td>\n",
       "                        <td id=\"T_20eb2_row2_col3\" class=\"data row2 col3\" >0.771084</td>\n",
       "                        <td id=\"T_20eb2_row2_col4\" class=\"data row2 col4\" >0.793103</td>\n",
       "                        <td id=\"T_20eb2_row2_col5\" class=\"data row2 col5\" >0.741935</td>\n",
       "                        <td id=\"T_20eb2_row2_col6\" class=\"data row2 col6\" >0.932125</td>\n",
       "                        <td id=\"T_20eb2_row2_col7\" class=\"data row2 col7\" >0.499993</td>\n",
       "            </tr>\n",
       "            <tr>\n",
       "                        <th id=\"T_20eb2_level0_row3\" class=\"row_heading level0 row3\" >3</th>\n",
       "                        <td id=\"T_20eb2_row3_col0\" class=\"data row3 col0\" >one vs one svm</td>\n",
       "                        <td id=\"T_20eb2_row3_col1\" class=\"data row3 col1\" >word2vec</td>\n",
       "                        <td id=\"T_20eb2_row3_col2\" class=\"data row3 col2\" >0.207393</td>\n",
       "                        <td id=\"T_20eb2_row3_col3\" class=\"data row3 col3\" >0.698795</td>\n",
       "                        <td id=\"T_20eb2_row3_col4\" class=\"data row3 col4\" >0.791667</td>\n",
       "                        <td id=\"T_20eb2_row3_col5\" class=\"data row3 col5\" >0.612903</td>\n",
       "                        <td id=\"T_20eb2_row3_col6\" class=\"data row3 col6\" >nan</td>\n",
       "                        <td id=\"T_20eb2_row3_col7\" class=\"data row3 col7\" >nan</td>\n",
       "            </tr>\n",
       "            <tr>\n",
       "                        <th id=\"T_20eb2_level0_row4\" class=\"row_heading level0 row4\" >4</th>\n",
       "                        <td id=\"T_20eb2_row4_col0\" class=\"data row4 col0\" >random forest (tuned)</td>\n",
       "                        <td id=\"T_20eb2_row4_col1\" class=\"data row4 col1\" >word2vec</td>\n",
       "                        <td id=\"T_20eb2_row4_col2\" class=\"data row4 col2\" >321.659330</td>\n",
       "                        <td id=\"T_20eb2_row4_col3\" class=\"data row4 col3\" >0.746988</td>\n",
       "                        <td id=\"T_20eb2_row4_col4\" class=\"data row4 col4\" >0.758621</td>\n",
       "                        <td id=\"T_20eb2_row4_col5\" class=\"data row4 col5\" >0.709677</td>\n",
       "                        <td id=\"T_20eb2_row4_col6\" class=\"data row4 col6\" >0.920587</td>\n",
       "                        <td id=\"T_20eb2_row4_col7\" class=\"data row4 col7\" >0.680101</td>\n",
       "            </tr>\n",
       "            <tr>\n",
       "                        <th id=\"T_20eb2_level0_row5\" class=\"row_heading level0 row5\" >5</th>\n",
       "                        <td id=\"T_20eb2_row5_col0\" class=\"data row5 col0\" >ada boost</td>\n",
       "                        <td id=\"T_20eb2_row5_col1\" class=\"data row5 col1\" >word2vec</td>\n",
       "                        <td id=\"T_20eb2_row5_col2\" class=\"data row5 col2\" >2.787393</td>\n",
       "                        <td id=\"T_20eb2_row5_col3\" class=\"data row5 col3\" >0.759036</td>\n",
       "                        <td id=\"T_20eb2_row5_col4\" class=\"data row5 col4\" >0.794118</td>\n",
       "                        <td id=\"T_20eb2_row5_col5\" class=\"data row5 col5\" >0.870968</td>\n",
       "                        <td id=\"T_20eb2_row5_col6\" class=\"data row5 col6\" >0.913249</td>\n",
       "                        <td id=\"T_20eb2_row5_col7\" class=\"data row5 col7\" >1.021675</td>\n",
       "            </tr>\n",
       "            <tr>\n",
       "                        <th id=\"T_20eb2_level0_row6\" class=\"row_heading level0 row6\" >6</th>\n",
       "                        <td id=\"T_20eb2_row6_col0\" class=\"data row6 col0\" >pick most frequent</td>\n",
       "                        <td id=\"T_20eb2_row6_col1\" class=\"data row6 col1\" >tfidf</td>\n",
       "                        <td id=\"T_20eb2_row6_col2\" class=\"data row6 col2\" >0.146567</td>\n",
       "                        <td id=\"T_20eb2_row6_col3\" class=\"data row6 col3\" >0.373494</td>\n",
       "                        <td id=\"T_20eb2_row6_col4\" class=\"data row6 col4\" >0.373494</td>\n",
       "                        <td id=\"T_20eb2_row6_col5\" class=\"data row6 col5\" >1.000000</td>\n",
       "                        <td id=\"T_20eb2_row6_col6\" class=\"data row6 col6\" >0.500000</td>\n",
       "                        <td id=\"T_20eb2_row6_col7\" class=\"data row6 col7\" >21.638751</td>\n",
       "            </tr>\n",
       "            <tr>\n",
       "                        <th id=\"T_20eb2_level0_row7\" class=\"row_heading level0 row7\" >7</th>\n",
       "                        <td id=\"T_20eb2_row7_col0\" class=\"data row7 col0\" >naive bayes</td>\n",
       "                        <td id=\"T_20eb2_row7_col1\" class=\"data row7 col1\" >tfidf</td>\n",
       "                        <td id=\"T_20eb2_row7_col2\" class=\"data row7 col2\" >0.202608</td>\n",
       "                        <td id=\"T_20eb2_row7_col3\" class=\"data row7 col3\" >0.662651</td>\n",
       "                        <td id=\"T_20eb2_row7_col4\" class=\"data row7 col4\" >0.714286</td>\n",
       "                        <td id=\"T_20eb2_row7_col5\" class=\"data row7 col5\" >0.645161</td>\n",
       "                        <td id=\"T_20eb2_row7_col6\" class=\"data row7 col6\" >0.748888</td>\n",
       "                        <td id=\"T_20eb2_row7_col7\" class=\"data row7 col7\" >11.651635</td>\n",
       "            </tr>\n",
       "            <tr>\n",
       "                        <th id=\"T_20eb2_level0_row8\" class=\"row_heading level0 row8\" >8</th>\n",
       "                        <td id=\"T_20eb2_row8_col0\" class=\"data row8 col0\" >one vs rest svm (tuned)</td>\n",
       "                        <td id=\"T_20eb2_row8_col1\" class=\"data row8 col1\" >tfidf</td>\n",
       "                        <td id=\"T_20eb2_row8_col2\" class=\"data row8 col2\" >112.005206</td>\n",
       "                        <td id=\"T_20eb2_row8_col3\" class=\"data row8 col3\" >0.831325</td>\n",
       "                        <td id=\"T_20eb2_row8_col4\" class=\"data row8 col4\" >0.838710</td>\n",
       "                        <td id=\"T_20eb2_row8_col5\" class=\"data row8 col5\" >0.838710</td>\n",
       "                        <td id=\"T_20eb2_row8_col6\" class=\"data row8 col6\" >0.921360</td>\n",
       "                        <td id=\"T_20eb2_row8_col7\" class=\"data row8 col7\" >0.560889</td>\n",
       "            </tr>\n",
       "            <tr>\n",
       "                        <th id=\"T_20eb2_level0_row9\" class=\"row_heading level0 row9\" >9</th>\n",
       "                        <td id=\"T_20eb2_row9_col0\" class=\"data row9 col0\" >one vs one svm</td>\n",
       "                        <td id=\"T_20eb2_row9_col1\" class=\"data row9 col1\" >tfidf</td>\n",
       "                        <td id=\"T_20eb2_row9_col2\" class=\"data row9 col2\" >1.130396</td>\n",
       "                        <td id=\"T_20eb2_row9_col3\" class=\"data row9 col3\" >0.783133</td>\n",
       "                        <td id=\"T_20eb2_row9_col4\" class=\"data row9 col4\" >0.814815</td>\n",
       "                        <td id=\"T_20eb2_row9_col5\" class=\"data row9 col5\" >0.709677</td>\n",
       "                        <td id=\"T_20eb2_row9_col6\" class=\"data row9 col6\" >nan</td>\n",
       "                        <td id=\"T_20eb2_row9_col7\" class=\"data row9 col7\" >nan</td>\n",
       "            </tr>\n",
       "            <tr>\n",
       "                        <th id=\"T_20eb2_level0_row10\" class=\"row_heading level0 row10\" >10</th>\n",
       "                        <td id=\"T_20eb2_row10_col0\" class=\"data row10 col0\" >random forest (tuned)</td>\n",
       "                        <td id=\"T_20eb2_row10_col1\" class=\"data row10 col1\" >tfidf</td>\n",
       "                        <td id=\"T_20eb2_row10_col2\" class=\"data row10 col2\" >365.288574</td>\n",
       "                        <td id=\"T_20eb2_row10_col3\" class=\"data row10 col3\" >0.759036</td>\n",
       "                        <td id=\"T_20eb2_row10_col4\" class=\"data row10 col4\" >0.827586</td>\n",
       "                        <td id=\"T_20eb2_row10_col5\" class=\"data row10 col5\" >0.774194</td>\n",
       "                        <td id=\"T_20eb2_row10_col6\" class=\"data row10 col6\" >0.910711</td>\n",
       "                        <td id=\"T_20eb2_row10_col7\" class=\"data row10 col7\" >0.601551</td>\n",
       "            </tr>\n",
       "            <tr>\n",
       "                        <th id=\"T_20eb2_level0_row11\" class=\"row_heading level0 row11\" >11</th>\n",
       "                        <td id=\"T_20eb2_row11_col0\" class=\"data row11 col0\" >ada boost</td>\n",
       "                        <td id=\"T_20eb2_row11_col1\" class=\"data row11 col1\" >tfidf</td>\n",
       "                        <td id=\"T_20eb2_row11_col2\" class=\"data row11 col2\" >4.661239</td>\n",
       "                        <td id=\"T_20eb2_row11_col3\" class=\"data row11 col3\" >0.795181</td>\n",
       "                        <td id=\"T_20eb2_row11_col4\" class=\"data row11 col4\" >0.838710</td>\n",
       "                        <td id=\"T_20eb2_row11_col5\" class=\"data row11 col5\" >0.838710</td>\n",
       "                        <td id=\"T_20eb2_row11_col6\" class=\"data row11 col6\" >0.887929</td>\n",
       "                        <td id=\"T_20eb2_row11_col7\" class=\"data row11 col7\" >1.032259</td>\n",
       "            </tr>\n",
       "            <tr>\n",
       "                        <th id=\"T_20eb2_level0_row12\" class=\"row_heading level0 row12\" >12</th>\n",
       "                        <td id=\"T_20eb2_row12_col0\" class=\"data row12 col0\" >pick most frequent</td>\n",
       "                        <td id=\"T_20eb2_row12_col1\" class=\"data row12 col1\" >normbow</td>\n",
       "                        <td id=\"T_20eb2_row12_col2\" class=\"data row12 col2\" >0.169211</td>\n",
       "                        <td id=\"T_20eb2_row12_col3\" class=\"data row12 col3\" >0.373494</td>\n",
       "                        <td id=\"T_20eb2_row12_col4\" class=\"data row12 col4\" >0.373494</td>\n",
       "                        <td id=\"T_20eb2_row12_col5\" class=\"data row12 col5\" >1.000000</td>\n",
       "                        <td id=\"T_20eb2_row12_col6\" class=\"data row12 col6\" >0.500000</td>\n",
       "                        <td id=\"T_20eb2_row12_col7\" class=\"data row12 col7\" >21.638751</td>\n",
       "            </tr>\n",
       "            <tr>\n",
       "                        <th id=\"T_20eb2_level0_row13\" class=\"row_heading level0 row13\" >13</th>\n",
       "                        <td id=\"T_20eb2_row13_col0\" class=\"data row13 col0\" >naive bayes</td>\n",
       "                        <td id=\"T_20eb2_row13_col1\" class=\"data row13 col1\" >normbow</td>\n",
       "                        <td id=\"T_20eb2_row13_col2\" class=\"data row13 col2\" >0.302951</td>\n",
       "                        <td id=\"T_20eb2_row13_col3\" class=\"data row13 col3\" >0.638554</td>\n",
       "                        <td id=\"T_20eb2_row13_col4\" class=\"data row13 col4\" >0.740741</td>\n",
       "                        <td id=\"T_20eb2_row13_col5\" class=\"data row13 col5\" >0.645161</td>\n",
       "                        <td id=\"T_20eb2_row13_col6\" class=\"data row13 col6\" >0.732457</td>\n",
       "                        <td id=\"T_20eb2_row13_col7\" class=\"data row13 col7\" >12.483895</td>\n",
       "            </tr>\n",
       "            <tr>\n",
       "                        <th id=\"T_20eb2_level0_row14\" class=\"row_heading level0 row14\" >14</th>\n",
       "                        <td id=\"T_20eb2_row14_col0\" class=\"data row14 col0\" >one vs rest svm (tuned)</td>\n",
       "                        <td id=\"T_20eb2_row14_col1\" class=\"data row14 col1\" >normbow</td>\n",
       "                        <td id=\"T_20eb2_row14_col2\" class=\"data row14 col2\" >829.962840</td>\n",
       "                        <td id=\"T_20eb2_row14_col3\" class=\"data row14 col3\" >0.807229</td>\n",
       "                        <td id=\"T_20eb2_row14_col4\" class=\"data row14 col4\" >0.827586</td>\n",
       "                        <td id=\"T_20eb2_row14_col5\" class=\"data row14 col5\" >0.774194</td>\n",
       "                        <td id=\"T_20eb2_row14_col6\" class=\"data row14 col6\" >0.932356</td>\n",
       "                        <td id=\"T_20eb2_row14_col7\" class=\"data row14 col7\" >0.508190</td>\n",
       "            </tr>\n",
       "            <tr>\n",
       "                        <th id=\"T_20eb2_level0_row15\" class=\"row_heading level0 row15\" >15</th>\n",
       "                        <td id=\"T_20eb2_row15_col0\" class=\"data row15 col0\" >one vs one svm</td>\n",
       "                        <td id=\"T_20eb2_row15_col1\" class=\"data row15 col1\" >normbow</td>\n",
       "                        <td id=\"T_20eb2_row15_col2\" class=\"data row15 col2\" >7.939095</td>\n",
       "                        <td id=\"T_20eb2_row15_col3\" class=\"data row15 col3\" >0.795181</td>\n",
       "                        <td id=\"T_20eb2_row15_col4\" class=\"data row15 col4\" >0.827586</td>\n",
       "                        <td id=\"T_20eb2_row15_col5\" class=\"data row15 col5\" >0.774194</td>\n",
       "                        <td id=\"T_20eb2_row15_col6\" class=\"data row15 col6\" >nan</td>\n",
       "                        <td id=\"T_20eb2_row15_col7\" class=\"data row15 col7\" >nan</td>\n",
       "            </tr>\n",
       "            <tr>\n",
       "                        <th id=\"T_20eb2_level0_row16\" class=\"row_heading level0 row16\" >16</th>\n",
       "                        <td id=\"T_20eb2_row16_col0\" class=\"data row16 col0\" >random forest (tuned)</td>\n",
       "                        <td id=\"T_20eb2_row16_col1\" class=\"data row16 col1\" >normbow</td>\n",
       "                        <td id=\"T_20eb2_row16_col2\" class=\"data row16 col2\" >910.180814</td>\n",
       "                        <td id=\"T_20eb2_row16_col3\" class=\"data row16 col3\" >0.746988</td>\n",
       "                        <td id=\"T_20eb2_row16_col4\" class=\"data row16 col4\" >0.827586</td>\n",
       "                        <td id=\"T_20eb2_row16_col5\" class=\"data row16 col5\" >0.774194</td>\n",
       "                        <td id=\"T_20eb2_row16_col6\" class=\"data row16 col6\" >0.914127</td>\n",
       "                        <td id=\"T_20eb2_row16_col7\" class=\"data row16 col7\" >0.584486</td>\n",
       "            </tr>\n",
       "            <tr>\n",
       "                        <th id=\"T_20eb2_level0_row17\" class=\"row_heading level0 row17\" >17</th>\n",
       "                        <td id=\"T_20eb2_row17_col0\" class=\"data row17 col0\" >ada boost</td>\n",
       "                        <td id=\"T_20eb2_row17_col1\" class=\"data row17 col1\" >normbow</td>\n",
       "                        <td id=\"T_20eb2_row17_col2\" class=\"data row17 col2\" >11.937916</td>\n",
       "                        <td id=\"T_20eb2_row17_col3\" class=\"data row17 col3\" >0.722892</td>\n",
       "                        <td id=\"T_20eb2_row17_col4\" class=\"data row17 col4\" >0.785714</td>\n",
       "                        <td id=\"T_20eb2_row17_col5\" class=\"data row17 col5\" >0.709677</td>\n",
       "                        <td id=\"T_20eb2_row17_col6\" class=\"data row17 col6\" >0.884558</td>\n",
       "                        <td id=\"T_20eb2_row17_col7\" class=\"data row17 col7\" >1.032399</td>\n",
       "            </tr>\n",
       "    </tbody></table>"
      ],
      "text/plain": [
       "<pandas.io.formats.style.Styler at 0x7fc600e48d90>"
      ]
     },
     "execution_count": 5,
     "metadata": {},
     "output_type": "execute_result"
    }
   ],
   "source": [
    "eval_df = pd.DataFrame(eval_list)\n",
    "# eval_df.columns\n",
    "\n",
    "eval_df[['Model', 'Embedding', 'Train & test duration (s)', 'Accuracy', 'Precision (class 0)',\n",
    "       'Recall (class 0)', 'ROC AUC (ovr)', 'Cross-entropy loss']]\\\n",
    "    .style\\\n",
    "    .background_gradient(cmap='Greens', subset=['Accuracy', 'Precision (class 0)', 'Recall (class 0)', 'ROC AUC (ovr)'])\\\n",
    "    .background_gradient(cmap='Reds', subset=[\"Train & test duration (s)\", \"Cross-entropy loss\"])"
   ]
  },
  {
   "cell_type": "code",
   "execution_count": null,
   "id": "1df01b80",
   "metadata": {},
   "outputs": [],
   "source": []
  }
 ],
 "metadata": {
  "kernelspec": {
   "display_name": "Python 3",
   "language": "python",
   "name": "python3"
  },
  "language_info": {
   "codemirror_mode": {
    "name": "ipython",
    "version": 3
   },
   "file_extension": ".py",
   "mimetype": "text/x-python",
   "name": "python",
   "nbconvert_exporter": "python",
   "pygments_lexer": "ipython3",
   "version": "3.8.5"
  }
 },
 "nbformat": 4,
 "nbformat_minor": 5
}

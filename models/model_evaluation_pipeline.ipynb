{
 "cells": [
  {
   "cell_type": "code",
   "execution_count": 1,
   "id": "acd7d5a9",
   "metadata": {},
   "outputs": [],
   "source": [
    "from models import *"
   ]
  },
  {
   "cell_type": "code",
   "execution_count": 2,
   "id": "5c03ae08",
   "metadata": {},
   "outputs": [],
   "source": [
    "def import_data(embedding):\n",
    "\n",
    "    try:\n",
    "\n",
    "        data = pd.read_csv(\"embedding_data/\" + embedding + \"test.csv\", index_col=0)\n",
    "        print(\"Data loaded \", embedding)\n",
    "        print(\"Dataset shape \", data.shape)\n",
    "    except:\n",
    "\n",
    "        print(\"Error loading embedding data. Possible embedding types are: word2vec and tfidf\")\n",
    "\n",
    "    print(\"Splitting data into train and test\")\n",
    "    X_train, Y_train, X_test, Y_test = split_train_test(data)\n",
    "\n",
    "    return X_train, Y_train, X_test, Y_test"
   ]
  },
  {
   "cell_type": "code",
   "execution_count": 3,
   "id": "8e154446",
   "metadata": {},
   "outputs": [],
   "source": [
    "def fit_predict(model, X_train, Y_train, X_test, Y_test):\n",
    "\n",
    "    if model == 'dummy':\n",
    "        eval_dict = Dummy(X_train, Y_train, X_test, Y_test)\n",
    "    elif model == 'naivebayes':\n",
    "        eval_dict = NaiveBayes(X_train, Y_train, X_test, Y_test)\n",
    "    elif model == 'onevsrest':\n",
    "        eval_dict = One_VS_Rest_SVM(X_train, Y_train, X_test, Y_test)\n",
    "    elif model == 'onevsone':\n",
    "        eval_dict = One_vs_One_SVM(X_train, Y_train, X_test, Y_test)\n",
    "    elif model == 'randomforest':\n",
    "        eval_dict = RandomForest(X_train, Y_train, X_test, Y_test)\n",
    "    elif model == 'adaboost':\n",
    "        eval_dict = AdaBoost(X_train, Y_train, X_test, Y_test)\n",
    "    else:\n",
    "        print(\"Error, potential models are: onevsrest, onevsone, randomfores and adaboost\")\n",
    "        eval_dict = {}\n",
    "\n",
    "    return eval_dict"
   ]
  },
  {
   "cell_type": "code",
   "execution_count": 4,
   "id": "a8deca62",
   "metadata": {},
   "outputs": [
    {
     "name": "stdout",
     "output_type": "stream",
     "text": [
      "\n",
      "WORD2VEC\n",
      "\n",
      "Data loaded  word2vec\n",
      "Dataset shape  (628, 301)\n",
      "Splitting data into train and test\n",
      "Training shape  (502, 301)\n",
      "Test shape  (126, 301)\n",
      "Training target distributions \n",
      "0    199\n",
      "2    175\n",
      "1    128\n",
      "Name: classes, dtype: int64\n",
      "Test target distributions \n",
      "2    46\n",
      "0    45\n",
      "1    35\n",
      "Name: classes, dtype: int64\n",
      "\n",
      "--------------------\n",
      "\n",
      "\n",
      "DUMMY (WORD2VEC)\n",
      "\n"
     ]
    },
    {
     "data": {
      "image/png": "[encoded data removed]",
      "text/plain": [
       "<Figure size 432x288 with 2 Axes>"
      ]
     },
     "metadata": {
      "needs_background": "light"
     },
     "output_type": "display_data"
    },
    {
     "name": "stdout",
     "output_type": "stream",
     "text": [
      "              precision    recall  f1-score   support\n",
      "\n",
      "           0       0.36      1.00      0.53        45\n",
      "           1       0.00      0.00      0.00        35\n",
      "           2       0.00      0.00      0.00        46\n",
      "\n",
      "    accuracy                           0.36       126\n",
      "   macro avg       0.12      0.33      0.18       126\n",
      "weighted avg       0.13      0.36      0.19       126\n",
      "\n",
      "\n",
      "--------------------\n",
      "\n",
      "\n",
      "NAIVEBAYES (WORD2VEC)\n",
      "\n"
     ]
    },
    {
     "name": "stderr",
     "output_type": "stream",
     "text": [
      "/opt/conda/lib/python3.8/site-packages/sklearn/metrics/_classification.py:1245: UndefinedMetricWarning: Precision and F-score are ill-defined and being set to 0.0 in labels with no predicted samples. Use `zero_division` parameter to control this behavior.\n",
      "  _warn_prf(average, modifier, msg_start, len(result))\n",
      "/opt/conda/lib/python3.8/site-packages/sklearn/metrics/_classification.py:1245: UndefinedMetricWarning: Precision and F-score are ill-defined and being set to 0.0 in labels with no predicted samples. Use `zero_division` parameter to control this behavior.\n",
      "  _warn_prf(average, modifier, msg_start, len(result))\n",
      "/opt/conda/lib/python3.8/site-packages/sklearn/metrics/_classification.py:1245: UndefinedMetricWarning: Precision and F-score are ill-defined and being set to 0.0 in labels with no predicted samples. Use `zero_division` parameter to control this behavior.\n",
      "  _warn_prf(average, modifier, msg_start, len(result))\n"
     ]
    },
    {
     "data": {
      "image/png": "[encoded data removed]",
      "text/plain": [
       "<Figure size 432x288 with 2 Axes>"
      ]
     },
     "metadata": {
      "needs_background": "light"
     },
     "output_type": "display_data"
    },
    {
     "name": "stdout",
     "output_type": "stream",
     "text": [
      "              precision    recall  f1-score   support\n",
      "\n",
      "           0       0.86      0.67      0.75        45\n",
      "           1       0.56      0.69      0.62        35\n",
      "           2       0.67      0.70      0.68        46\n",
      "\n",
      "    accuracy                           0.68       126\n",
      "   macro avg       0.69      0.68      0.68       126\n",
      "weighted avg       0.70      0.68      0.69       126\n",
      "\n",
      "\n",
      "--------------------\n",
      "\n",
      "\n",
      "ONEVSREST (WORD2VEC)\n",
      "\n",
      "\n",
      "Tuned one vs rest svm (tuned) parameters: {'estimator__kernel': 'rbf', 'estimator__gamma': 7.244752025202521, 'estimator__C': 11.200000000000001}\n"
     ]
    },
    {
     "data": {
      "image/png": "[encoded data removed]",
      "text/plain": [
       "<Figure size 432x288 with 2 Axes>"
      ]
     },
     "metadata": {
      "needs_background": "light"
     },
     "output_type": "display_data"
    },
    {
     "name": "stdout",
     "output_type": "stream",
     "text": [
      "              precision    recall  f1-score   support\n",
      "\n",
      "           0       0.82      0.73      0.78        45\n",
      "           1       0.74      0.74      0.74        35\n",
      "           2       0.71      0.78      0.74        46\n",
      "\n",
      "    accuracy                           0.75       126\n",
      "   macro avg       0.76      0.75      0.75       126\n",
      "weighted avg       0.76      0.75      0.75       126\n",
      "\n",
      "\n",
      "--------------------\n",
      "\n",
      "\n",
      "ONEVSONE (WORD2VEC)\n",
      "\n"
     ]
    },
    {
     "data": {
      "image/png": "[encoded data removed]",
      "text/plain": [
       "<Figure size 432x288 with 2 Axes>"
      ]
     },
     "metadata": {
      "needs_background": "light"
     },
     "output_type": "display_data"
    },
    {
     "name": "stdout",
     "output_type": "stream",
     "text": [
      "              precision    recall  f1-score   support\n",
      "\n",
      "           0       0.84      0.71      0.77        45\n",
      "           1       0.60      0.71      0.65        35\n",
      "           2       0.67      0.67      0.67        46\n",
      "\n",
      "    accuracy                           0.70       126\n",
      "   macro avg       0.70      0.70      0.70       126\n",
      "weighted avg       0.71      0.70      0.70       126\n",
      "\n",
      "\n",
      "--------------------\n",
      "\n",
      "\n",
      "RANDOMFOREST (WORD2VEC)\n",
      "\n"
     ]
    },
    {
     "name": "stderr",
     "output_type": "stream",
     "text": [
      "/opt/conda/lib/python3.8/site-packages/sklearn/model_selection/_search.py:285: UserWarning: The total space of parameters 36 is smaller than n_iter=100. Running 36 iterations. For exhaustive searches, use GridSearchCV.\n",
      "  warnings.warn(\n"
     ]
    },
    {
     "name": "stdout",
     "output_type": "stream",
     "text": [
      "\n",
      "Tuned random forest (tuned) parameters: {'max_features': 0.2, 'max_depth': 15, 'criterion': 'entropy'}\n"
     ]
    },
    {
     "data": {
      "image/png": "[encoded data removed]",
      "text/plain": [
       "<Figure size 432x288 with 2 Axes>"
      ]
     },
     "metadata": {
      "needs_background": "light"
     },
     "output_type": "display_data"
    },
    {
     "name": "stdout",
     "output_type": "stream",
     "text": [
      "              precision    recall  f1-score   support\n",
      "\n",
      "           0       0.83      0.78      0.80        45\n",
      "           1       0.78      0.60      0.68        35\n",
      "           2       0.70      0.87      0.78        46\n",
      "\n",
      "    accuracy                           0.76       126\n",
      "   macro avg       0.77      0.75      0.75       126\n",
      "weighted avg       0.77      0.76      0.76       126\n",
      "\n",
      "\n",
      "--------------------\n",
      "\n",
      "\n",
      "ADABOOST (WORD2VEC)\n",
      "\n"
     ]
    },
    {
     "data": {
      "image/png": "[encoded data removed]",
      "text/plain": [
       "<Figure size 432x288 with 2 Axes>"
      ]
     },
     "metadata": {
      "needs_background": "light"
     },
     "output_type": "display_data"
    },
    {
     "name": "stdout",
     "output_type": "stream",
     "text": [
      "              precision    recall  f1-score   support\n",
      "\n",
      "           0       0.77      0.82      0.80        45\n",
      "           1       0.70      0.66      0.68        35\n",
      "           2       0.76      0.74      0.75        46\n",
      "\n",
      "    accuracy                           0.75       126\n",
      "   macro avg       0.74      0.74      0.74       126\n",
      "weighted avg       0.74      0.75      0.74       126\n",
      "\n",
      "\n",
      "--------------------\n",
      "\n",
      "\n",
      "====================\n",
      "\n",
      "\n",
      "TFIDF\n",
      "\n",
      "Data loaded  tfidf\n",
      "Dataset shape  (628, 4552)\n",
      "Splitting data into train and test\n",
      "Training shape  (502, 4552)\n",
      "Test shape  (126, 4552)\n",
      "Training target distributions \n",
      "0    199\n",
      "2    175\n",
      "1    128\n",
      "Name: classes, dtype: int64\n",
      "Test target distributions \n",
      "2    46\n",
      "0    45\n",
      "1    35\n",
      "Name: classes, dtype: int64\n",
      "\n",
      "--------------------\n",
      "\n",
      "\n",
      "DUMMY (TFIDF)\n",
      "\n"
     ]
    },
    {
     "data": {
      "image/png": "[encoded data removed]",
      "text/plain": [
       "<Figure size 432x288 with 2 Axes>"
      ]
     },
     "metadata": {
      "needs_background": "light"
     },
     "output_type": "display_data"
    },
    {
     "name": "stderr",
     "output_type": "stream",
     "text": [
      "/opt/conda/lib/python3.8/site-packages/sklearn/metrics/_classification.py:1245: UndefinedMetricWarning: Precision and F-score are ill-defined and being set to 0.0 in labels with no predicted samples. Use `zero_division` parameter to control this behavior.\n",
      "  _warn_prf(average, modifier, msg_start, len(result))\n",
      "/opt/conda/lib/python3.8/site-packages/sklearn/metrics/_classification.py:1245: UndefinedMetricWarning: Precision and F-score are ill-defined and being set to 0.0 in labels with no predicted samples. Use `zero_division` parameter to control this behavior.\n",
      "  _warn_prf(average, modifier, msg_start, len(result))\n",
      "/opt/conda/lib/python3.8/site-packages/sklearn/metrics/_classification.py:1245: UndefinedMetricWarning: Precision and F-score are ill-defined and being set to 0.0 in labels with no predicted samples. Use `zero_division` parameter to control this behavior.\n",
      "  _warn_prf(average, modifier, msg_start, len(result))\n"
     ]
    },
    {
     "name": "stdout",
     "output_type": "stream",
     "text": [
      "              precision    recall  f1-score   support\n",
      "\n",
      "           0       0.36      1.00      0.53        45\n",
      "           1       0.00      0.00      0.00        35\n",
      "           2       0.00      0.00      0.00        46\n",
      "\n",
      "    accuracy                           0.36       126\n",
      "   macro avg       0.12      0.33      0.18       126\n",
      "weighted avg       0.13      0.36      0.19       126\n",
      "\n",
      "\n",
      "--------------------\n",
      "\n",
      "\n",
      "NAIVEBAYES (TFIDF)\n",
      "\n"
     ]
    },
    {
     "data": {
      "image/png": "[encoded data removed]",
      "text/plain": [
       "<Figure size 432x288 with 2 Axes>"
      ]
     },
     "metadata": {
      "needs_background": "light"
     },
     "output_type": "display_data"
    },
    {
     "name": "stdout",
     "output_type": "stream",
     "text": [
      "              precision    recall  f1-score   support\n",
      "\n",
      "           0       0.76      0.58      0.66        45\n",
      "           1       0.55      0.51      0.53        35\n",
      "           2       0.59      0.76      0.67        46\n",
      "\n",
      "    accuracy                           0.63       126\n",
      "   macro avg       0.63      0.62      0.62       126\n",
      "weighted avg       0.64      0.63      0.63       126\n",
      "\n",
      "\n",
      "--------------------\n",
      "\n",
      "\n",
      "ONEVSREST (TFIDF)\n",
      "\n",
      "\n",
      "Tuned one vs rest svm (tuned) parameters: {'estimator__kernel': 'linear', 'estimator__gamma': 7.239751575157516, 'estimator__C': 80.5}\n"
     ]
    },
    {
     "data": {
      "image/png": "[encoded data removed]",
      "text/plain": [
       "<Figure size 432x288 with 2 Axes>"
      ]
     },
     "metadata": {
      "needs_background": "light"
     },
     "output_type": "display_data"
    },
    {
     "name": "stdout",
     "output_type": "stream",
     "text": [
      "              precision    recall  f1-score   support\n",
      "\n",
      "           0       0.76      0.64      0.70        45\n",
      "           1       0.63      0.74      0.68        35\n",
      "           2       0.70      0.72      0.71        46\n",
      "\n",
      "    accuracy                           0.70       126\n",
      "   macro avg       0.70      0.70      0.70       126\n",
      "weighted avg       0.71      0.70      0.70       126\n",
      "\n",
      "\n",
      "--------------------\n",
      "\n",
      "\n",
      "ONEVSONE (TFIDF)\n",
      "\n"
     ]
    },
    {
     "data": {
      "image/png": "[encoded data removed]",
      "text/plain": [
       "<Figure size 432x288 with 2 Axes>"
      ]
     },
     "metadata": {
      "needs_background": "light"
     },
     "output_type": "display_data"
    },
    {
     "name": "stdout",
     "output_type": "stream",
     "text": [
      "              precision    recall  f1-score   support\n",
      "\n",
      "           0       0.80      0.73      0.77        45\n",
      "           1       0.64      0.77      0.70        35\n",
      "           2       0.81      0.76      0.79        46\n",
      "\n",
      "    accuracy                           0.75       126\n",
      "   macro avg       0.75      0.76      0.75       126\n",
      "weighted avg       0.76      0.75      0.76       126\n",
      "\n",
      "\n",
      "--------------------\n",
      "\n",
      "\n",
      "RANDOMFOREST (TFIDF)\n",
      "\n"
     ]
    },
    {
     "name": "stderr",
     "output_type": "stream",
     "text": [
      "/opt/conda/lib/python3.8/site-packages/sklearn/model_selection/_search.py:285: UserWarning: The total space of parameters 36 is smaller than n_iter=100. Running 36 iterations. For exhaustive searches, use GridSearchCV.\n",
      "  warnings.warn(\n"
     ]
    },
    {
     "name": "stdout",
     "output_type": "stream",
     "text": [
      "\n",
      "Tuned random forest (tuned) parameters: {'max_features': 0.3, 'max_depth': 10, 'criterion': 'entropy'}\n"
     ]
    },
    {
     "data": {
      "image/png": "[encoded data removed]",
      "text/plain": [
       "<Figure size 432x288 with 2 Axes>"
      ]
     },
     "metadata": {
      "needs_background": "light"
     },
     "output_type": "display_data"
    },
    {
     "name": "stdout",
     "output_type": "stream",
     "text": [
      "              precision    recall  f1-score   support\n",
      "\n",
      "           0       0.80      0.80      0.80        45\n",
      "           1       0.74      0.74      0.74        35\n",
      "           2       0.85      0.85      0.85        46\n",
      "\n",
      "    accuracy                           0.80       126\n",
      "   macro avg       0.80      0.80      0.80       126\n",
      "weighted avg       0.80      0.80      0.80       126\n",
      "\n",
      "\n",
      "--------------------\n",
      "\n",
      "\n",
      "ADABOOST (TFIDF)\n",
      "\n"
     ]
    },
    {
     "data": {
      "image/png": "[encoded data removed]",
      "text/plain": [
       "<Figure size 432x288 with 2 Axes>"
      ]
     },
     "metadata": {
      "needs_background": "light"
     },
     "output_type": "display_data"
    },
    {
     "name": "stdout",
     "output_type": "stream",
     "text": [
      "              precision    recall  f1-score   support\n",
      "\n",
      "           0       0.78      0.78      0.78        45\n",
      "           1       0.70      0.60      0.65        35\n",
      "           2       0.78      0.87      0.82        46\n",
      "\n",
      "    accuracy                           0.76       126\n",
      "   macro avg       0.75      0.75      0.75       126\n",
      "weighted avg       0.76      0.76      0.76       126\n",
      "\n",
      "\n",
      "--------------------\n",
      "\n",
      "\n",
      "====================\n",
      "\n",
      "\n",
      "NORMBOW\n",
      "\n",
      "Data loaded  normbow\n",
      "Dataset shape  (628, 18803)\n",
      "Splitting data into train and test\n",
      "Training shape  (502, 18803)\n",
      "Test shape  (126, 18803)\n",
      "Training target distributions \n",
      "0    199\n",
      "2    175\n",
      "1    128\n",
      "Name: classes, dtype: int64\n",
      "Test target distributions \n",
      "2    46\n",
      "0    45\n",
      "1    35\n",
      "Name: classes, dtype: int64\n",
      "\n",
      "--------------------\n",
      "\n",
      "\n",
      "DUMMY (NORMBOW)\n",
      "\n"
     ]
    },
    {
     "data": {
      "image/png": "[encoded data removed]",
      "text/plain": [
       "<Figure size 432x288 with 2 Axes>"
      ]
     },
     "metadata": {
      "needs_background": "light"
     },
     "output_type": "display_data"
    },
    {
     "name": "stdout",
     "output_type": "stream",
     "text": [
      "              precision    recall  f1-score   support\n",
      "\n",
      "           0       0.36      1.00      0.53        45\n",
      "           1       0.00      0.00      0.00        35\n",
      "           2       0.00      0.00      0.00        46\n",
      "\n",
      "    accuracy                           0.36       126\n",
      "   macro avg       0.12      0.33      0.18       126\n",
      "weighted avg       0.13      0.36      0.19       126\n",
      "\n",
      "\n",
      "--------------------\n",
      "\n",
      "\n",
      "NAIVEBAYES (NORMBOW)\n",
      "\n"
     ]
    },
    {
     "name": "stderr",
     "output_type": "stream",
     "text": [
      "/opt/conda/lib/python3.8/site-packages/sklearn/metrics/_classification.py:1245: UndefinedMetricWarning: Precision and F-score are ill-defined and being set to 0.0 in labels with no predicted samples. Use `zero_division` parameter to control this behavior.\n",
      "  _warn_prf(average, modifier, msg_start, len(result))\n",
      "/opt/conda/lib/python3.8/site-packages/sklearn/metrics/_classification.py:1245: UndefinedMetricWarning: Precision and F-score are ill-defined and being set to 0.0 in labels with no predicted samples. Use `zero_division` parameter to control this behavior.\n",
      "  _warn_prf(average, modifier, msg_start, len(result))\n",
      "/opt/conda/lib/python3.8/site-packages/sklearn/metrics/_classification.py:1245: UndefinedMetricWarning: Precision and F-score are ill-defined and being set to 0.0 in labels with no predicted samples. Use `zero_division` parameter to control this behavior.\n",
      "  _warn_prf(average, modifier, msg_start, len(result))\n"
     ]
    },
    {
     "data": {
      "image/png": "[encoded data removed]",
      "text/plain": [
       "<Figure size 432x288 with 2 Axes>"
      ]
     },
     "metadata": {
      "needs_background": "light"
     },
     "output_type": "display_data"
    },
    {
     "name": "stdout",
     "output_type": "stream",
     "text": [
      "              precision    recall  f1-score   support\n",
      "\n",
      "           0       0.76      0.58      0.66        45\n",
      "           1       0.47      0.51      0.49        35\n",
      "           2       0.56      0.65      0.60        46\n",
      "\n",
      "    accuracy                           0.59       126\n",
      "   macro avg       0.60      0.58      0.58       126\n",
      "weighted avg       0.61      0.59      0.59       126\n",
      "\n",
      "\n",
      "--------------------\n",
      "\n",
      "\n",
      "ONEVSREST (NORMBOW)\n",
      "\n",
      "\n",
      "Tuned one vs rest svm (tuned) parameters: {'estimator__kernel': 'linear', 'estimator__gamma': 7.239751575157516, 'estimator__C': 80.5}\n"
     ]
    },
    {
     "data": {
      "image/png": "[encoded data removed]",
      "text/plain": [
       "<Figure size 432x288 with 2 Axes>"
      ]
     },
     "metadata": {
      "needs_background": "light"
     },
     "output_type": "display_data"
    },
    {
     "name": "stdout",
     "output_type": "stream",
     "text": [
      "              precision    recall  f1-score   support\n",
      "\n",
      "           0       0.83      0.78      0.80        45\n",
      "           1       0.69      0.71      0.70        35\n",
      "           2       0.77      0.80      0.79        46\n",
      "\n",
      "    accuracy                           0.77       126\n",
      "   macro avg       0.77      0.77      0.77       126\n",
      "weighted avg       0.77      0.77      0.77       126\n",
      "\n",
      "\n",
      "--------------------\n",
      "\n",
      "\n",
      "ONEVSONE (NORMBOW)\n",
      "\n"
     ]
    },
    {
     "data": {
      "image/png": "[encoded data removed]",
      "text/plain": [
       "<Figure size 432x288 with 2 Axes>"
      ]
     },
     "metadata": {
      "needs_background": "light"
     },
     "output_type": "display_data"
    },
    {
     "name": "stdout",
     "output_type": "stream",
     "text": [
      "              precision    recall  f1-score   support\n",
      "\n",
      "           0       0.85      0.73      0.79        45\n",
      "           1       0.69      0.71      0.70        35\n",
      "           2       0.78      0.87      0.82        46\n",
      "\n",
      "    accuracy                           0.78       126\n",
      "   macro avg       0.77      0.77      0.77       126\n",
      "weighted avg       0.78      0.78      0.78       126\n",
      "\n",
      "\n",
      "--------------------\n",
      "\n",
      "\n",
      "RANDOMFOREST (NORMBOW)\n",
      "\n"
     ]
    },
    {
     "name": "stderr",
     "output_type": "stream",
     "text": [
      "/opt/conda/lib/python3.8/site-packages/sklearn/model_selection/_search.py:285: UserWarning: The total space of parameters 36 is smaller than n_iter=100. Running 36 iterations. For exhaustive searches, use GridSearchCV.\n",
      "  warnings.warn(\n"
     ]
    },
    {
     "name": "stdout",
     "output_type": "stream",
     "text": [
      "\n",
      "Tuned random forest (tuned) parameters: {'max_features': 0.4, 'max_depth': 10, 'criterion': 'gini'}\n"
     ]
    },
    {
     "data": {
      "image/png": "[encoded data removed]",
      "text/plain": [
       "<Figure size 432x288 with 2 Axes>"
      ]
     },
     "metadata": {
      "needs_background": "light"
     },
     "output_type": "display_data"
    },
    {
     "name": "stdout",
     "output_type": "stream",
     "text": [
      "              precision    recall  f1-score   support\n",
      "\n",
      "           0       0.84      0.80      0.82        45\n",
      "           1       0.69      0.77      0.73        35\n",
      "           2       0.84      0.80      0.82        46\n",
      "\n",
      "    accuracy                           0.79       126\n",
      "   macro avg       0.79      0.79      0.79       126\n",
      "weighted avg       0.80      0.79      0.80       126\n",
      "\n",
      "\n",
      "--------------------\n",
      "\n",
      "\n",
      "ADABOOST (NORMBOW)\n",
      "\n"
     ]
    },
    {
     "data": {
      "image/png": "[encoded data removed]",
      "text/plain": [
       "<Figure size 432x288 with 2 Axes>"
      ]
     },
     "metadata": {
      "needs_background": "light"
     },
     "output_type": "display_data"
    },
    {
     "name": "stdout",
     "output_type": "stream",
     "text": [
      "              precision    recall  f1-score   support\n",
      "\n",
      "           0       0.79      0.76      0.77        45\n",
      "           1       0.71      0.57      0.63        35\n",
      "           2       0.75      0.89      0.81        46\n",
      "\n",
      "    accuracy                           0.75       126\n",
      "   macro avg       0.75      0.74      0.74       126\n",
      "weighted avg       0.75      0.75      0.75       126\n",
      "\n",
      "\n",
      "--------------------\n",
      "\n",
      "\n",
      "====================\n",
      "\n",
      "CPU times: user 3h 54min 49s, sys: 3h 43min 41s, total: 7h 38min 31s\n",
      "Wall time: 1h 56min 7s\n"
     ]
    }
   ],
   "source": [
    "%%time\n",
    "\n",
    "embeddings = ['word2vec','tfidf','normbow']\n",
    "models = ['dummy', 'naivebayes', 'onevsrest', 'onevsone', 'randomforest','adaboost']\n",
    "\n",
    "eval_list = []\n",
    "for embedding in embeddings:\n",
    "    print(\"\\n{0}\\n\".format(embedding.upper()))\n",
    "    X_train, Y_train, X_test, Y_test = import_data(embedding)\n",
    "    print(\"\\n{0}\\n\".format(20 * \"-\"))\n",
    "    for model in models:\n",
    "        t0 = datetime.now()\n",
    "        print(\"\\n{0} ({1})\\n\".format(model.upper(), embedding.upper()))\n",
    "        eval_dict = fit_predict(model, X_train, Y_train, X_test, Y_test)        \n",
    "        t1 = datetime.now()\n",
    "        eval_dict[\"Embedding\"] = embedding\n",
    "        eval_dict[\"Train & test duration (s)\"] = (t1 - t0).total_seconds()\n",
    "#         eval_dict[\"Train & test duration\"] = \"{0:.2f} seconds\".format((t1 - t0).total_seconds())\n",
    "        eval_list.append(eval_dict)\n",
    "        print(\"\\n{0}\\n\".format(20 * \"-\"))\n",
    "    print(\"\\n{0}\\n\".format(20 * \"=\"))"
   ]
  },
  {
   "cell_type": "code",
   "execution_count": 5,
   "id": "3db3aebe",
   "metadata": {},
   "outputs": [
    {
     "data": {
      "text/html": [
       "<style  type=\"text/css\" >\n",
       "#T_157ca_row0_col2,#T_157ca_row1_col2,#T_157ca_row2_col7,#T_157ca_row3_col2,#T_157ca_row5_col2,#T_157ca_row6_col2,#T_157ca_row7_col2,#T_157ca_row8_col7,#T_157ca_row9_col2,#T_157ca_row11_col2,#T_157ca_row12_col2,#T_157ca_row13_col2,#T_157ca_row14_col7,#T_157ca_row16_col7{\n",
       "            background-color:  #fff5f0;\n",
       "            color:  #000000;\n",
       "        }#T_157ca_row0_col3,#T_157ca_row0_col4,#T_157ca_row0_col6,#T_157ca_row6_col3,#T_157ca_row6_col4,#T_157ca_row6_col6,#T_157ca_row7_col5,#T_157ca_row12_col3,#T_157ca_row12_col4,#T_157ca_row12_col6,#T_157ca_row13_col5{\n",
       "            background-color:  #f7fcf5;\n",
       "            color:  #000000;\n",
       "        }#T_157ca_row0_col5,#T_157ca_row1_col4,#T_157ca_row2_col6,#T_157ca_row6_col5,#T_157ca_row10_col3,#T_157ca_row10_col6,#T_157ca_row12_col5{\n",
       "            background-color:  #00441b;\n",
       "            color:  #f1f1f1;\n",
       "        }#T_157ca_row0_col7,#T_157ca_row6_col7,#T_157ca_row12_col7,#T_157ca_row14_col2{\n",
       "            background-color:  #67000d;\n",
       "            color:  #f1f1f1;\n",
       "        }#T_157ca_row1_col3{\n",
       "            background-color:  #278f48;\n",
       "            color:  #000000;\n",
       "        }#T_157ca_row1_col5{\n",
       "            background-color:  #d1edcb;\n",
       "            color:  #000000;\n",
       "        }#T_157ca_row1_col6,#T_157ca_row5_col3{\n",
       "            background-color:  #006c2c;\n",
       "            color:  #f1f1f1;\n",
       "        }#T_157ca_row1_col7{\n",
       "            background-color:  #fcbfa7;\n",
       "            color:  #000000;\n",
       "        }#T_157ca_row2_col2,#T_157ca_row15_col2,#T_157ca_row17_col2{\n",
       "            background-color:  #fff4ef;\n",
       "            color:  #000000;\n",
       "        }#T_157ca_row2_col3,#T_157ca_row9_col3,#T_157ca_row17_col3{\n",
       "            background-color:  #006729;\n",
       "            color:  #f1f1f1;\n",
       "        }#T_157ca_row2_col4{\n",
       "            background-color:  #005924;\n",
       "            color:  #f1f1f1;\n",
       "        }#T_157ca_row2_col5,#T_157ca_row9_col5,#T_157ca_row15_col5{\n",
       "            background-color:  #a3da9d;\n",
       "            color:  #000000;\n",
       "        }#T_157ca_row3_col3,#T_157ca_row8_col3{\n",
       "            background-color:  #1e8741;\n",
       "            color:  #000000;\n",
       "        }#T_157ca_row3_col4{\n",
       "            background-color:  #004d1f;\n",
       "            color:  #f1f1f1;\n",
       "        }#T_157ca_row3_col5{\n",
       "            background-color:  #b4e1ad;\n",
       "            color:  #000000;\n",
       "        }#T_157ca_row3_col6,#T_157ca_row3_col7,#T_157ca_row9_col6,#T_157ca_row9_col7,#T_157ca_row15_col6,#T_157ca_row15_col7{\n",
       "            background-color:  #000000;\n",
       "            color:  #f1f1f1;\n",
       "        }#T_157ca_row4_col2{\n",
       "            background-color:  #fdcdb9;\n",
       "            color:  #000000;\n",
       "        }#T_157ca_row4_col3,#T_157ca_row11_col3{\n",
       "            background-color:  #006027;\n",
       "            color:  #f1f1f1;\n",
       "        }#T_157ca_row4_col4,#T_157ca_row14_col4{\n",
       "            background-color:  #005321;\n",
       "            color:  #f1f1f1;\n",
       "        }#T_157ca_row4_col5,#T_157ca_row11_col5,#T_157ca_row14_col5{\n",
       "            background-color:  #7dc87e;\n",
       "            color:  #000000;\n",
       "        }#T_157ca_row4_col6,#T_157ca_row14_col3{\n",
       "            background-color:  #005b25;\n",
       "            color:  #f1f1f1;\n",
       "        }#T_157ca_row4_col7{\n",
       "            background-color:  #fff4ee;\n",
       "            color:  #000000;\n",
       "        }#T_157ca_row5_col4{\n",
       "            background-color:  #0d7836;\n",
       "            color:  #f1f1f1;\n",
       "        }#T_157ca_row5_col5{\n",
       "            background-color:  #53b466;\n",
       "            color:  #000000;\n",
       "        }#T_157ca_row5_col6{\n",
       "            background-color:  #006428;\n",
       "            color:  #f1f1f1;\n",
       "        }#T_157ca_row5_col7,#T_157ca_row11_col7,#T_157ca_row17_col7{\n",
       "            background-color:  #fff1ea;\n",
       "            color:  #000000;\n",
       "        }#T_157ca_row7_col3{\n",
       "            background-color:  #48ae60;\n",
       "            color:  #000000;\n",
       "        }#T_157ca_row7_col4,#T_157ca_row13_col4{\n",
       "            background-color:  #117b38;\n",
       "            color:  #f1f1f1;\n",
       "        }#T_157ca_row7_col6{\n",
       "            background-color:  #72c375;\n",
       "            color:  #000000;\n",
       "        }#T_157ca_row7_col7{\n",
       "            background-color:  #f4503a;\n",
       "            color:  #000000;\n",
       "        }#T_157ca_row8_col2{\n",
       "            background-color:  #fedaca;\n",
       "            color:  #000000;\n",
       "        }#T_157ca_row8_col4{\n",
       "            background-color:  #127c39;\n",
       "            color:  #f1f1f1;\n",
       "        }#T_157ca_row8_col5{\n",
       "            background-color:  #ddf2d8;\n",
       "            color:  #000000;\n",
       "        }#T_157ca_row8_col6{\n",
       "            background-color:  #005622;\n",
       "            color:  #f1f1f1;\n",
       "        }#T_157ca_row9_col4{\n",
       "            background-color:  #006529;\n",
       "            color:  #f1f1f1;\n",
       "        }#T_157ca_row10_col2{\n",
       "            background-color:  #fcb99f;\n",
       "            color:  #000000;\n",
       "        }#T_157ca_row10_col4{\n",
       "            background-color:  #00692a;\n",
       "            color:  #f1f1f1;\n",
       "        }#T_157ca_row10_col5,#T_157ca_row16_col5{\n",
       "            background-color:  #6abf71;\n",
       "            color:  #000000;\n",
       "        }#T_157ca_row10_col7{\n",
       "            background-color:  #fff3ed;\n",
       "            color:  #000000;\n",
       "        }#T_157ca_row11_col4{\n",
       "            background-color:  #097532;\n",
       "            color:  #f1f1f1;\n",
       "        }#T_157ca_row11_col6{\n",
       "            background-color:  #005a24;\n",
       "            color:  #f1f1f1;\n",
       "        }#T_157ca_row13_col3{\n",
       "            background-color:  #6dc072;\n",
       "            color:  #000000;\n",
       "        }#T_157ca_row13_col6{\n",
       "            background-color:  #8ace88;\n",
       "            color:  #000000;\n",
       "        }#T_157ca_row13_col7{\n",
       "            background-color:  #ec382b;\n",
       "            color:  #f1f1f1;\n",
       "        }#T_157ca_row14_col6,#T_157ca_row16_col4{\n",
       "            background-color:  #005120;\n",
       "            color:  #f1f1f1;\n",
       "        }#T_157ca_row15_col3{\n",
       "            background-color:  #005522;\n",
       "            color:  #f1f1f1;\n",
       "        }#T_157ca_row15_col4{\n",
       "            background-color:  #004a1e;\n",
       "            color:  #f1f1f1;\n",
       "        }#T_157ca_row16_col2{\n",
       "            background-color:  #c7171c;\n",
       "            color:  #f1f1f1;\n",
       "        }#T_157ca_row16_col3{\n",
       "            background-color:  #00491d;\n",
       "            color:  #f1f1f1;\n",
       "        }#T_157ca_row16_col6{\n",
       "            background-color:  #00451c;\n",
       "            color:  #f1f1f1;\n",
       "        }#T_157ca_row17_col4{\n",
       "            background-color:  #026f2e;\n",
       "            color:  #f1f1f1;\n",
       "        }#T_157ca_row17_col5{\n",
       "            background-color:  #91d28e;\n",
       "            color:  #000000;\n",
       "        }#T_157ca_row17_col6{\n",
       "            background-color:  #005723;\n",
       "            color:  #f1f1f1;\n",
       "        }</style><table id=\"T_157ca_\" ><thead>    <tr>        <th class=\"blank level0\" ></th>        <th class=\"col_heading level0 col0\" >Model</th>        <th class=\"col_heading level0 col1\" >Embedding</th>        <th class=\"col_heading level0 col2\" >Train & test duration (s)</th>        <th class=\"col_heading level0 col3\" >Accuracy</th>        <th class=\"col_heading level0 col4\" >Precision (class 0)</th>        <th class=\"col_heading level0 col5\" >Recall (class 0)</th>        <th class=\"col_heading level0 col6\" >ROC AUC (ovr)</th>        <th class=\"col_heading level0 col7\" >Cross-entropy loss</th>    </tr></thead><tbody>\n",
       "                <tr>\n",
       "                        <th id=\"T_157ca_level0_row0\" class=\"row_heading level0 row0\" >0</th>\n",
       "                        <td id=\"T_157ca_row0_col0\" class=\"data row0 col0\" >pick most frequent</td>\n",
       "                        <td id=\"T_157ca_row0_col1\" class=\"data row0 col1\" >word2vec</td>\n",
       "                        <td id=\"T_157ca_row0_col2\" class=\"data row0 col2\" >0.194686</td>\n",
       "                        <td id=\"T_157ca_row0_col3\" class=\"data row0 col3\" >0.357143</td>\n",
       "                        <td id=\"T_157ca_row0_col4\" class=\"data row0 col4\" >0.357143</td>\n",
       "                        <td id=\"T_157ca_row0_col5\" class=\"data row0 col5\" >1.000000</td>\n",
       "                        <td id=\"T_157ca_row0_col6\" class=\"data row0 col6\" >0.500000</td>\n",
       "                        <td id=\"T_157ca_row0_col7\" class=\"data row0 col7\" >22.203499</td>\n",
       "            </tr>\n",
       "            <tr>\n",
       "                        <th id=\"T_157ca_level0_row1\" class=\"row_heading level0 row1\" >1</th>\n",
       "                        <td id=\"T_157ca_row1_col0\" class=\"data row1 col0\" >naive bayes</td>\n",
       "                        <td id=\"T_157ca_row1_col1\" class=\"data row1 col1\" >word2vec</td>\n",
       "                        <td id=\"T_157ca_row1_col2\" class=\"data row1 col2\" >0.161291</td>\n",
       "                        <td id=\"T_157ca_row1_col3\" class=\"data row1 col3\" >0.682540</td>\n",
       "                        <td id=\"T_157ca_row1_col4\" class=\"data row1 col4\" >0.857143</td>\n",
       "                        <td id=\"T_157ca_row1_col5\" class=\"data row1 col5\" >0.666667</td>\n",
       "                        <td id=\"T_157ca_row1_col6\" class=\"data row1 col6\" >0.872766</td>\n",
       "                        <td id=\"T_157ca_row1_col7\" class=\"data row1 col7\" >5.671543</td>\n",
       "            </tr>\n",
       "            <tr>\n",
       "                        <th id=\"T_157ca_level0_row2\" class=\"row_heading level0 row2\" >2</th>\n",
       "                        <td id=\"T_157ca_row2_col0\" class=\"data row2 col0\" >one vs rest svm (tuned)</td>\n",
       "                        <td id=\"T_157ca_row2_col1\" class=\"data row2 col1\" >word2vec</td>\n",
       "                        <td id=\"T_157ca_row2_col2\" class=\"data row2 col2\" >12.060948</td>\n",
       "                        <td id=\"T_157ca_row2_col3\" class=\"data row2 col3\" >0.753968</td>\n",
       "                        <td id=\"T_157ca_row2_col4\" class=\"data row2 col4\" >0.825000</td>\n",
       "                        <td id=\"T_157ca_row2_col5\" class=\"data row2 col5\" >0.733333</td>\n",
       "                        <td id=\"T_157ca_row2_col6\" class=\"data row2 col6\" >0.924854</td>\n",
       "                        <td id=\"T_157ca_row2_col7\" class=\"data row2 col7\" >0.519871</td>\n",
       "            </tr>\n",
       "            <tr>\n",
       "                        <th id=\"T_157ca_level0_row3\" class=\"row_heading level0 row3\" >3</th>\n",
       "                        <td id=\"T_157ca_row3_col0\" class=\"data row3 col0\" >one vs one svm</td>\n",
       "                        <td id=\"T_157ca_row3_col1\" class=\"data row3 col1\" >word2vec</td>\n",
       "                        <td id=\"T_157ca_row3_col2\" class=\"data row3 col2\" >0.276733</td>\n",
       "                        <td id=\"T_157ca_row3_col3\" class=\"data row3 col3\" >0.698413</td>\n",
       "                        <td id=\"T_157ca_row3_col4\" class=\"data row3 col4\" >0.842105</td>\n",
       "                        <td id=\"T_157ca_row3_col5\" class=\"data row3 col5\" >0.711111</td>\n",
       "                        <td id=\"T_157ca_row3_col6\" class=\"data row3 col6\" >nan</td>\n",
       "                        <td id=\"T_157ca_row3_col7\" class=\"data row3 col7\" >nan</td>\n",
       "            </tr>\n",
       "            <tr>\n",
       "                        <th id=\"T_157ca_level0_row4\" class=\"row_heading level0 row4\" >4</th>\n",
       "                        <td id=\"T_157ca_row4_col0\" class=\"data row4 col0\" >random forest (tuned)</td>\n",
       "                        <td id=\"T_157ca_row4_col1\" class=\"data row4 col1\" >word2vec</td>\n",
       "                        <td id=\"T_157ca_row4_col2\" class=\"data row4 col2\" >555.271614</td>\n",
       "                        <td id=\"T_157ca_row4_col3\" class=\"data row4 col3\" >0.761905</td>\n",
       "                        <td id=\"T_157ca_row4_col4\" class=\"data row4 col4\" >0.833333</td>\n",
       "                        <td id=\"T_157ca_row4_col5\" class=\"data row4 col5\" >0.777778</td>\n",
       "                        <td id=\"T_157ca_row4_col6\" class=\"data row4 col6\" >0.894905</td>\n",
       "                        <td id=\"T_157ca_row4_col7\" class=\"data row4 col7\" >0.697695</td>\n",
       "            </tr>\n",
       "            <tr>\n",
       "                        <th id=\"T_157ca_level0_row5\" class=\"row_heading level0 row5\" >5</th>\n",
       "                        <td id=\"T_157ca_row5_col0\" class=\"data row5 col0\" >ada boost</td>\n",
       "                        <td id=\"T_157ca_row5_col1\" class=\"data row5 col1\" >word2vec</td>\n",
       "                        <td id=\"T_157ca_row5_col2\" class=\"data row5 col2\" >4.253551</td>\n",
       "                        <td id=\"T_157ca_row5_col3\" class=\"data row5 col3\" >0.746032</td>\n",
       "                        <td id=\"T_157ca_row5_col4\" class=\"data row5 col4\" >0.770833</td>\n",
       "                        <td id=\"T_157ca_row5_col5\" class=\"data row5 col5\" >0.822222</td>\n",
       "                        <td id=\"T_157ca_row5_col6\" class=\"data row5 col6\" >0.882478</td>\n",
       "                        <td id=\"T_157ca_row5_col7\" class=\"data row5 col7\" >1.034958</td>\n",
       "            </tr>\n",
       "            <tr>\n",
       "                        <th id=\"T_157ca_level0_row6\" class=\"row_heading level0 row6\" >6</th>\n",
       "                        <td id=\"T_157ca_row6_col0\" class=\"data row6 col0\" >pick most frequent</td>\n",
       "                        <td id=\"T_157ca_row6_col1\" class=\"data row6 col1\" >tfidf</td>\n",
       "                        <td id=\"T_157ca_row6_col2\" class=\"data row6 col2\" >0.151532</td>\n",
       "                        <td id=\"T_157ca_row6_col3\" class=\"data row6 col3\" >0.357143</td>\n",
       "                        <td id=\"T_157ca_row6_col4\" class=\"data row6 col4\" >0.357143</td>\n",
       "                        <td id=\"T_157ca_row6_col5\" class=\"data row6 col5\" >1.000000</td>\n",
       "                        <td id=\"T_157ca_row6_col6\" class=\"data row6 col6\" >0.500000</td>\n",
       "                        <td id=\"T_157ca_row6_col7\" class=\"data row6 col7\" >22.203499</td>\n",
       "            </tr>\n",
       "            <tr>\n",
       "                        <th id=\"T_157ca_level0_row7\" class=\"row_heading level0 row7\" >7</th>\n",
       "                        <td id=\"T_157ca_row7_col0\" class=\"data row7 col0\" >naive bayes</td>\n",
       "                        <td id=\"T_157ca_row7_col1\" class=\"data row7 col1\" >tfidf</td>\n",
       "                        <td id=\"T_157ca_row7_col2\" class=\"data row7 col2\" >0.233680</td>\n",
       "                        <td id=\"T_157ca_row7_col3\" class=\"data row7 col3\" >0.626984</td>\n",
       "                        <td id=\"T_157ca_row7_col4\" class=\"data row7 col4\" >0.764706</td>\n",
       "                        <td id=\"T_157ca_row7_col5\" class=\"data row7 col5\" >0.577778</td>\n",
       "                        <td id=\"T_157ca_row7_col6\" class=\"data row7 col6\" >0.714889</td>\n",
       "                        <td id=\"T_157ca_row7_col7\" class=\"data row7 col7\" >12.883512</td>\n",
       "            </tr>\n",
       "            <tr>\n",
       "                        <th id=\"T_157ca_level0_row8\" class=\"row_heading level0 row8\" >8</th>\n",
       "                        <td id=\"T_157ca_row8_col0\" class=\"data row8 col0\" >one vs rest svm (tuned)</td>\n",
       "                        <td id=\"T_157ca_row8_col1\" class=\"data row8 col1\" >tfidf</td>\n",
       "                        <td id=\"T_157ca_row8_col2\" class=\"data row8 col2\" >429.055571</td>\n",
       "                        <td id=\"T_157ca_row8_col3\" class=\"data row8 col3\" >0.698413</td>\n",
       "                        <td id=\"T_157ca_row8_col4\" class=\"data row8 col4\" >0.763158</td>\n",
       "                        <td id=\"T_157ca_row8_col5\" class=\"data row8 col5\" >0.644444</td>\n",
       "                        <td id=\"T_157ca_row8_col6\" class=\"data row8 col6\" >0.900124</td>\n",
       "                        <td id=\"T_157ca_row8_col7\" class=\"data row8 col7\" >0.603793</td>\n",
       "            </tr>\n",
       "            <tr>\n",
       "                        <th id=\"T_157ca_level0_row9\" class=\"row_heading level0 row9\" >9</th>\n",
       "                        <td id=\"T_157ca_row9_col0\" class=\"data row9 col0\" >one vs one svm</td>\n",
       "                        <td id=\"T_157ca_row9_col1\" class=\"data row9 col1\" >tfidf</td>\n",
       "                        <td id=\"T_157ca_row9_col2\" class=\"data row9 col2\" >4.311237</td>\n",
       "                        <td id=\"T_157ca_row9_col3\" class=\"data row9 col3\" >0.753968</td>\n",
       "                        <td id=\"T_157ca_row9_col4\" class=\"data row9 col4\" >0.804878</td>\n",
       "                        <td id=\"T_157ca_row9_col5\" class=\"data row9 col5\" >0.733333</td>\n",
       "                        <td id=\"T_157ca_row9_col6\" class=\"data row9 col6\" >nan</td>\n",
       "                        <td id=\"T_157ca_row9_col7\" class=\"data row9 col7\" >nan</td>\n",
       "            </tr>\n",
       "            <tr>\n",
       "                        <th id=\"T_157ca_level0_row10\" class=\"row_heading level0 row10\" >10</th>\n",
       "                        <td id=\"T_157ca_row10_col0\" class=\"data row10 col0\" >random forest (tuned)</td>\n",
       "                        <td id=\"T_157ca_row10_col1\" class=\"data row10 col1\" >tfidf</td>\n",
       "                        <td id=\"T_157ca_row10_col2\" class=\"data row10 col2\" >743.425134</td>\n",
       "                        <td id=\"T_157ca_row10_col3\" class=\"data row10 col3\" >0.801587</td>\n",
       "                        <td id=\"T_157ca_row10_col4\" class=\"data row10 col4\" >0.800000</td>\n",
       "                        <td id=\"T_157ca_row10_col5\" class=\"data row10 col5\" >0.800000</td>\n",
       "                        <td id=\"T_157ca_row10_col6\" class=\"data row10 col6\" >0.923601</td>\n",
       "                        <td id=\"T_157ca_row10_col7\" class=\"data row10 col7\" >0.789713</td>\n",
       "            </tr>\n",
       "            <tr>\n",
       "                        <th id=\"T_157ca_level0_row11\" class=\"row_heading level0 row11\" >11</th>\n",
       "                        <td id=\"T_157ca_row11_col0\" class=\"data row11 col0\" >ada boost</td>\n",
       "                        <td id=\"T_157ca_row11_col1\" class=\"data row11 col1\" >tfidf</td>\n",
       "                        <td id=\"T_157ca_row11_col2\" class=\"data row11 col2\" >8.269848</td>\n",
       "                        <td id=\"T_157ca_row11_col3\" class=\"data row11 col3\" >0.761905</td>\n",
       "                        <td id=\"T_157ca_row11_col4\" class=\"data row11 col4\" >0.777778</td>\n",
       "                        <td id=\"T_157ca_row11_col5\" class=\"data row11 col5\" >0.777778</td>\n",
       "                        <td id=\"T_157ca_row11_col6\" class=\"data row11 col6\" >0.895576</td>\n",
       "                        <td id=\"T_157ca_row11_col7\" class=\"data row11 col7\" >1.038136</td>\n",
       "            </tr>\n",
       "            <tr>\n",
       "                        <th id=\"T_157ca_level0_row12\" class=\"row_heading level0 row12\" >12</th>\n",
       "                        <td id=\"T_157ca_row12_col0\" class=\"data row12 col0\" >pick most frequent</td>\n",
       "                        <td id=\"T_157ca_row12_col1\" class=\"data row12 col1\" >normbow</td>\n",
       "                        <td id=\"T_157ca_row12_col2\" class=\"data row12 col2\" >0.165488</td>\n",
       "                        <td id=\"T_157ca_row12_col3\" class=\"data row12 col3\" >0.357143</td>\n",
       "                        <td id=\"T_157ca_row12_col4\" class=\"data row12 col4\" >0.357143</td>\n",
       "                        <td id=\"T_157ca_row12_col5\" class=\"data row12 col5\" >1.000000</td>\n",
       "                        <td id=\"T_157ca_row12_col6\" class=\"data row12 col6\" >0.500000</td>\n",
       "                        <td id=\"T_157ca_row12_col7\" class=\"data row12 col7\" >22.203499</td>\n",
       "            </tr>\n",
       "            <tr>\n",
       "                        <th id=\"T_157ca_level0_row13\" class=\"row_heading level0 row13\" >13</th>\n",
       "                        <td id=\"T_157ca_row13_col0\" class=\"data row13 col0\" >naive bayes</td>\n",
       "                        <td id=\"T_157ca_row13_col1\" class=\"data row13 col1\" >normbow</td>\n",
       "                        <td id=\"T_157ca_row13_col2\" class=\"data row13 col2\" >0.772993</td>\n",
       "                        <td id=\"T_157ca_row13_col3\" class=\"data row13 col3\" >0.587302</td>\n",
       "                        <td id=\"T_157ca_row13_col4\" class=\"data row13 col4\" >0.764706</td>\n",
       "                        <td id=\"T_157ca_row13_col5\" class=\"data row13 col5\" >0.577778</td>\n",
       "                        <td id=\"T_157ca_row13_col6\" class=\"data row13 col6\" >0.686726</td>\n",
       "                        <td id=\"T_157ca_row13_col7\" class=\"data row13 col7\" >14.254098</td>\n",
       "            </tr>\n",
       "            <tr>\n",
       "                        <th id=\"T_157ca_level0_row14\" class=\"row_heading level0 row14\" >14</th>\n",
       "                        <td id=\"T_157ca_row14_col0\" class=\"data row14 col0\" >one vs rest svm (tuned)</td>\n",
       "                        <td id=\"T_157ca_row14_col1\" class=\"data row14 col1\" >normbow</td>\n",
       "                        <td id=\"T_157ca_row14_col2\" class=\"data row14 col2\" >2923.476402</td>\n",
       "                        <td id=\"T_157ca_row14_col3\" class=\"data row14 col3\" >0.769841</td>\n",
       "                        <td id=\"T_157ca_row14_col4\" class=\"data row14 col4\" >0.833333</td>\n",
       "                        <td id=\"T_157ca_row14_col5\" class=\"data row14 col5\" >0.777778</td>\n",
       "                        <td id=\"T_157ca_row14_col6\" class=\"data row14 col6\" >0.907521</td>\n",
       "                        <td id=\"T_157ca_row14_col7\" class=\"data row14 col7\" >0.589889</td>\n",
       "            </tr>\n",
       "            <tr>\n",
       "                        <th id=\"T_157ca_level0_row15\" class=\"row_heading level0 row15\" >15</th>\n",
       "                        <td id=\"T_157ca_row15_col0\" class=\"data row15 col0\" >one vs one svm</td>\n",
       "                        <td id=\"T_157ca_row15_col1\" class=\"data row15 col1\" >normbow</td>\n",
       "                        <td id=\"T_157ca_row15_col2\" class=\"data row15 col2\" >20.113700</td>\n",
       "                        <td id=\"T_157ca_row15_col3\" class=\"data row15 col3\" >0.777778</td>\n",
       "                        <td id=\"T_157ca_row15_col4\" class=\"data row15 col4\" >0.846154</td>\n",
       "                        <td id=\"T_157ca_row15_col5\" class=\"data row15 col5\" >0.733333</td>\n",
       "                        <td id=\"T_157ca_row15_col6\" class=\"data row15 col6\" >nan</td>\n",
       "                        <td id=\"T_157ca_row15_col7\" class=\"data row15 col7\" >nan</td>\n",
       "            </tr>\n",
       "            <tr>\n",
       "                        <th id=\"T_157ca_level0_row16\" class=\"row_heading level0 row16\" >16</th>\n",
       "                        <td id=\"T_157ca_row16_col0\" class=\"data row16 col0\" >random forest (tuned)</td>\n",
       "                        <td id=\"T_157ca_row16_col1\" class=\"data row16 col1\" >normbow</td>\n",
       "                        <td id=\"T_157ca_row16_col2\" class=\"data row16 col2\" >2231.124480</td>\n",
       "                        <td id=\"T_157ca_row16_col3\" class=\"data row16 col3\" >0.793651</td>\n",
       "                        <td id=\"T_157ca_row16_col4\" class=\"data row16 col4\" >0.837209</td>\n",
       "                        <td id=\"T_157ca_row16_col5\" class=\"data row16 col5\" >0.800000</td>\n",
       "                        <td id=\"T_157ca_row16_col6\" class=\"data row16 col6\" >0.923010</td>\n",
       "                        <td id=\"T_157ca_row16_col7\" class=\"data row16 col7\" >0.552469</td>\n",
       "            </tr>\n",
       "            <tr>\n",
       "                        <th id=\"T_157ca_level0_row17\" class=\"row_heading level0 row17\" >17</th>\n",
       "                        <td id=\"T_157ca_row17_col0\" class=\"data row17 col0\" >ada boost</td>\n",
       "                        <td id=\"T_157ca_row17_col1\" class=\"data row17 col1\" >normbow</td>\n",
       "                        <td id=\"T_157ca_row17_col2\" class=\"data row17 col2\" >21.567120</td>\n",
       "                        <td id=\"T_157ca_row17_col3\" class=\"data row17 col3\" >0.753968</td>\n",
       "                        <td id=\"T_157ca_row17_col4\" class=\"data row17 col4\" >0.790698</td>\n",
       "                        <td id=\"T_157ca_row17_col5\" class=\"data row17 col5\" >0.755556</td>\n",
       "                        <td id=\"T_157ca_row17_col6\" class=\"data row17 col6\" >0.899044</td>\n",
       "                        <td id=\"T_157ca_row17_col7\" class=\"data row17 col7\" >1.036265</td>\n",
       "            </tr>\n",
       "    </tbody></table>"
      ],
      "text/plain": [
       "<pandas.io.formats.style.Styler at 0x7f26f9c48f40>"
      ]
     },
     "execution_count": 5,
     "metadata": {},
     "output_type": "execute_result"
    }
   ],
   "source": [
    "eval_df = pd.DataFrame(eval_list)\n",
    "# eval_df.columns\n",
    "\n",
    "eval_df[['Model', 'Embedding', 'Train & test duration (s)', 'Accuracy', 'Precision (class 0)',\n",
    "       'Recall (class 0)', 'ROC AUC (ovr)', 'Cross-entropy loss']]\\\n",
    "    .style\\\n",
    "    .background_gradient(cmap='Greens', subset=['Accuracy', 'Precision (class 0)', 'Recall (class 0)', 'ROC AUC (ovr)'])\\\n",
    "    .background_gradient(cmap='Reds', subset=[\"Train & test duration (s)\", \"Cross-entropy loss\"])"
   ]
  },
  {
   "cell_type": "code",
   "execution_count": null,
   "id": "9f0054c1",
   "metadata": {},
   "outputs": [],
   "source": []
  }
 ],
 "metadata": {
  "kernelspec": {
   "display_name": "Python 3",
   "language": "python",
   "name": "python3"
  },
  "language_info": {
   "codemirror_mode": {
    "name": "ipython",
    "version": 3
   },
   "file_extension": ".py",
   "mimetype": "text/x-python",
   "name": "python",
   "nbconvert_exporter": "python",
   "pygments_lexer": "ipython3",
   "version": "3.8.5"
  }
 },
 "nbformat": 4,
 "nbformat_minor": 5
}

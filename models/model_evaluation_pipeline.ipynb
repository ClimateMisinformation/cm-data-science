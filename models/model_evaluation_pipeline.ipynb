{
 "cells": [
  {
   "cell_type": "code",
   "execution_count": 1,
   "id": "meaningful-distribution",
   "metadata": {},
   "outputs": [],
   "source": [
    "from models import *\n",
    "\n",
    "from IPython.display import display, HTML"
   ]
  },
  {
   "cell_type": "code",
   "execution_count": 2,
   "id": "appreciated-drain",
   "metadata": {},
   "outputs": [],
   "source": [
    "def import_data(embedding):\n",
    "\n",
    "    try:\n",
    "\n",
    "        data = pd.read_csv(\"embedding_data/\" + embedding + \"test.csv\", index_col=0)\n",
    "        print(\"Data loaded \", embedding)\n",
    "        print(\"Dataset shape \", data.shape)\n",
    "    except:\n",
    "\n",
    "        print(\"Error loading embedding data. Possible embedding types are: word2vec and tfidf\")\n",
    "\n",
    "    print(\"Splitting data into train and test\")\n",
    "    X_train, Y_train, X_test, Y_test = split_train_test(data)\n",
    "\n",
    "    return X_train, Y_train, X_test, Y_test"
   ]
  },
  {
   "cell_type": "code",
   "execution_count": 3,
   "id": "flush-attention",
   "metadata": {},
   "outputs": [],
   "source": [
    "def fit_predict(model, X_train, Y_train, X_test, Y_test):\n",
    "\n",
    "    if model == 'dummy':\n",
    "        eval_dict = Dummy(X_train, Y_train, X_test, Y_test)\n",
    "    elif model == 'naivebayes':\n",
    "        eval_dict = NaiveBayes(X_train, Y_train, X_test, Y_test)\n",
    "    elif model == 'onevsrest':\n",
    "        eval_dict = One_VS_Rest_SVM(X_train, Y_train, X_test, Y_test)\n",
    "    elif model == 'onevsone':\n",
    "        eval_dict = One_vs_One_SVM(X_train, Y_train, X_test, Y_test)\n",
    "    elif model == 'randomforest':\n",
    "        eval_dict = RandomForest(X_train, Y_train, X_test, Y_test)\n",
    "    elif model == 'adaboost':\n",
    "        eval_dict = AdaBoost(X_train, Y_train, X_test, Y_test)\n",
    "    else:\n",
    "        print(\"Error, potential models are: onevsrest, onevsone, randomfores and adaboost\")\n",
    "        eval_dict = {}\n",
    "\n",
    "    return eval_dict"
   ]
  },
  {
   "cell_type": "code",
   "execution_count": 4,
   "id": "reliable-plaintiff",
   "metadata": {},
   "outputs": [
    {
     "name": "stdout",
     "output_type": "stream",
     "text": [
      "\n",
      "WORD2VEC\n",
      "\n",
      "Data loaded  word2vec\n",
      "Dataset shape  (413, 301)\n",
      "Splitting data into train and test\n",
      "Training shape  (330, 301)\n",
      "Test shape  (83, 301)\n",
      "Training target distributions \n",
      "0    140\n",
      "2    116\n",
      "1     74\n",
      "Name: classes, dtype: int64\n",
      "Test target distributions \n",
      "0    31\n",
      "1    27\n",
      "2    25\n",
      "Name: classes, dtype: int64\n",
      "\n",
      "--------------------\n",
      "\n",
      "\n",
      "DUMMY (WORD2VEC)\n",
      "\n"
     ]
    },
    {
     "data": {
      "image/png": "[encoded data removed]",
      "text/plain": [
       "<Figure size 432x288 with 2 Axes>"
      ]
     },
     "metadata": {
      "needs_background": "light"
     },
     "output_type": "display_data"
    },
    {
     "name": "stdout",
     "output_type": "stream",
     "text": [
      "              precision    recall  f1-score   support\n",
      "\n",
      "           0       0.37      1.00      0.54        31\n",
      "           1       0.00      0.00      0.00        27\n",
      "           2       0.00      0.00      0.00        25\n",
      "\n",
      "    accuracy                           0.37        83\n",
      "   macro avg       0.12      0.33      0.18        83\n",
      "weighted avg       0.14      0.37      0.20        83\n",
      "\n",
      "\n",
      "--------------------\n",
      "\n",
      "\n",
      "NAIVEBAYES (WORD2VEC)\n",
      "\n"
     ]
    },
    {
     "name": "stderr",
     "output_type": "stream",
     "text": [
      "/opt/conda/lib/python3.8/site-packages/sklearn/metrics/_classification.py:1245: UndefinedMetricWarning: Precision and F-score are ill-defined and being set to 0.0 in labels with no predicted samples. Use `zero_division` parameter to control this behavior.\n",
      "  _warn_prf(average, modifier, msg_start, len(result))\n",
      "/opt/conda/lib/python3.8/site-packages/sklearn/metrics/_classification.py:1245: UndefinedMetricWarning: Precision and F-score are ill-defined and being set to 0.0 in labels with no predicted samples. Use `zero_division` parameter to control this behavior.\n",
      "  _warn_prf(average, modifier, msg_start, len(result))\n",
      "/opt/conda/lib/python3.8/site-packages/sklearn/metrics/_classification.py:1245: UndefinedMetricWarning: Precision and F-score are ill-defined and being set to 0.0 in labels with no predicted samples. Use `zero_division` parameter to control this behavior.\n",
      "  _warn_prf(average, modifier, msg_start, len(result))\n"
     ]
    },
    {
     "data": {
      "image/png": "[encoded data removed]",
      "text/plain": [
       "<Figure size 432x288 with 2 Axes>"
      ]
     },
     "metadata": {
      "needs_background": "light"
     },
     "output_type": "display_data"
    },
    {
     "name": "stdout",
     "output_type": "stream",
     "text": [
      "              precision    recall  f1-score   support\n",
      "\n",
      "           0       0.83      0.61      0.70        31\n",
      "           1       0.64      0.67      0.65        27\n",
      "           2       0.69      0.88      0.77        25\n",
      "\n",
      "    accuracy                           0.71        83\n",
      "   macro avg       0.72      0.72      0.71        83\n",
      "weighted avg       0.72      0.71      0.71        83\n",
      "\n",
      "\n",
      "--------------------\n",
      "\n",
      "\n",
      "ONEVSREST (WORD2VEC)\n",
      "\n",
      "\n",
      "Tuned one vs rest svm (tuned) parameters: {'estimator__kernel': 'rbf', 'estimator__C': 53}\n"
     ]
    },
    {
     "data": {
      "image/png": "[encoded data removed]",
      "text/plain": [
       "<Figure size 432x288 with 2 Axes>"
      ]
     },
     "metadata": {
      "needs_background": "light"
     },
     "output_type": "display_data"
    },
    {
     "name": "stdout",
     "output_type": "stream",
     "text": [
      "              precision    recall  f1-score   support\n",
      "\n",
      "           0       0.79      0.84      0.81        31\n",
      "           1       0.78      0.67      0.72        27\n",
      "           2       0.81      0.88      0.85        25\n",
      "\n",
      "    accuracy                           0.80        83\n",
      "   macro avg       0.80      0.80      0.79        83\n",
      "weighted avg       0.79      0.80      0.79        83\n",
      "\n",
      "\n",
      "--------------------\n",
      "\n",
      "\n",
      "ONEVSONE (WORD2VEC)\n",
      "\n"
     ]
    },
    {
     "data": {
      "image/png": "[encoded data removed]",
      "text/plain": [
       "<Figure size 432x288 with 2 Axes>"
      ]
     },
     "metadata": {
      "needs_background": "light"
     },
     "output_type": "display_data"
    },
    {
     "name": "stdout",
     "output_type": "stream",
     "text": [
      "              precision    recall  f1-score   support\n",
      "\n",
      "           0       0.79      0.61      0.69        31\n",
      "           1       0.61      0.70      0.66        27\n",
      "           2       0.68      0.76      0.72        25\n",
      "\n",
      "    accuracy                           0.69        83\n",
      "   macro avg       0.69      0.69      0.69        83\n",
      "weighted avg       0.70      0.69      0.69        83\n",
      "\n",
      "\n",
      "--------------------\n",
      "\n",
      "\n",
      "RANDOMFOREST (WORD2VEC)\n",
      "\n",
      "\n",
      "Tuned random forest (tuned) parameters: {'n_estimators': 97, 'max_features': 'log2', 'max_depth': None}\n"
     ]
    },
    {
     "data": {
      "image/png": "[encoded data removed]",
      "text/plain": [
       "<Figure size 432x288 with 2 Axes>"
      ]
     },
     "metadata": {
      "needs_background": "light"
     },
     "output_type": "display_data"
    },
    {
     "name": "stdout",
     "output_type": "stream",
     "text": [
      "              precision    recall  f1-score   support\n",
      "\n",
      "           0       0.77      0.77      0.77        31\n",
      "           1       0.74      0.52      0.61        27\n",
      "           2       0.67      0.88      0.76        25\n",
      "\n",
      "    accuracy                           0.72        83\n",
      "   macro avg       0.73      0.72      0.71        83\n",
      "weighted avg       0.73      0.72      0.72        83\n",
      "\n",
      "\n",
      "--------------------\n",
      "\n",
      "\n",
      "ADABOOST (WORD2VEC)\n",
      "\n"
     ]
    },
    {
     "data": {
      "image/png": "[encoded data removed]",
      "text/plain": [
       "<Figure size 432x288 with 2 Axes>"
      ]
     },
     "metadata": {
      "needs_background": "light"
     },
     "output_type": "display_data"
    },
    {
     "name": "stdout",
     "output_type": "stream",
     "text": [
      "              precision    recall  f1-score   support\n",
      "\n",
      "           0       0.79      0.71      0.75        31\n",
      "           1       0.73      0.59      0.65        27\n",
      "           2       0.70      0.92      0.79        25\n",
      "\n",
      "    accuracy                           0.73        83\n",
      "   macro avg       0.74      0.74      0.73        83\n",
      "weighted avg       0.74      0.73      0.73        83\n",
      "\n",
      "\n",
      "--------------------\n",
      "\n",
      "\n",
      "====================\n",
      "\n",
      "\n",
      "TFIDF\n",
      "\n",
      "Data loaded  tfidf\n",
      "Dataset shape  (413, 3592)\n",
      "Splitting data into train and test\n",
      "Training shape  (330, 3592)\n",
      "Test shape  (83, 3592)\n",
      "Training target distributions \n",
      "0    140\n",
      "2    116\n",
      "1     74\n",
      "Name: classes, dtype: int64\n",
      "Test target distributions \n",
      "0    31\n",
      "1    27\n",
      "2    25\n",
      "Name: classes, dtype: int64\n",
      "\n",
      "--------------------\n",
      "\n",
      "\n",
      "DUMMY (TFIDF)\n",
      "\n"
     ]
    },
    {
     "data": {
      "image/png": "[encoded data removed]",
      "text/plain": [
       "<Figure size 432x288 with 2 Axes>"
      ]
     },
     "metadata": {
      "needs_background": "light"
     },
     "output_type": "display_data"
    },
    {
     "name": "stdout",
     "output_type": "stream",
     "text": [
      "              precision    recall  f1-score   support\n",
      "\n",
      "           0       0.37      1.00      0.54        31\n",
      "           1       0.00      0.00      0.00        27\n",
      "           2       0.00      0.00      0.00        25\n",
      "\n",
      "    accuracy                           0.37        83\n",
      "   macro avg       0.12      0.33      0.18        83\n",
      "weighted avg       0.14      0.37      0.20        83\n",
      "\n",
      "\n",
      "--------------------\n",
      "\n",
      "\n",
      "NAIVEBAYES (TFIDF)\n",
      "\n"
     ]
    },
    {
     "name": "stderr",
     "output_type": "stream",
     "text": [
      "/opt/conda/lib/python3.8/site-packages/sklearn/metrics/_classification.py:1245: UndefinedMetricWarning: Precision and F-score are ill-defined and being set to 0.0 in labels with no predicted samples. Use `zero_division` parameter to control this behavior.\n",
      "  _warn_prf(average, modifier, msg_start, len(result))\n",
      "/opt/conda/lib/python3.8/site-packages/sklearn/metrics/_classification.py:1245: UndefinedMetricWarning: Precision and F-score are ill-defined and being set to 0.0 in labels with no predicted samples. Use `zero_division` parameter to control this behavior.\n",
      "  _warn_prf(average, modifier, msg_start, len(result))\n",
      "/opt/conda/lib/python3.8/site-packages/sklearn/metrics/_classification.py:1245: UndefinedMetricWarning: Precision and F-score are ill-defined and being set to 0.0 in labels with no predicted samples. Use `zero_division` parameter to control this behavior.\n",
      "  _warn_prf(average, modifier, msg_start, len(result))\n"
     ]
    },
    {
     "data": {
      "image/png": "[encoded data removed]",
      "text/plain": [
       "<Figure size 432x288 with 2 Axes>"
      ]
     },
     "metadata": {
      "needs_background": "light"
     },
     "output_type": "display_data"
    },
    {
     "name": "stdout",
     "output_type": "stream",
     "text": [
      "              precision    recall  f1-score   support\n",
      "\n",
      "           0       0.69      0.58      0.63        31\n",
      "           1       0.67      0.52      0.58        27\n",
      "           2       0.58      0.84      0.69        25\n",
      "\n",
      "    accuracy                           0.64        83\n",
      "   macro avg       0.65      0.65      0.63        83\n",
      "weighted avg       0.65      0.64      0.63        83\n",
      "\n",
      "\n",
      "--------------------\n",
      "\n",
      "\n",
      "ONEVSREST (TFIDF)\n",
      "\n",
      "\n",
      "Tuned one vs rest svm (tuned) parameters: {'estimator__kernel': 'rbf', 'estimator__C': 15}\n"
     ]
    },
    {
     "data": {
      "image/png": "[encoded data removed]",
      "text/plain": [
       "<Figure size 432x288 with 2 Axes>"
      ]
     },
     "metadata": {
      "needs_background": "light"
     },
     "output_type": "display_data"
    },
    {
     "name": "stdout",
     "output_type": "stream",
     "text": [
      "              precision    recall  f1-score   support\n",
      "\n",
      "           0       0.83      0.81      0.82        31\n",
      "           1       0.86      0.67      0.75        27\n",
      "           2       0.75      0.96      0.84        25\n",
      "\n",
      "    accuracy                           0.81        83\n",
      "   macro avg       0.81      0.81      0.80        83\n",
      "weighted avg       0.82      0.81      0.80        83\n",
      "\n",
      "\n",
      "--------------------\n",
      "\n",
      "\n",
      "ONEVSONE (TFIDF)\n",
      "\n"
     ]
    },
    {
     "data": {
      "image/png": "[encoded data removed]",
      "text/plain": [
       "<Figure size 432x288 with 2 Axes>"
      ]
     },
     "metadata": {
      "needs_background": "light"
     },
     "output_type": "display_data"
    },
    {
     "name": "stdout",
     "output_type": "stream",
     "text": [
      "              precision    recall  f1-score   support\n",
      "\n",
      "           0       0.81      0.71      0.76        31\n",
      "           1       0.83      0.70      0.76        27\n",
      "           2       0.73      0.96      0.83        25\n",
      "\n",
      "    accuracy                           0.78        83\n",
      "   macro avg       0.79      0.79      0.78        83\n",
      "weighted avg       0.79      0.78      0.78        83\n",
      "\n",
      "\n",
      "--------------------\n",
      "\n",
      "\n",
      "RANDOMFOREST (TFIDF)\n",
      "\n",
      "\n",
      "Tuned random forest (tuned) parameters: {'n_estimators': 82, 'max_features': 'sqrt', 'max_depth': None}\n"
     ]
    },
    {
     "data": {
      "image/png": "[encoded data removed]",
      "text/plain": [
       "<Figure size 432x288 with 2 Axes>"
      ]
     },
     "metadata": {
      "needs_background": "light"
     },
     "output_type": "display_data"
    },
    {
     "name": "stdout",
     "output_type": "stream",
     "text": [
      "              precision    recall  f1-score   support\n",
      "\n",
      "           0       0.76      0.81      0.78        31\n",
      "           1       0.84      0.59      0.70        27\n",
      "           2       0.71      0.88      0.79        25\n",
      "\n",
      "    accuracy                           0.76        83\n",
      "   macro avg       0.77      0.76      0.75        83\n",
      "weighted avg       0.77      0.76      0.75        83\n",
      "\n",
      "\n",
      "--------------------\n",
      "\n",
      "\n",
      "ADABOOST (TFIDF)\n",
      "\n"
     ]
    },
    {
     "data": {
      "image/png": "[encoded data removed]",
      "text/plain": [
       "<Figure size 432x288 with 2 Axes>"
      ]
     },
     "metadata": {
      "needs_background": "light"
     },
     "output_type": "display_data"
    },
    {
     "name": "stdout",
     "output_type": "stream",
     "text": [
      "              precision    recall  f1-score   support\n",
      "\n",
      "           0       0.78      0.81      0.79        31\n",
      "           1       0.72      0.67      0.69        27\n",
      "           2       0.77      0.80      0.78        25\n",
      "\n",
      "    accuracy                           0.76        83\n",
      "   macro avg       0.76      0.76      0.76        83\n",
      "weighted avg       0.76      0.76      0.76        83\n",
      "\n",
      "\n",
      "--------------------\n",
      "\n",
      "\n",
      "====================\n",
      "\n",
      "\n",
      "NORMBOW\n",
      "\n",
      "Data loaded  normbow\n",
      "Dataset shape  (413, 15677)\n",
      "Splitting data into train and test\n",
      "Training shape  (330, 15677)\n",
      "Test shape  (83, 15677)\n",
      "Training target distributions \n",
      "0    140\n",
      "2    116\n",
      "1     74\n",
      "Name: classes, dtype: int64\n",
      "Test target distributions \n",
      "0    31\n",
      "1    27\n",
      "2    25\n",
      "Name: classes, dtype: int64\n",
      "\n",
      "--------------------\n",
      "\n",
      "\n",
      "DUMMY (NORMBOW)\n",
      "\n"
     ]
    },
    {
     "data": {
      "image/png": "[encoded data removed]",
      "text/plain": [
       "<Figure size 432x288 with 2 Axes>"
      ]
     },
     "metadata": {
      "needs_background": "light"
     },
     "output_type": "display_data"
    },
    {
     "name": "stderr",
     "output_type": "stream",
     "text": [
      "/opt/conda/lib/python3.8/site-packages/sklearn/metrics/_classification.py:1245: UndefinedMetricWarning: Precision and F-score are ill-defined and being set to 0.0 in labels with no predicted samples. Use `zero_division` parameter to control this behavior.\n",
      "  _warn_prf(average, modifier, msg_start, len(result))\n",
      "/opt/conda/lib/python3.8/site-packages/sklearn/metrics/_classification.py:1245: UndefinedMetricWarning: Precision and F-score are ill-defined and being set to 0.0 in labels with no predicted samples. Use `zero_division` parameter to control this behavior.\n",
      "  _warn_prf(average, modifier, msg_start, len(result))\n",
      "/opt/conda/lib/python3.8/site-packages/sklearn/metrics/_classification.py:1245: UndefinedMetricWarning: Precision and F-score are ill-defined and being set to 0.0 in labels with no predicted samples. Use `zero_division` parameter to control this behavior.\n",
      "  _warn_prf(average, modifier, msg_start, len(result))\n"
     ]
    },
    {
     "name": "stdout",
     "output_type": "stream",
     "text": [
      "              precision    recall  f1-score   support\n",
      "\n",
      "           0       0.37      1.00      0.54        31\n",
      "           1       0.00      0.00      0.00        27\n",
      "           2       0.00      0.00      0.00        25\n",
      "\n",
      "    accuracy                           0.37        83\n",
      "   macro avg       0.12      0.33      0.18        83\n",
      "weighted avg       0.14      0.37      0.20        83\n",
      "\n",
      "\n",
      "--------------------\n",
      "\n",
      "\n",
      "NAIVEBAYES (NORMBOW)\n",
      "\n"
     ]
    },
    {
     "data": {
      "image/png": "[encoded data removed]",
      "text/plain": [
       "<Figure size 432x288 with 2 Axes>"
      ]
     },
     "metadata": {
      "needs_background": "light"
     },
     "output_type": "display_data"
    },
    {
     "name": "stdout",
     "output_type": "stream",
     "text": [
      "              precision    recall  f1-score   support\n",
      "\n",
      "           0       0.74      0.65      0.69        31\n",
      "           1       0.67      0.44      0.53        27\n",
      "           2       0.55      0.84      0.67        25\n",
      "\n",
      "    accuracy                           0.64        83\n",
      "   macro avg       0.65      0.64      0.63        83\n",
      "weighted avg       0.66      0.64      0.63        83\n",
      "\n",
      "\n",
      "--------------------\n",
      "\n",
      "\n",
      "ONEVSREST (NORMBOW)\n",
      "\n"
     ]
    },
    {
     "ename": "KeyboardInterrupt",
     "evalue": "",
     "output_type": "error",
     "traceback": [
      "\u001b[0;31m---------------------------------------------------------------------------\u001b[0m",
      "\u001b[0;31mKeyboardInterrupt\u001b[0m                         Traceback (most recent call last)",
      "\u001b[0;32m<ipython-input-4-b732d4fb0f11>\u001b[0m in \u001b[0;36m<module>\u001b[0;34m\u001b[0m\n\u001b[1;32m     11\u001b[0m         \u001b[0mt0\u001b[0m \u001b[0;34m=\u001b[0m \u001b[0mdatetime\u001b[0m\u001b[0;34m.\u001b[0m\u001b[0mnow\u001b[0m\u001b[0;34m(\u001b[0m\u001b[0;34m)\u001b[0m\u001b[0;34m\u001b[0m\u001b[0;34m\u001b[0m\u001b[0m\n\u001b[1;32m     12\u001b[0m         \u001b[0mprint\u001b[0m\u001b[0;34m(\u001b[0m\u001b[0;34m\"\\n{0} ({1})\\n\"\u001b[0m\u001b[0;34m.\u001b[0m\u001b[0mformat\u001b[0m\u001b[0;34m(\u001b[0m\u001b[0mmodel\u001b[0m\u001b[0;34m.\u001b[0m\u001b[0mupper\u001b[0m\u001b[0;34m(\u001b[0m\u001b[0;34m)\u001b[0m\u001b[0;34m,\u001b[0m \u001b[0membedding\u001b[0m\u001b[0;34m.\u001b[0m\u001b[0mupper\u001b[0m\u001b[0;34m(\u001b[0m\u001b[0;34m)\u001b[0m\u001b[0;34m)\u001b[0m\u001b[0;34m)\u001b[0m\u001b[0;34m\u001b[0m\u001b[0;34m\u001b[0m\u001b[0m\n\u001b[0;32m---> 13\u001b[0;31m         \u001b[0meval_dict\u001b[0m \u001b[0;34m=\u001b[0m \u001b[0mfit_predict\u001b[0m\u001b[0;34m(\u001b[0m\u001b[0mmodel\u001b[0m\u001b[0;34m,\u001b[0m \u001b[0mX_train\u001b[0m\u001b[0;34m,\u001b[0m \u001b[0mY_train\u001b[0m\u001b[0;34m,\u001b[0m \u001b[0mX_test\u001b[0m\u001b[0;34m,\u001b[0m \u001b[0mY_test\u001b[0m\u001b[0;34m)\u001b[0m\u001b[0;34m\u001b[0m\u001b[0;34m\u001b[0m\u001b[0m\n\u001b[0m\u001b[1;32m     14\u001b[0m         \u001b[0mt1\u001b[0m \u001b[0;34m=\u001b[0m \u001b[0mdatetime\u001b[0m\u001b[0;34m.\u001b[0m\u001b[0mnow\u001b[0m\u001b[0;34m(\u001b[0m\u001b[0;34m)\u001b[0m\u001b[0;34m\u001b[0m\u001b[0;34m\u001b[0m\u001b[0m\n\u001b[1;32m     15\u001b[0m         \u001b[0meval_dict\u001b[0m\u001b[0;34m[\u001b[0m\u001b[0;34m\"Embedding\"\u001b[0m\u001b[0;34m]\u001b[0m \u001b[0;34m=\u001b[0m \u001b[0membedding\u001b[0m\u001b[0;34m\u001b[0m\u001b[0;34m\u001b[0m\u001b[0m\n",
      "\u001b[0;32m<ipython-input-3-05a827da8cda>\u001b[0m in \u001b[0;36mfit_predict\u001b[0;34m(model, X_train, Y_train, X_test, Y_test)\u001b[0m\n\u001b[1;32m      6\u001b[0m         \u001b[0meval_dict\u001b[0m \u001b[0;34m=\u001b[0m \u001b[0mNaiveBayes\u001b[0m\u001b[0;34m(\u001b[0m\u001b[0mX_train\u001b[0m\u001b[0;34m,\u001b[0m \u001b[0mY_train\u001b[0m\u001b[0;34m,\u001b[0m \u001b[0mX_test\u001b[0m\u001b[0;34m,\u001b[0m \u001b[0mY_test\u001b[0m\u001b[0;34m)\u001b[0m\u001b[0;34m\u001b[0m\u001b[0;34m\u001b[0m\u001b[0m\n\u001b[1;32m      7\u001b[0m     \u001b[0;32melif\u001b[0m \u001b[0mmodel\u001b[0m \u001b[0;34m==\u001b[0m \u001b[0;34m'onevsrest'\u001b[0m\u001b[0;34m:\u001b[0m\u001b[0;34m\u001b[0m\u001b[0;34m\u001b[0m\u001b[0m\n\u001b[0;32m----> 8\u001b[0;31m         \u001b[0meval_dict\u001b[0m \u001b[0;34m=\u001b[0m \u001b[0mOne_VS_Rest_SVM\u001b[0m\u001b[0;34m(\u001b[0m\u001b[0mX_train\u001b[0m\u001b[0;34m,\u001b[0m \u001b[0mY_train\u001b[0m\u001b[0;34m,\u001b[0m \u001b[0mX_test\u001b[0m\u001b[0;34m,\u001b[0m \u001b[0mY_test\u001b[0m\u001b[0;34m)\u001b[0m\u001b[0;34m\u001b[0m\u001b[0;34m\u001b[0m\u001b[0m\n\u001b[0m\u001b[1;32m      9\u001b[0m     \u001b[0;32melif\u001b[0m \u001b[0mmodel\u001b[0m \u001b[0;34m==\u001b[0m \u001b[0;34m'onevsone'\u001b[0m\u001b[0;34m:\u001b[0m\u001b[0;34m\u001b[0m\u001b[0;34m\u001b[0m\u001b[0m\n\u001b[1;32m     10\u001b[0m         \u001b[0meval_dict\u001b[0m \u001b[0;34m=\u001b[0m \u001b[0mOne_vs_One_SVM\u001b[0m\u001b[0;34m(\u001b[0m\u001b[0mX_train\u001b[0m\u001b[0;34m,\u001b[0m \u001b[0mY_train\u001b[0m\u001b[0;34m,\u001b[0m \u001b[0mX_test\u001b[0m\u001b[0;34m,\u001b[0m \u001b[0mY_test\u001b[0m\u001b[0;34m)\u001b[0m\u001b[0;34m\u001b[0m\u001b[0;34m\u001b[0m\u001b[0m\n",
      "\u001b[0;32m/data/models/models.py\u001b[0m in \u001b[0;36mOne_VS_Rest_SVM\u001b[0;34m(X_train, Y_train, X_test, Y_test)\u001b[0m\n\u001b[1;32m    117\u001b[0m     grid = RandomizedSearchCV(OneVsRestClassifier(SVC(random_state=42, class_weight='balanced', probability=True)), \n\u001b[1;32m    118\u001b[0m             param_grid, cv=kfold, scoring=\"roc_auc_ovr\", n_iter=20)\n\u001b[0;32m--> 119\u001b[0;31m     \u001b[0mgrid\u001b[0m\u001b[0;34m.\u001b[0m\u001b[0mfit\u001b[0m\u001b[0;34m(\u001b[0m\u001b[0mX_train\u001b[0m\u001b[0;34m,\u001b[0m \u001b[0mY_train\u001b[0m\u001b[0;34m)\u001b[0m\u001b[0;34m\u001b[0m\u001b[0;34m\u001b[0m\u001b[0m\n\u001b[0m\u001b[1;32m    120\u001b[0m \u001b[0;34m\u001b[0m\u001b[0m\n\u001b[1;32m    121\u001b[0m     \u001b[0mprint\u001b[0m\u001b[0;34m(\u001b[0m\u001b[0;34m\"\\nTuned {0} parameters: {1}\"\u001b[0m\u001b[0;34m.\u001b[0m\u001b[0mformat\u001b[0m\u001b[0;34m(\u001b[0m\u001b[0mmodel\u001b[0m\u001b[0;34m,\u001b[0m \u001b[0mgrid\u001b[0m\u001b[0;34m.\u001b[0m\u001b[0mbest_params_\u001b[0m\u001b[0;34m)\u001b[0m\u001b[0;34m)\u001b[0m\u001b[0;34m\u001b[0m\u001b[0;34m\u001b[0m\u001b[0m\n",
      "\u001b[0;32m/opt/conda/lib/python3.8/site-packages/sklearn/utils/validation.py\u001b[0m in \u001b[0;36minner_f\u001b[0;34m(*args, **kwargs)\u001b[0m\n\u001b[1;32m     61\u001b[0m             \u001b[0mextra_args\u001b[0m \u001b[0;34m=\u001b[0m \u001b[0mlen\u001b[0m\u001b[0;34m(\u001b[0m\u001b[0margs\u001b[0m\u001b[0;34m)\u001b[0m \u001b[0;34m-\u001b[0m \u001b[0mlen\u001b[0m\u001b[0;34m(\u001b[0m\u001b[0mall_args\u001b[0m\u001b[0;34m)\u001b[0m\u001b[0;34m\u001b[0m\u001b[0;34m\u001b[0m\u001b[0m\n\u001b[1;32m     62\u001b[0m             \u001b[0;32mif\u001b[0m \u001b[0mextra_args\u001b[0m \u001b[0;34m<=\u001b[0m \u001b[0;36m0\u001b[0m\u001b[0;34m:\u001b[0m\u001b[0;34m\u001b[0m\u001b[0;34m\u001b[0m\u001b[0m\n\u001b[0;32m---> 63\u001b[0;31m                 \u001b[0;32mreturn\u001b[0m \u001b[0mf\u001b[0m\u001b[0;34m(\u001b[0m\u001b[0;34m*\u001b[0m\u001b[0margs\u001b[0m\u001b[0;34m,\u001b[0m \u001b[0;34m**\u001b[0m\u001b[0mkwargs\u001b[0m\u001b[0;34m)\u001b[0m\u001b[0;34m\u001b[0m\u001b[0;34m\u001b[0m\u001b[0m\n\u001b[0m\u001b[1;32m     64\u001b[0m \u001b[0;34m\u001b[0m\u001b[0m\n\u001b[1;32m     65\u001b[0m             \u001b[0;31m# extra_args > 0\u001b[0m\u001b[0;34m\u001b[0m\u001b[0;34m\u001b[0m\u001b[0;34m\u001b[0m\u001b[0m\n",
      "\u001b[0;32m/opt/conda/lib/python3.8/site-packages/sklearn/model_selection/_search.py\u001b[0m in \u001b[0;36mfit\u001b[0;34m(self, X, y, groups, **fit_params)\u001b[0m\n\u001b[1;32m    839\u001b[0m                 \u001b[0;32mreturn\u001b[0m \u001b[0mresults\u001b[0m\u001b[0;34m\u001b[0m\u001b[0;34m\u001b[0m\u001b[0m\n\u001b[1;32m    840\u001b[0m \u001b[0;34m\u001b[0m\u001b[0m\n\u001b[0;32m--> 841\u001b[0;31m             \u001b[0mself\u001b[0m\u001b[0;34m.\u001b[0m\u001b[0m_run_search\u001b[0m\u001b[0;34m(\u001b[0m\u001b[0mevaluate_candidates\u001b[0m\u001b[0;34m)\u001b[0m\u001b[0;34m\u001b[0m\u001b[0;34m\u001b[0m\u001b[0m\n\u001b[0m\u001b[1;32m    842\u001b[0m \u001b[0;34m\u001b[0m\u001b[0m\n\u001b[1;32m    843\u001b[0m             \u001b[0;31m# multimetric is determined here because in the case of a callable\u001b[0m\u001b[0;34m\u001b[0m\u001b[0;34m\u001b[0m\u001b[0;34m\u001b[0m\u001b[0m\n",
      "\u001b[0;32m/opt/conda/lib/python3.8/site-packages/sklearn/model_selection/_search.py\u001b[0m in \u001b[0;36m_run_search\u001b[0;34m(self, evaluate_candidates)\u001b[0m\n\u001b[1;32m   1617\u001b[0m     \u001b[0;32mdef\u001b[0m \u001b[0m_run_search\u001b[0m\u001b[0;34m(\u001b[0m\u001b[0mself\u001b[0m\u001b[0;34m,\u001b[0m \u001b[0mevaluate_candidates\u001b[0m\u001b[0;34m)\u001b[0m\u001b[0;34m:\u001b[0m\u001b[0;34m\u001b[0m\u001b[0;34m\u001b[0m\u001b[0m\n\u001b[1;32m   1618\u001b[0m         \u001b[0;34m\"\"\"Search n_iter candidates from param_distributions\"\"\"\u001b[0m\u001b[0;34m\u001b[0m\u001b[0;34m\u001b[0m\u001b[0m\n\u001b[0;32m-> 1619\u001b[0;31m         evaluate_candidates(ParameterSampler(\n\u001b[0m\u001b[1;32m   1620\u001b[0m             \u001b[0mself\u001b[0m\u001b[0;34m.\u001b[0m\u001b[0mparam_distributions\u001b[0m\u001b[0;34m,\u001b[0m \u001b[0mself\u001b[0m\u001b[0;34m.\u001b[0m\u001b[0mn_iter\u001b[0m\u001b[0;34m,\u001b[0m\u001b[0;34m\u001b[0m\u001b[0;34m\u001b[0m\u001b[0m\n\u001b[1;32m   1621\u001b[0m             random_state=self.random_state))\n",
      "\u001b[0;32m/opt/conda/lib/python3.8/site-packages/sklearn/model_selection/_search.py\u001b[0m in \u001b[0;36mevaluate_candidates\u001b[0;34m(candidate_params, cv, more_results)\u001b[0m\n\u001b[1;32m    793\u001b[0m                               n_splits, n_candidates, n_candidates * n_splits))\n\u001b[1;32m    794\u001b[0m \u001b[0;34m\u001b[0m\u001b[0m\n\u001b[0;32m--> 795\u001b[0;31m                 out = parallel(delayed(_fit_and_score)(clone(base_estimator),\n\u001b[0m\u001b[1;32m    796\u001b[0m                                                        \u001b[0mX\u001b[0m\u001b[0;34m,\u001b[0m \u001b[0my\u001b[0m\u001b[0;34m,\u001b[0m\u001b[0;34m\u001b[0m\u001b[0;34m\u001b[0m\u001b[0m\n\u001b[1;32m    797\u001b[0m                                                        \u001b[0mtrain\u001b[0m\u001b[0;34m=\u001b[0m\u001b[0mtrain\u001b[0m\u001b[0;34m,\u001b[0m \u001b[0mtest\u001b[0m\u001b[0;34m=\u001b[0m\u001b[0mtest\u001b[0m\u001b[0;34m,\u001b[0m\u001b[0;34m\u001b[0m\u001b[0;34m\u001b[0m\u001b[0m\n",
      "\u001b[0;32m/opt/conda/lib/python3.8/site-packages/joblib/parallel.py\u001b[0m in \u001b[0;36m__call__\u001b[0;34m(self, iterable)\u001b[0m\n\u001b[1;32m   1042\u001b[0m                 \u001b[0mself\u001b[0m\u001b[0;34m.\u001b[0m\u001b[0m_iterating\u001b[0m \u001b[0;34m=\u001b[0m \u001b[0mself\u001b[0m\u001b[0;34m.\u001b[0m\u001b[0m_original_iterator\u001b[0m \u001b[0;32mis\u001b[0m \u001b[0;32mnot\u001b[0m \u001b[0;32mNone\u001b[0m\u001b[0;34m\u001b[0m\u001b[0;34m\u001b[0m\u001b[0m\n\u001b[1;32m   1043\u001b[0m \u001b[0;34m\u001b[0m\u001b[0m\n\u001b[0;32m-> 1044\u001b[0;31m             \u001b[0;32mwhile\u001b[0m \u001b[0mself\u001b[0m\u001b[0;34m.\u001b[0m\u001b[0mdispatch_one_batch\u001b[0m\u001b[0;34m(\u001b[0m\u001b[0miterator\u001b[0m\u001b[0;34m)\u001b[0m\u001b[0;34m:\u001b[0m\u001b[0;34m\u001b[0m\u001b[0;34m\u001b[0m\u001b[0m\n\u001b[0m\u001b[1;32m   1045\u001b[0m                 \u001b[0;32mpass\u001b[0m\u001b[0;34m\u001b[0m\u001b[0;34m\u001b[0m\u001b[0m\n\u001b[1;32m   1046\u001b[0m \u001b[0;34m\u001b[0m\u001b[0m\n",
      "\u001b[0;32m/opt/conda/lib/python3.8/site-packages/joblib/parallel.py\u001b[0m in \u001b[0;36mdispatch_one_batch\u001b[0;34m(self, iterator)\u001b[0m\n\u001b[1;32m    857\u001b[0m                 \u001b[0;32mreturn\u001b[0m \u001b[0;32mFalse\u001b[0m\u001b[0;34m\u001b[0m\u001b[0;34m\u001b[0m\u001b[0m\n\u001b[1;32m    858\u001b[0m             \u001b[0;32melse\u001b[0m\u001b[0;34m:\u001b[0m\u001b[0;34m\u001b[0m\u001b[0;34m\u001b[0m\u001b[0m\n\u001b[0;32m--> 859\u001b[0;31m                 \u001b[0mself\u001b[0m\u001b[0;34m.\u001b[0m\u001b[0m_dispatch\u001b[0m\u001b[0;34m(\u001b[0m\u001b[0mtasks\u001b[0m\u001b[0;34m)\u001b[0m\u001b[0;34m\u001b[0m\u001b[0;34m\u001b[0m\u001b[0m\n\u001b[0m\u001b[1;32m    860\u001b[0m                 \u001b[0;32mreturn\u001b[0m \u001b[0;32mTrue\u001b[0m\u001b[0;34m\u001b[0m\u001b[0;34m\u001b[0m\u001b[0m\n\u001b[1;32m    861\u001b[0m \u001b[0;34m\u001b[0m\u001b[0m\n",
      "\u001b[0;32m/opt/conda/lib/python3.8/site-packages/joblib/parallel.py\u001b[0m in \u001b[0;36m_dispatch\u001b[0;34m(self, batch)\u001b[0m\n\u001b[1;32m    775\u001b[0m         \u001b[0;32mwith\u001b[0m \u001b[0mself\u001b[0m\u001b[0;34m.\u001b[0m\u001b[0m_lock\u001b[0m\u001b[0;34m:\u001b[0m\u001b[0;34m\u001b[0m\u001b[0;34m\u001b[0m\u001b[0m\n\u001b[1;32m    776\u001b[0m             \u001b[0mjob_idx\u001b[0m \u001b[0;34m=\u001b[0m \u001b[0mlen\u001b[0m\u001b[0;34m(\u001b[0m\u001b[0mself\u001b[0m\u001b[0;34m.\u001b[0m\u001b[0m_jobs\u001b[0m\u001b[0;34m)\u001b[0m\u001b[0;34m\u001b[0m\u001b[0;34m\u001b[0m\u001b[0m\n\u001b[0;32m--> 777\u001b[0;31m             \u001b[0mjob\u001b[0m \u001b[0;34m=\u001b[0m \u001b[0mself\u001b[0m\u001b[0;34m.\u001b[0m\u001b[0m_backend\u001b[0m\u001b[0;34m.\u001b[0m\u001b[0mapply_async\u001b[0m\u001b[0;34m(\u001b[0m\u001b[0mbatch\u001b[0m\u001b[0;34m,\u001b[0m \u001b[0mcallback\u001b[0m\u001b[0;34m=\u001b[0m\u001b[0mcb\u001b[0m\u001b[0;34m)\u001b[0m\u001b[0;34m\u001b[0m\u001b[0;34m\u001b[0m\u001b[0m\n\u001b[0m\u001b[1;32m    778\u001b[0m             \u001b[0;31m# A job can complete so quickly than its callback is\u001b[0m\u001b[0;34m\u001b[0m\u001b[0;34m\u001b[0m\u001b[0;34m\u001b[0m\u001b[0m\n\u001b[1;32m    779\u001b[0m             \u001b[0;31m# called before we get here, causing self._jobs to\u001b[0m\u001b[0;34m\u001b[0m\u001b[0;34m\u001b[0m\u001b[0;34m\u001b[0m\u001b[0m\n",
      "\u001b[0;32m/opt/conda/lib/python3.8/site-packages/joblib/_parallel_backends.py\u001b[0m in \u001b[0;36mapply_async\u001b[0;34m(self, func, callback)\u001b[0m\n\u001b[1;32m    206\u001b[0m     \u001b[0;32mdef\u001b[0m \u001b[0mapply_async\u001b[0m\u001b[0;34m(\u001b[0m\u001b[0mself\u001b[0m\u001b[0;34m,\u001b[0m \u001b[0mfunc\u001b[0m\u001b[0;34m,\u001b[0m \u001b[0mcallback\u001b[0m\u001b[0;34m=\u001b[0m\u001b[0;32mNone\u001b[0m\u001b[0;34m)\u001b[0m\u001b[0;34m:\u001b[0m\u001b[0;34m\u001b[0m\u001b[0;34m\u001b[0m\u001b[0m\n\u001b[1;32m    207\u001b[0m         \u001b[0;34m\"\"\"Schedule a func to be run\"\"\"\u001b[0m\u001b[0;34m\u001b[0m\u001b[0;34m\u001b[0m\u001b[0m\n\u001b[0;32m--> 208\u001b[0;31m         \u001b[0mresult\u001b[0m \u001b[0;34m=\u001b[0m \u001b[0mImmediateResult\u001b[0m\u001b[0;34m(\u001b[0m\u001b[0mfunc\u001b[0m\u001b[0;34m)\u001b[0m\u001b[0;34m\u001b[0m\u001b[0;34m\u001b[0m\u001b[0m\n\u001b[0m\u001b[1;32m    209\u001b[0m         \u001b[0;32mif\u001b[0m \u001b[0mcallback\u001b[0m\u001b[0;34m:\u001b[0m\u001b[0;34m\u001b[0m\u001b[0;34m\u001b[0m\u001b[0m\n\u001b[1;32m    210\u001b[0m             \u001b[0mcallback\u001b[0m\u001b[0;34m(\u001b[0m\u001b[0mresult\u001b[0m\u001b[0;34m)\u001b[0m\u001b[0;34m\u001b[0m\u001b[0;34m\u001b[0m\u001b[0m\n",
      "\u001b[0;32m/opt/conda/lib/python3.8/site-packages/joblib/_parallel_backends.py\u001b[0m in \u001b[0;36m__init__\u001b[0;34m(self, batch)\u001b[0m\n\u001b[1;32m    570\u001b[0m         \u001b[0;31m# Don't delay the application, to avoid keeping the input\u001b[0m\u001b[0;34m\u001b[0m\u001b[0;34m\u001b[0m\u001b[0;34m\u001b[0m\u001b[0m\n\u001b[1;32m    571\u001b[0m         \u001b[0;31m# arguments in memory\u001b[0m\u001b[0;34m\u001b[0m\u001b[0;34m\u001b[0m\u001b[0;34m\u001b[0m\u001b[0m\n\u001b[0;32m--> 572\u001b[0;31m         \u001b[0mself\u001b[0m\u001b[0;34m.\u001b[0m\u001b[0mresults\u001b[0m \u001b[0;34m=\u001b[0m \u001b[0mbatch\u001b[0m\u001b[0;34m(\u001b[0m\u001b[0;34m)\u001b[0m\u001b[0;34m\u001b[0m\u001b[0;34m\u001b[0m\u001b[0m\n\u001b[0m\u001b[1;32m    573\u001b[0m \u001b[0;34m\u001b[0m\u001b[0m\n\u001b[1;32m    574\u001b[0m     \u001b[0;32mdef\u001b[0m \u001b[0mget\u001b[0m\u001b[0;34m(\u001b[0m\u001b[0mself\u001b[0m\u001b[0;34m)\u001b[0m\u001b[0;34m:\u001b[0m\u001b[0;34m\u001b[0m\u001b[0;34m\u001b[0m\u001b[0m\n",
      "\u001b[0;32m/opt/conda/lib/python3.8/site-packages/joblib/parallel.py\u001b[0m in \u001b[0;36m__call__\u001b[0;34m(self)\u001b[0m\n\u001b[1;32m    260\u001b[0m         \u001b[0;31m# change the default number of processes to -1\u001b[0m\u001b[0;34m\u001b[0m\u001b[0;34m\u001b[0m\u001b[0;34m\u001b[0m\u001b[0m\n\u001b[1;32m    261\u001b[0m         \u001b[0;32mwith\u001b[0m \u001b[0mparallel_backend\u001b[0m\u001b[0;34m(\u001b[0m\u001b[0mself\u001b[0m\u001b[0;34m.\u001b[0m\u001b[0m_backend\u001b[0m\u001b[0;34m,\u001b[0m \u001b[0mn_jobs\u001b[0m\u001b[0;34m=\u001b[0m\u001b[0mself\u001b[0m\u001b[0;34m.\u001b[0m\u001b[0m_n_jobs\u001b[0m\u001b[0;34m)\u001b[0m\u001b[0;34m:\u001b[0m\u001b[0;34m\u001b[0m\u001b[0;34m\u001b[0m\u001b[0m\n\u001b[0;32m--> 262\u001b[0;31m             return [func(*args, **kwargs)\n\u001b[0m\u001b[1;32m    263\u001b[0m                     for func, args, kwargs in self.items]\n\u001b[1;32m    264\u001b[0m \u001b[0;34m\u001b[0m\u001b[0m\n",
      "\u001b[0;32m/opt/conda/lib/python3.8/site-packages/joblib/parallel.py\u001b[0m in \u001b[0;36m<listcomp>\u001b[0;34m(.0)\u001b[0m\n\u001b[1;32m    260\u001b[0m         \u001b[0;31m# change the default number of processes to -1\u001b[0m\u001b[0;34m\u001b[0m\u001b[0;34m\u001b[0m\u001b[0;34m\u001b[0m\u001b[0m\n\u001b[1;32m    261\u001b[0m         \u001b[0;32mwith\u001b[0m \u001b[0mparallel_backend\u001b[0m\u001b[0;34m(\u001b[0m\u001b[0mself\u001b[0m\u001b[0;34m.\u001b[0m\u001b[0m_backend\u001b[0m\u001b[0;34m,\u001b[0m \u001b[0mn_jobs\u001b[0m\u001b[0;34m=\u001b[0m\u001b[0mself\u001b[0m\u001b[0;34m.\u001b[0m\u001b[0m_n_jobs\u001b[0m\u001b[0;34m)\u001b[0m\u001b[0;34m:\u001b[0m\u001b[0;34m\u001b[0m\u001b[0;34m\u001b[0m\u001b[0m\n\u001b[0;32m--> 262\u001b[0;31m             return [func(*args, **kwargs)\n\u001b[0m\u001b[1;32m    263\u001b[0m                     for func, args, kwargs in self.items]\n\u001b[1;32m    264\u001b[0m \u001b[0;34m\u001b[0m\u001b[0m\n",
      "\u001b[0;32m/opt/conda/lib/python3.8/site-packages/sklearn/utils/fixes.py\u001b[0m in \u001b[0;36m__call__\u001b[0;34m(self, *args, **kwargs)\u001b[0m\n\u001b[1;32m    220\u001b[0m     \u001b[0;32mdef\u001b[0m \u001b[0m__call__\u001b[0m\u001b[0;34m(\u001b[0m\u001b[0mself\u001b[0m\u001b[0;34m,\u001b[0m \u001b[0;34m*\u001b[0m\u001b[0margs\u001b[0m\u001b[0;34m,\u001b[0m \u001b[0;34m**\u001b[0m\u001b[0mkwargs\u001b[0m\u001b[0;34m)\u001b[0m\u001b[0;34m:\u001b[0m\u001b[0;34m\u001b[0m\u001b[0;34m\u001b[0m\u001b[0m\n\u001b[1;32m    221\u001b[0m         \u001b[0;32mwith\u001b[0m \u001b[0mconfig_context\u001b[0m\u001b[0;34m(\u001b[0m\u001b[0;34m**\u001b[0m\u001b[0mself\u001b[0m\u001b[0;34m.\u001b[0m\u001b[0mconfig\u001b[0m\u001b[0;34m)\u001b[0m\u001b[0;34m:\u001b[0m\u001b[0;34m\u001b[0m\u001b[0;34m\u001b[0m\u001b[0m\n\u001b[0;32m--> 222\u001b[0;31m             \u001b[0;32mreturn\u001b[0m \u001b[0mself\u001b[0m\u001b[0;34m.\u001b[0m\u001b[0mfunction\u001b[0m\u001b[0;34m(\u001b[0m\u001b[0;34m*\u001b[0m\u001b[0margs\u001b[0m\u001b[0;34m,\u001b[0m \u001b[0;34m**\u001b[0m\u001b[0mkwargs\u001b[0m\u001b[0;34m)\u001b[0m\u001b[0;34m\u001b[0m\u001b[0;34m\u001b[0m\u001b[0m\n\u001b[0m",
      "\u001b[0;32m/opt/conda/lib/python3.8/site-packages/sklearn/model_selection/_validation.py\u001b[0m in \u001b[0;36m_fit_and_score\u001b[0;34m(estimator, X, y, scorer, train, test, verbose, parameters, fit_params, return_train_score, return_parameters, return_n_test_samples, return_times, return_estimator, split_progress, candidate_progress, error_score)\u001b[0m\n\u001b[1;32m    591\u001b[0m             \u001b[0mestimator\u001b[0m\u001b[0;34m.\u001b[0m\u001b[0mfit\u001b[0m\u001b[0;34m(\u001b[0m\u001b[0mX_train\u001b[0m\u001b[0;34m,\u001b[0m \u001b[0;34m**\u001b[0m\u001b[0mfit_params\u001b[0m\u001b[0;34m)\u001b[0m\u001b[0;34m\u001b[0m\u001b[0;34m\u001b[0m\u001b[0m\n\u001b[1;32m    592\u001b[0m         \u001b[0;32melse\u001b[0m\u001b[0;34m:\u001b[0m\u001b[0;34m\u001b[0m\u001b[0;34m\u001b[0m\u001b[0m\n\u001b[0;32m--> 593\u001b[0;31m             \u001b[0mestimator\u001b[0m\u001b[0;34m.\u001b[0m\u001b[0mfit\u001b[0m\u001b[0;34m(\u001b[0m\u001b[0mX_train\u001b[0m\u001b[0;34m,\u001b[0m \u001b[0my_train\u001b[0m\u001b[0;34m,\u001b[0m \u001b[0;34m**\u001b[0m\u001b[0mfit_params\u001b[0m\u001b[0;34m)\u001b[0m\u001b[0;34m\u001b[0m\u001b[0;34m\u001b[0m\u001b[0m\n\u001b[0m\u001b[1;32m    594\u001b[0m \u001b[0;34m\u001b[0m\u001b[0m\n\u001b[1;32m    595\u001b[0m     \u001b[0;32mexcept\u001b[0m \u001b[0mException\u001b[0m \u001b[0;32mas\u001b[0m \u001b[0me\u001b[0m\u001b[0;34m:\u001b[0m\u001b[0;34m\u001b[0m\u001b[0;34m\u001b[0m\u001b[0m\n",
      "\u001b[0;32m/opt/conda/lib/python3.8/site-packages/sklearn/multiclass.py\u001b[0m in \u001b[0;36mfit\u001b[0;34m(self, X, y)\u001b[0m\n\u001b[1;32m    279\u001b[0m         \u001b[0;31m# n_jobs > 1 in can results in slower performance due to the overhead\u001b[0m\u001b[0;34m\u001b[0m\u001b[0;34m\u001b[0m\u001b[0;34m\u001b[0m\u001b[0m\n\u001b[1;32m    280\u001b[0m         \u001b[0;31m# of spawning threads.  See joblib issue #112.\u001b[0m\u001b[0;34m\u001b[0m\u001b[0;34m\u001b[0m\u001b[0;34m\u001b[0m\u001b[0m\n\u001b[0;32m--> 281\u001b[0;31m         self.estimators_ = Parallel(n_jobs=self.n_jobs)(delayed(_fit_binary)(\n\u001b[0m\u001b[1;32m    282\u001b[0m             self.estimator, X, column, classes=[\n\u001b[1;32m    283\u001b[0m                 \u001b[0;34m\"not %s\"\u001b[0m \u001b[0;34m%\u001b[0m \u001b[0mself\u001b[0m\u001b[0;34m.\u001b[0m\u001b[0mlabel_binarizer_\u001b[0m\u001b[0;34m.\u001b[0m\u001b[0mclasses_\u001b[0m\u001b[0;34m[\u001b[0m\u001b[0mi\u001b[0m\u001b[0;34m]\u001b[0m\u001b[0;34m,\u001b[0m\u001b[0;34m\u001b[0m\u001b[0;34m\u001b[0m\u001b[0m\n",
      "\u001b[0;32m/opt/conda/lib/python3.8/site-packages/joblib/parallel.py\u001b[0m in \u001b[0;36m__call__\u001b[0;34m(self, iterable)\u001b[0m\n\u001b[1;32m   1042\u001b[0m                 \u001b[0mself\u001b[0m\u001b[0;34m.\u001b[0m\u001b[0m_iterating\u001b[0m \u001b[0;34m=\u001b[0m \u001b[0mself\u001b[0m\u001b[0;34m.\u001b[0m\u001b[0m_original_iterator\u001b[0m \u001b[0;32mis\u001b[0m \u001b[0;32mnot\u001b[0m \u001b[0;32mNone\u001b[0m\u001b[0;34m\u001b[0m\u001b[0;34m\u001b[0m\u001b[0m\n\u001b[1;32m   1043\u001b[0m \u001b[0;34m\u001b[0m\u001b[0m\n\u001b[0;32m-> 1044\u001b[0;31m             \u001b[0;32mwhile\u001b[0m \u001b[0mself\u001b[0m\u001b[0;34m.\u001b[0m\u001b[0mdispatch_one_batch\u001b[0m\u001b[0;34m(\u001b[0m\u001b[0miterator\u001b[0m\u001b[0;34m)\u001b[0m\u001b[0;34m:\u001b[0m\u001b[0;34m\u001b[0m\u001b[0;34m\u001b[0m\u001b[0m\n\u001b[0m\u001b[1;32m   1045\u001b[0m                 \u001b[0;32mpass\u001b[0m\u001b[0;34m\u001b[0m\u001b[0;34m\u001b[0m\u001b[0m\n\u001b[1;32m   1046\u001b[0m \u001b[0;34m\u001b[0m\u001b[0m\n",
      "\u001b[0;32m/opt/conda/lib/python3.8/site-packages/joblib/parallel.py\u001b[0m in \u001b[0;36mdispatch_one_batch\u001b[0;34m(self, iterator)\u001b[0m\n\u001b[1;32m    857\u001b[0m                 \u001b[0;32mreturn\u001b[0m \u001b[0;32mFalse\u001b[0m\u001b[0;34m\u001b[0m\u001b[0;34m\u001b[0m\u001b[0m\n\u001b[1;32m    858\u001b[0m             \u001b[0;32melse\u001b[0m\u001b[0;34m:\u001b[0m\u001b[0;34m\u001b[0m\u001b[0;34m\u001b[0m\u001b[0m\n\u001b[0;32m--> 859\u001b[0;31m                 \u001b[0mself\u001b[0m\u001b[0;34m.\u001b[0m\u001b[0m_dispatch\u001b[0m\u001b[0;34m(\u001b[0m\u001b[0mtasks\u001b[0m\u001b[0;34m)\u001b[0m\u001b[0;34m\u001b[0m\u001b[0;34m\u001b[0m\u001b[0m\n\u001b[0m\u001b[1;32m    860\u001b[0m                 \u001b[0;32mreturn\u001b[0m \u001b[0;32mTrue\u001b[0m\u001b[0;34m\u001b[0m\u001b[0;34m\u001b[0m\u001b[0m\n\u001b[1;32m    861\u001b[0m \u001b[0;34m\u001b[0m\u001b[0m\n",
      "\u001b[0;32m/opt/conda/lib/python3.8/site-packages/joblib/parallel.py\u001b[0m in \u001b[0;36m_dispatch\u001b[0;34m(self, batch)\u001b[0m\n\u001b[1;32m    775\u001b[0m         \u001b[0;32mwith\u001b[0m \u001b[0mself\u001b[0m\u001b[0;34m.\u001b[0m\u001b[0m_lock\u001b[0m\u001b[0;34m:\u001b[0m\u001b[0;34m\u001b[0m\u001b[0;34m\u001b[0m\u001b[0m\n\u001b[1;32m    776\u001b[0m             \u001b[0mjob_idx\u001b[0m \u001b[0;34m=\u001b[0m \u001b[0mlen\u001b[0m\u001b[0;34m(\u001b[0m\u001b[0mself\u001b[0m\u001b[0;34m.\u001b[0m\u001b[0m_jobs\u001b[0m\u001b[0;34m)\u001b[0m\u001b[0;34m\u001b[0m\u001b[0;34m\u001b[0m\u001b[0m\n\u001b[0;32m--> 777\u001b[0;31m             \u001b[0mjob\u001b[0m \u001b[0;34m=\u001b[0m \u001b[0mself\u001b[0m\u001b[0;34m.\u001b[0m\u001b[0m_backend\u001b[0m\u001b[0;34m.\u001b[0m\u001b[0mapply_async\u001b[0m\u001b[0;34m(\u001b[0m\u001b[0mbatch\u001b[0m\u001b[0;34m,\u001b[0m \u001b[0mcallback\u001b[0m\u001b[0;34m=\u001b[0m\u001b[0mcb\u001b[0m\u001b[0;34m)\u001b[0m\u001b[0;34m\u001b[0m\u001b[0;34m\u001b[0m\u001b[0m\n\u001b[0m\u001b[1;32m    778\u001b[0m             \u001b[0;31m# A job can complete so quickly than its callback is\u001b[0m\u001b[0;34m\u001b[0m\u001b[0;34m\u001b[0m\u001b[0;34m\u001b[0m\u001b[0m\n\u001b[1;32m    779\u001b[0m             \u001b[0;31m# called before we get here, causing self._jobs to\u001b[0m\u001b[0;34m\u001b[0m\u001b[0;34m\u001b[0m\u001b[0;34m\u001b[0m\u001b[0m\n",
      "\u001b[0;32m/opt/conda/lib/python3.8/site-packages/joblib/_parallel_backends.py\u001b[0m in \u001b[0;36mapply_async\u001b[0;34m(self, func, callback)\u001b[0m\n\u001b[1;32m    206\u001b[0m     \u001b[0;32mdef\u001b[0m \u001b[0mapply_async\u001b[0m\u001b[0;34m(\u001b[0m\u001b[0mself\u001b[0m\u001b[0;34m,\u001b[0m \u001b[0mfunc\u001b[0m\u001b[0;34m,\u001b[0m \u001b[0mcallback\u001b[0m\u001b[0;34m=\u001b[0m\u001b[0;32mNone\u001b[0m\u001b[0;34m)\u001b[0m\u001b[0;34m:\u001b[0m\u001b[0;34m\u001b[0m\u001b[0;34m\u001b[0m\u001b[0m\n\u001b[1;32m    207\u001b[0m         \u001b[0;34m\"\"\"Schedule a func to be run\"\"\"\u001b[0m\u001b[0;34m\u001b[0m\u001b[0;34m\u001b[0m\u001b[0m\n\u001b[0;32m--> 208\u001b[0;31m         \u001b[0mresult\u001b[0m \u001b[0;34m=\u001b[0m \u001b[0mImmediateResult\u001b[0m\u001b[0;34m(\u001b[0m\u001b[0mfunc\u001b[0m\u001b[0;34m)\u001b[0m\u001b[0;34m\u001b[0m\u001b[0;34m\u001b[0m\u001b[0m\n\u001b[0m\u001b[1;32m    209\u001b[0m         \u001b[0;32mif\u001b[0m \u001b[0mcallback\u001b[0m\u001b[0;34m:\u001b[0m\u001b[0;34m\u001b[0m\u001b[0;34m\u001b[0m\u001b[0m\n\u001b[1;32m    210\u001b[0m             \u001b[0mcallback\u001b[0m\u001b[0;34m(\u001b[0m\u001b[0mresult\u001b[0m\u001b[0;34m)\u001b[0m\u001b[0;34m\u001b[0m\u001b[0;34m\u001b[0m\u001b[0m\n",
      "\u001b[0;32m/opt/conda/lib/python3.8/site-packages/joblib/_parallel_backends.py\u001b[0m in \u001b[0;36m__init__\u001b[0;34m(self, batch)\u001b[0m\n\u001b[1;32m    570\u001b[0m         \u001b[0;31m# Don't delay the application, to avoid keeping the input\u001b[0m\u001b[0;34m\u001b[0m\u001b[0;34m\u001b[0m\u001b[0;34m\u001b[0m\u001b[0m\n\u001b[1;32m    571\u001b[0m         \u001b[0;31m# arguments in memory\u001b[0m\u001b[0;34m\u001b[0m\u001b[0;34m\u001b[0m\u001b[0;34m\u001b[0m\u001b[0m\n\u001b[0;32m--> 572\u001b[0;31m         \u001b[0mself\u001b[0m\u001b[0;34m.\u001b[0m\u001b[0mresults\u001b[0m \u001b[0;34m=\u001b[0m \u001b[0mbatch\u001b[0m\u001b[0;34m(\u001b[0m\u001b[0;34m)\u001b[0m\u001b[0;34m\u001b[0m\u001b[0;34m\u001b[0m\u001b[0m\n\u001b[0m\u001b[1;32m    573\u001b[0m \u001b[0;34m\u001b[0m\u001b[0m\n\u001b[1;32m    574\u001b[0m     \u001b[0;32mdef\u001b[0m \u001b[0mget\u001b[0m\u001b[0;34m(\u001b[0m\u001b[0mself\u001b[0m\u001b[0;34m)\u001b[0m\u001b[0;34m:\u001b[0m\u001b[0;34m\u001b[0m\u001b[0;34m\u001b[0m\u001b[0m\n",
      "\u001b[0;32m/opt/conda/lib/python3.8/site-packages/joblib/parallel.py\u001b[0m in \u001b[0;36m__call__\u001b[0;34m(self)\u001b[0m\n\u001b[1;32m    260\u001b[0m         \u001b[0;31m# change the default number of processes to -1\u001b[0m\u001b[0;34m\u001b[0m\u001b[0;34m\u001b[0m\u001b[0;34m\u001b[0m\u001b[0m\n\u001b[1;32m    261\u001b[0m         \u001b[0;32mwith\u001b[0m \u001b[0mparallel_backend\u001b[0m\u001b[0;34m(\u001b[0m\u001b[0mself\u001b[0m\u001b[0;34m.\u001b[0m\u001b[0m_backend\u001b[0m\u001b[0;34m,\u001b[0m \u001b[0mn_jobs\u001b[0m\u001b[0;34m=\u001b[0m\u001b[0mself\u001b[0m\u001b[0;34m.\u001b[0m\u001b[0m_n_jobs\u001b[0m\u001b[0;34m)\u001b[0m\u001b[0;34m:\u001b[0m\u001b[0;34m\u001b[0m\u001b[0;34m\u001b[0m\u001b[0m\n\u001b[0;32m--> 262\u001b[0;31m             return [func(*args, **kwargs)\n\u001b[0m\u001b[1;32m    263\u001b[0m                     for func, args, kwargs in self.items]\n\u001b[1;32m    264\u001b[0m \u001b[0;34m\u001b[0m\u001b[0m\n",
      "\u001b[0;32m/opt/conda/lib/python3.8/site-packages/joblib/parallel.py\u001b[0m in \u001b[0;36m<listcomp>\u001b[0;34m(.0)\u001b[0m\n\u001b[1;32m    260\u001b[0m         \u001b[0;31m# change the default number of processes to -1\u001b[0m\u001b[0;34m\u001b[0m\u001b[0;34m\u001b[0m\u001b[0;34m\u001b[0m\u001b[0m\n\u001b[1;32m    261\u001b[0m         \u001b[0;32mwith\u001b[0m \u001b[0mparallel_backend\u001b[0m\u001b[0;34m(\u001b[0m\u001b[0mself\u001b[0m\u001b[0;34m.\u001b[0m\u001b[0m_backend\u001b[0m\u001b[0;34m,\u001b[0m \u001b[0mn_jobs\u001b[0m\u001b[0;34m=\u001b[0m\u001b[0mself\u001b[0m\u001b[0;34m.\u001b[0m\u001b[0m_n_jobs\u001b[0m\u001b[0;34m)\u001b[0m\u001b[0;34m:\u001b[0m\u001b[0;34m\u001b[0m\u001b[0;34m\u001b[0m\u001b[0m\n\u001b[0;32m--> 262\u001b[0;31m             return [func(*args, **kwargs)\n\u001b[0m\u001b[1;32m    263\u001b[0m                     for func, args, kwargs in self.items]\n\u001b[1;32m    264\u001b[0m \u001b[0;34m\u001b[0m\u001b[0m\n",
      "\u001b[0;32m/opt/conda/lib/python3.8/site-packages/sklearn/utils/fixes.py\u001b[0m in \u001b[0;36m__call__\u001b[0;34m(self, *args, **kwargs)\u001b[0m\n\u001b[1;32m    220\u001b[0m     \u001b[0;32mdef\u001b[0m \u001b[0m__call__\u001b[0m\u001b[0;34m(\u001b[0m\u001b[0mself\u001b[0m\u001b[0;34m,\u001b[0m \u001b[0;34m*\u001b[0m\u001b[0margs\u001b[0m\u001b[0;34m,\u001b[0m \u001b[0;34m**\u001b[0m\u001b[0mkwargs\u001b[0m\u001b[0;34m)\u001b[0m\u001b[0;34m:\u001b[0m\u001b[0;34m\u001b[0m\u001b[0;34m\u001b[0m\u001b[0m\n\u001b[1;32m    221\u001b[0m         \u001b[0;32mwith\u001b[0m \u001b[0mconfig_context\u001b[0m\u001b[0;34m(\u001b[0m\u001b[0;34m**\u001b[0m\u001b[0mself\u001b[0m\u001b[0;34m.\u001b[0m\u001b[0mconfig\u001b[0m\u001b[0;34m)\u001b[0m\u001b[0;34m:\u001b[0m\u001b[0;34m\u001b[0m\u001b[0;34m\u001b[0m\u001b[0m\n\u001b[0;32m--> 222\u001b[0;31m             \u001b[0;32mreturn\u001b[0m \u001b[0mself\u001b[0m\u001b[0;34m.\u001b[0m\u001b[0mfunction\u001b[0m\u001b[0;34m(\u001b[0m\u001b[0;34m*\u001b[0m\u001b[0margs\u001b[0m\u001b[0;34m,\u001b[0m \u001b[0;34m**\u001b[0m\u001b[0mkwargs\u001b[0m\u001b[0;34m)\u001b[0m\u001b[0;34m\u001b[0m\u001b[0;34m\u001b[0m\u001b[0m\n\u001b[0m",
      "\u001b[0;32m/opt/conda/lib/python3.8/site-packages/sklearn/multiclass.py\u001b[0m in \u001b[0;36m_fit_binary\u001b[0;34m(estimator, X, y, classes)\u001b[0m\n\u001b[1;32m     83\u001b[0m     \u001b[0;32melse\u001b[0m\u001b[0;34m:\u001b[0m\u001b[0;34m\u001b[0m\u001b[0;34m\u001b[0m\u001b[0m\n\u001b[1;32m     84\u001b[0m         \u001b[0mestimator\u001b[0m \u001b[0;34m=\u001b[0m \u001b[0mclone\u001b[0m\u001b[0;34m(\u001b[0m\u001b[0mestimator\u001b[0m\u001b[0;34m)\u001b[0m\u001b[0;34m\u001b[0m\u001b[0;34m\u001b[0m\u001b[0m\n\u001b[0;32m---> 85\u001b[0;31m         \u001b[0mestimator\u001b[0m\u001b[0;34m.\u001b[0m\u001b[0mfit\u001b[0m\u001b[0;34m(\u001b[0m\u001b[0mX\u001b[0m\u001b[0;34m,\u001b[0m \u001b[0my\u001b[0m\u001b[0;34m)\u001b[0m\u001b[0;34m\u001b[0m\u001b[0;34m\u001b[0m\u001b[0m\n\u001b[0m\u001b[1;32m     86\u001b[0m     \u001b[0;32mreturn\u001b[0m \u001b[0mestimator\u001b[0m\u001b[0;34m\u001b[0m\u001b[0;34m\u001b[0m\u001b[0m\n\u001b[1;32m     87\u001b[0m \u001b[0;34m\u001b[0m\u001b[0m\n",
      "\u001b[0;32m/opt/conda/lib/python3.8/site-packages/sklearn/svm/_base.py\u001b[0m in \u001b[0;36mfit\u001b[0;34m(self, X, y, sample_weight)\u001b[0m\n\u001b[1;32m    224\u001b[0m \u001b[0;34m\u001b[0m\u001b[0m\n\u001b[1;32m    225\u001b[0m         \u001b[0mseed\u001b[0m \u001b[0;34m=\u001b[0m \u001b[0mrnd\u001b[0m\u001b[0;34m.\u001b[0m\u001b[0mrandint\u001b[0m\u001b[0;34m(\u001b[0m\u001b[0mnp\u001b[0m\u001b[0;34m.\u001b[0m\u001b[0miinfo\u001b[0m\u001b[0;34m(\u001b[0m\u001b[0;34m'i'\u001b[0m\u001b[0;34m)\u001b[0m\u001b[0;34m.\u001b[0m\u001b[0mmax\u001b[0m\u001b[0;34m)\u001b[0m\u001b[0;34m\u001b[0m\u001b[0;34m\u001b[0m\u001b[0m\n\u001b[0;32m--> 226\u001b[0;31m         \u001b[0mfit\u001b[0m\u001b[0;34m(\u001b[0m\u001b[0mX\u001b[0m\u001b[0;34m,\u001b[0m \u001b[0my\u001b[0m\u001b[0;34m,\u001b[0m \u001b[0msample_weight\u001b[0m\u001b[0;34m,\u001b[0m \u001b[0msolver_type\u001b[0m\u001b[0;34m,\u001b[0m \u001b[0mkernel\u001b[0m\u001b[0;34m,\u001b[0m \u001b[0mrandom_seed\u001b[0m\u001b[0;34m=\u001b[0m\u001b[0mseed\u001b[0m\u001b[0;34m)\u001b[0m\u001b[0;34m\u001b[0m\u001b[0;34m\u001b[0m\u001b[0m\n\u001b[0m\u001b[1;32m    227\u001b[0m         \u001b[0;31m# see comment on the other call to np.iinfo in this file\u001b[0m\u001b[0;34m\u001b[0m\u001b[0;34m\u001b[0m\u001b[0;34m\u001b[0m\u001b[0m\n\u001b[1;32m    228\u001b[0m \u001b[0;34m\u001b[0m\u001b[0m\n",
      "\u001b[0;32m/opt/conda/lib/python3.8/site-packages/sklearn/svm/_base.py\u001b[0m in \u001b[0;36m_dense_fit\u001b[0;34m(self, X, y, sample_weight, solver_type, kernel, random_seed)\u001b[0m\n\u001b[1;32m    275\u001b[0m         \u001b[0mself\u001b[0m\u001b[0;34m.\u001b[0m\u001b[0msupport_\u001b[0m\u001b[0;34m,\u001b[0m \u001b[0mself\u001b[0m\u001b[0;34m.\u001b[0m\u001b[0msupport_vectors_\u001b[0m\u001b[0;34m,\u001b[0m \u001b[0mself\u001b[0m\u001b[0;34m.\u001b[0m\u001b[0m_n_support\u001b[0m\u001b[0;34m,\u001b[0m\u001b[0;31m \u001b[0m\u001b[0;31m\\\u001b[0m\u001b[0;34m\u001b[0m\u001b[0;34m\u001b[0m\u001b[0m\n\u001b[1;32m    276\u001b[0m             \u001b[0mself\u001b[0m\u001b[0;34m.\u001b[0m\u001b[0mdual_coef_\u001b[0m\u001b[0;34m,\u001b[0m \u001b[0mself\u001b[0m\u001b[0;34m.\u001b[0m\u001b[0mintercept_\u001b[0m\u001b[0;34m,\u001b[0m \u001b[0mself\u001b[0m\u001b[0;34m.\u001b[0m\u001b[0m_probA\u001b[0m\u001b[0;34m,\u001b[0m\u001b[0;31m \u001b[0m\u001b[0;31m\\\u001b[0m\u001b[0;34m\u001b[0m\u001b[0;34m\u001b[0m\u001b[0m\n\u001b[0;32m--> 277\u001b[0;31m             self._probB, self.fit_status_ = libsvm.fit(\n\u001b[0m\u001b[1;32m    278\u001b[0m                 \u001b[0mX\u001b[0m\u001b[0;34m,\u001b[0m \u001b[0my\u001b[0m\u001b[0;34m,\u001b[0m\u001b[0;34m\u001b[0m\u001b[0;34m\u001b[0m\u001b[0m\n\u001b[1;32m    279\u001b[0m                 \u001b[0msvm_type\u001b[0m\u001b[0;34m=\u001b[0m\u001b[0msolver_type\u001b[0m\u001b[0;34m,\u001b[0m \u001b[0msample_weight\u001b[0m\u001b[0;34m=\u001b[0m\u001b[0msample_weight\u001b[0m\u001b[0;34m,\u001b[0m\u001b[0;34m\u001b[0m\u001b[0;34m\u001b[0m\u001b[0m\n",
      "\u001b[0;31mKeyboardInterrupt\u001b[0m: "
     ]
    }
   ],
   "source": [
    "embeddings = ['word2vec','tfidf','normbow']\n",
    "models = ['dummy', 'naivebayes', 'onevsrest', 'onevsone', 'randomforest','adaboost']\n",
    "# models = ['dummy', 'randomforest']\n",
    "\n",
    "eval_list = []\n",
    "for embedding in embeddings:\n",
    "    print(\"\\n{0}\\n\".format(embedding.upper()))\n",
    "    X_train, Y_train, X_test, Y_test = import_data(embedding)\n",
    "    print(\"\\n{0}\\n\".format(20 * \"-\"))\n",
    "    for model in models:\n",
    "        t0 = datetime.now()\n",
    "        print(\"\\n{0} ({1})\\n\".format(model.upper(), embedding.upper()))\n",
    "        eval_dict = fit_predict(model, X_train, Y_train, X_test, Y_test)        \n",
    "        t1 = datetime.now()\n",
    "        eval_dict[\"Embedding\"] = embedding\n",
    "        eval_dict[\"Train & test duration\"] = \"{0:.2f} seconds\".format((t1 - t0).total_seconds())\n",
    "        eval_list.append(eval_dict)\n",
    "        print(\"\\n{0}\\n\".format(20 * \"-\"))\n",
    "    print(\"\\n{0}\\n\".format(20 * \"=\"))"
   ]
  },
  {
   "cell_type": "code",
   "execution_count": 5,
   "id": "textile-pleasure",
   "metadata": {},
   "outputs": [
    {
     "data": {
      "text/html": [
       "<style  type=\"text/css\" >\n",
       "#T_37a29_row0_col3,#T_37a29_row0_col4,#T_37a29_row0_col6,#T_37a29_row6_col3,#T_37a29_row6_col4,#T_37a29_row6_col6,#T_37a29_row7_col5,#T_37a29_row12_col3,#T_37a29_row12_col4,#T_37a29_row12_col6{\n",
       "            background-color:  #f7fcf5;\n",
       "            color:  #000000;\n",
       "        }#T_37a29_row0_col5,#T_37a29_row2_col6,#T_37a29_row6_col5,#T_37a29_row8_col3,#T_37a29_row8_col4,#T_37a29_row12_col5{\n",
       "            background-color:  #00441b;\n",
       "            color:  #f1f1f1;\n",
       "        }#T_37a29_row0_col7,#T_37a29_row6_col7,#T_37a29_row12_col7{\n",
       "            background-color:  #67000d;\n",
       "            color:  #f1f1f1;\n",
       "        }#T_37a29_row1_col3{\n",
       "            background-color:  #1a843f;\n",
       "            color:  #000000;\n",
       "        }#T_37a29_row1_col4{\n",
       "            background-color:  #00491d;\n",
       "            color:  #f1f1f1;\n",
       "        }#T_37a29_row1_col5,#T_37a29_row3_col5{\n",
       "            background-color:  #ecf8e8;\n",
       "            color:  #000000;\n",
       "        }#T_37a29_row1_col6,#T_37a29_row4_col6{\n",
       "            background-color:  #016e2d;\n",
       "            color:  #f1f1f1;\n",
       "        }#T_37a29_row1_col7{\n",
       "            background-color:  #fcb095;\n",
       "            color:  #000000;\n",
       "        }#T_37a29_row2_col3{\n",
       "            background-color:  #004d1f;\n",
       "            color:  #f1f1f1;\n",
       "        }#T_37a29_row2_col4{\n",
       "            background-color:  #006428;\n",
       "            color:  #f1f1f1;\n",
       "        }#T_37a29_row2_col5{\n",
       "            background-color:  #45ad5f;\n",
       "            color:  #000000;\n",
       "        }#T_37a29_row2_col7,#T_37a29_row8_col7{\n",
       "            background-color:  #fff5f0;\n",
       "            color:  #000000;\n",
       "        }#T_37a29_row3_col3{\n",
       "            background-color:  #2a924a;\n",
       "            color:  #000000;\n",
       "        }#T_37a29_row3_col4{\n",
       "            background-color:  #006227;\n",
       "            color:  #f1f1f1;\n",
       "        }#T_37a29_row3_col6,#T_37a29_row3_col7,#T_37a29_row9_col6,#T_37a29_row9_col7{\n",
       "            background-color:  #000000;\n",
       "            color:  #f1f1f1;\n",
       "        }#T_37a29_row4_col3{\n",
       "            background-color:  #137d39;\n",
       "            color:  #f1f1f1;\n",
       "        }#T_37a29_row4_col4,#T_37a29_row11_col6{\n",
       "            background-color:  #006d2c;\n",
       "            color:  #f1f1f1;\n",
       "        }#T_37a29_row4_col5{\n",
       "            background-color:  #81ca81;\n",
       "            color:  #000000;\n",
       "        }#T_37a29_row4_col7,#T_37a29_row10_col7{\n",
       "            background-color:  #fff3ed;\n",
       "            color:  #000000;\n",
       "        }#T_37a29_row5_col3,#T_37a29_row10_col4{\n",
       "            background-color:  #0b7734;\n",
       "            color:  #f1f1f1;\n",
       "        }#T_37a29_row5_col4{\n",
       "            background-color:  #006529;\n",
       "            color:  #f1f1f1;\n",
       "        }#T_37a29_row5_col5,#T_37a29_row9_col5{\n",
       "            background-color:  #b6e2af;\n",
       "            color:  #000000;\n",
       "        }#T_37a29_row5_col6{\n",
       "            background-color:  #005f26;\n",
       "            color:  #f1f1f1;\n",
       "        }#T_37a29_row5_col7,#T_37a29_row11_col7{\n",
       "            background-color:  #fff1ea;\n",
       "            color:  #000000;\n",
       "        }#T_37a29_row7_col3,#T_37a29_row13_col3{\n",
       "            background-color:  #46ae60;\n",
       "            color:  #000000;\n",
       "        }#T_37a29_row7_col4{\n",
       "            background-color:  #309950;\n",
       "            color:  #000000;\n",
       "        }#T_37a29_row7_col6,#T_37a29_row13_col6{\n",
       "            background-color:  #6abf71;\n",
       "            color:  #000000;\n",
       "        }#T_37a29_row7_col7,#T_37a29_row13_col7{\n",
       "            background-color:  #f4503a;\n",
       "            color:  #000000;\n",
       "        }#T_37a29_row8_col5,#T_37a29_row10_col5,#T_37a29_row11_col5{\n",
       "            background-color:  #65bd6f;\n",
       "            color:  #000000;\n",
       "        }#T_37a29_row8_col6{\n",
       "            background-color:  #005321;\n",
       "            color:  #f1f1f1;\n",
       "        }#T_37a29_row9_col3{\n",
       "            background-color:  #005622;\n",
       "            color:  #f1f1f1;\n",
       "        }#T_37a29_row9_col4{\n",
       "            background-color:  #005120;\n",
       "            color:  #f1f1f1;\n",
       "        }#T_37a29_row10_col3,#T_37a29_row10_col6,#T_37a29_row11_col3,#T_37a29_row11_col4{\n",
       "            background-color:  #00682a;\n",
       "            color:  #f1f1f1;\n",
       "        }#T_37a29_row13_col4{\n",
       "            background-color:  #157f3b;\n",
       "            color:  #f1f1f1;\n",
       "        }#T_37a29_row13_col5{\n",
       "            background-color:  #def2d9;\n",
       "            color:  #000000;\n",
       "        }</style><table id=\"T_37a29_\" ><thead>    <tr>        <th class=\"blank level0\" ></th>        <th class=\"col_heading level0 col0\" >Model</th>        <th class=\"col_heading level0 col1\" >Embedding</th>        <th class=\"col_heading level0 col2\" >Train & test duration</th>        <th class=\"col_heading level0 col3\" >Accuracy</th>        <th class=\"col_heading level0 col4\" >Precision (class 0)</th>        <th class=\"col_heading level0 col5\" >Recall (class 0)</th>        <th class=\"col_heading level0 col6\" >ROC AUC (ovr)</th>        <th class=\"col_heading level0 col7\" >Cross-entropy loss</th>    </tr></thead><tbody>\n",
       "                <tr>\n",
       "                        <th id=\"T_37a29_level0_row0\" class=\"row_heading level0 row0\" >0</th>\n",
       "                        <td id=\"T_37a29_row0_col0\" class=\"data row0 col0\" >pick most frequent</td>\n",
       "                        <td id=\"T_37a29_row0_col1\" class=\"data row0 col1\" >word2vec</td>\n",
       "                        <td id=\"T_37a29_row0_col2\" class=\"data row0 col2\" >0.20 seconds</td>\n",
       "                        <td id=\"T_37a29_row0_col3\" class=\"data row0 col3\" >0.373494</td>\n",
       "                        <td id=\"T_37a29_row0_col4\" class=\"data row0 col4\" >0.373494</td>\n",
       "                        <td id=\"T_37a29_row0_col5\" class=\"data row0 col5\" >1.000000</td>\n",
       "                        <td id=\"T_37a29_row0_col6\" class=\"data row0 col6\" >0.500000</td>\n",
       "                        <td id=\"T_37a29_row0_col7\" class=\"data row0 col7\" >21.638751</td>\n",
       "            </tr>\n",
       "            <tr>\n",
       "                        <th id=\"T_37a29_level0_row1\" class=\"row_heading level0 row1\" >1</th>\n",
       "                        <td id=\"T_37a29_row1_col0\" class=\"data row1 col0\" >naive bayes</td>\n",
       "                        <td id=\"T_37a29_row1_col1\" class=\"data row1 col1\" >word2vec</td>\n",
       "                        <td id=\"T_37a29_row1_col2\" class=\"data row1 col2\" >0.18 seconds</td>\n",
       "                        <td id=\"T_37a29_row1_col3\" class=\"data row1 col3\" >0.710843</td>\n",
       "                        <td id=\"T_37a29_row1_col4\" class=\"data row1 col4\" >0.826087</td>\n",
       "                        <td id=\"T_37a29_row1_col5\" class=\"data row1 col5\" >0.612903</td>\n",
       "                        <td id=\"T_37a29_row1_col6\" class=\"data row1 col6\" >0.884700</td>\n",
       "                        <td id=\"T_37a29_row1_col7\" class=\"data row1 col7\" >6.432285</td>\n",
       "            </tr>\n",
       "            <tr>\n",
       "                        <th id=\"T_37a29_level0_row2\" class=\"row_heading level0 row2\" >2</th>\n",
       "                        <td id=\"T_37a29_row2_col0\" class=\"data row2 col0\" >one vs rest svm (tuned)</td>\n",
       "                        <td id=\"T_37a29_row2_col1\" class=\"data row2 col1\" >word2vec</td>\n",
       "                        <td id=\"T_37a29_row2_col2\" class=\"data row2 col2\" >21.09 seconds</td>\n",
       "                        <td id=\"T_37a29_row2_col3\" class=\"data row2 col3\" >0.795181</td>\n",
       "                        <td id=\"T_37a29_row2_col4\" class=\"data row2 col4\" >0.787879</td>\n",
       "                        <td id=\"T_37a29_row2_col5\" class=\"data row2 col5\" >0.838710</td>\n",
       "                        <td id=\"T_37a29_row2_col6\" class=\"data row2 col6\" >0.942760</td>\n",
       "                        <td id=\"T_37a29_row2_col7\" class=\"data row2 col7\" >0.477915</td>\n",
       "            </tr>\n",
       "            <tr>\n",
       "                        <th id=\"T_37a29_level0_row3\" class=\"row_heading level0 row3\" >3</th>\n",
       "                        <td id=\"T_37a29_row3_col0\" class=\"data row3 col0\" >one vs one svm</td>\n",
       "                        <td id=\"T_37a29_row3_col1\" class=\"data row3 col1\" >word2vec</td>\n",
       "                        <td id=\"T_37a29_row3_col2\" class=\"data row3 col2\" >0.23 seconds</td>\n",
       "                        <td id=\"T_37a29_row3_col3\" class=\"data row3 col3\" >0.686747</td>\n",
       "                        <td id=\"T_37a29_row3_col4\" class=\"data row3 col4\" >0.791667</td>\n",
       "                        <td id=\"T_37a29_row3_col5\" class=\"data row3 col5\" >0.612903</td>\n",
       "                        <td id=\"T_37a29_row3_col6\" class=\"data row3 col6\" >nan</td>\n",
       "                        <td id=\"T_37a29_row3_col7\" class=\"data row3 col7\" >nan</td>\n",
       "            </tr>\n",
       "            <tr>\n",
       "                        <th id=\"T_37a29_level0_row4\" class=\"row_heading level0 row4\" >4</th>\n",
       "                        <td id=\"T_37a29_row4_col0\" class=\"data row4 col0\" >random forest (tuned)</td>\n",
       "                        <td id=\"T_37a29_row4_col1\" class=\"data row4 col1\" >word2vec</td>\n",
       "                        <td id=\"T_37a29_row4_col2\" class=\"data row4 col2\" >120.26 seconds</td>\n",
       "                        <td id=\"T_37a29_row4_col3\" class=\"data row4 col3\" >0.722892</td>\n",
       "                        <td id=\"T_37a29_row4_col4\" class=\"data row4 col4\" >0.774194</td>\n",
       "                        <td id=\"T_37a29_row4_col5\" class=\"data row4 col5\" >0.774194</td>\n",
       "                        <td id=\"T_37a29_row4_col6\" class=\"data row4 col6\" >0.884048</td>\n",
       "                        <td id=\"T_37a29_row4_col7\" class=\"data row4 col7\" >0.750564</td>\n",
       "            </tr>\n",
       "            <tr>\n",
       "                        <th id=\"T_37a29_level0_row5\" class=\"row_heading level0 row5\" >5</th>\n",
       "                        <td id=\"T_37a29_row5_col0\" class=\"data row5 col0\" >ada boost</td>\n",
       "                        <td id=\"T_37a29_row5_col1\" class=\"data row5 col1\" >word2vec</td>\n",
       "                        <td id=\"T_37a29_row5_col2\" class=\"data row5 col2\" >3.03 seconds</td>\n",
       "                        <td id=\"T_37a29_row5_col3\" class=\"data row5 col3\" >0.734940</td>\n",
       "                        <td id=\"T_37a29_row5_col4\" class=\"data row5 col4\" >0.785714</td>\n",
       "                        <td id=\"T_37a29_row5_col5\" class=\"data row5 col5\" >0.709677</td>\n",
       "                        <td id=\"T_37a29_row5_col6\" class=\"data row5 col6\" >0.905515</td>\n",
       "                        <td id=\"T_37a29_row5_col7\" class=\"data row5 col7\" >1.026078</td>\n",
       "            </tr>\n",
       "            <tr>\n",
       "                        <th id=\"T_37a29_level0_row6\" class=\"row_heading level0 row6\" >6</th>\n",
       "                        <td id=\"T_37a29_row6_col0\" class=\"data row6 col0\" >pick most frequent</td>\n",
       "                        <td id=\"T_37a29_row6_col1\" class=\"data row6 col1\" >tfidf</td>\n",
       "                        <td id=\"T_37a29_row6_col2\" class=\"data row6 col2\" >0.16 seconds</td>\n",
       "                        <td id=\"T_37a29_row6_col3\" class=\"data row6 col3\" >0.373494</td>\n",
       "                        <td id=\"T_37a29_row6_col4\" class=\"data row6 col4\" >0.373494</td>\n",
       "                        <td id=\"T_37a29_row6_col5\" class=\"data row6 col5\" >1.000000</td>\n",
       "                        <td id=\"T_37a29_row6_col6\" class=\"data row6 col6\" >0.500000</td>\n",
       "                        <td id=\"T_37a29_row6_col7\" class=\"data row6 col7\" >21.638751</td>\n",
       "            </tr>\n",
       "            <tr>\n",
       "                        <th id=\"T_37a29_level0_row7\" class=\"row_heading level0 row7\" >7</th>\n",
       "                        <td id=\"T_37a29_row7_col0\" class=\"data row7 col0\" >naive bayes</td>\n",
       "                        <td id=\"T_37a29_row7_col1\" class=\"data row7 col1\" >tfidf</td>\n",
       "                        <td id=\"T_37a29_row7_col2\" class=\"data row7 col2\" >0.23 seconds</td>\n",
       "                        <td id=\"T_37a29_row7_col3\" class=\"data row7 col3\" >0.638554</td>\n",
       "                        <td id=\"T_37a29_row7_col4\" class=\"data row7 col4\" >0.692308</td>\n",
       "                        <td id=\"T_37a29_row7_col5\" class=\"data row7 col5\" >0.580645</td>\n",
       "                        <td id=\"T_37a29_row7_col6\" class=\"data row7 col6\" >0.732183</td>\n",
       "                        <td id=\"T_37a29_row7_col7\" class=\"data row7 col7\" >12.483895</td>\n",
       "            </tr>\n",
       "            <tr>\n",
       "                        <th id=\"T_37a29_level0_row8\" class=\"row_heading level0 row8\" >8</th>\n",
       "                        <td id=\"T_37a29_row8_col0\" class=\"data row8 col0\" >one vs rest svm (tuned)</td>\n",
       "                        <td id=\"T_37a29_row8_col1\" class=\"data row8 col1\" >tfidf</td>\n",
       "                        <td id=\"T_37a29_row8_col2\" class=\"data row8 col2\" >379.87 seconds</td>\n",
       "                        <td id=\"T_37a29_row8_col3\" class=\"data row8 col3\" >0.807229</td>\n",
       "                        <td id=\"T_37a29_row8_col4\" class=\"data row8 col4\" >0.833333</td>\n",
       "                        <td id=\"T_37a29_row8_col5\" class=\"data row8 col5\" >0.806452</td>\n",
       "                        <td id=\"T_37a29_row8_col6\" class=\"data row8 col6\" >0.921835</td>\n",
       "                        <td id=\"T_37a29_row8_col7\" class=\"data row8 col7\" >0.540086</td>\n",
       "            </tr>\n",
       "            <tr>\n",
       "                        <th id=\"T_37a29_level0_row9\" class=\"row_heading level0 row9\" >9</th>\n",
       "                        <td id=\"T_37a29_row9_col0\" class=\"data row9 col0\" >one vs one svm</td>\n",
       "                        <td id=\"T_37a29_row9_col1\" class=\"data row9 col1\" >tfidf</td>\n",
       "                        <td id=\"T_37a29_row9_col2\" class=\"data row9 col2\" >0.98 seconds</td>\n",
       "                        <td id=\"T_37a29_row9_col3\" class=\"data row9 col3\" >0.783133</td>\n",
       "                        <td id=\"T_37a29_row9_col4\" class=\"data row9 col4\" >0.814815</td>\n",
       "                        <td id=\"T_37a29_row9_col5\" class=\"data row9 col5\" >0.709677</td>\n",
       "                        <td id=\"T_37a29_row9_col6\" class=\"data row9 col6\" >nan</td>\n",
       "                        <td id=\"T_37a29_row9_col7\" class=\"data row9 col7\" >nan</td>\n",
       "            </tr>\n",
       "            <tr>\n",
       "                        <th id=\"T_37a29_level0_row10\" class=\"row_heading level0 row10\" >10</th>\n",
       "                        <td id=\"T_37a29_row10_col0\" class=\"data row10 col0\" >random forest (tuned)</td>\n",
       "                        <td id=\"T_37a29_row10_col1\" class=\"data row10 col1\" >tfidf</td>\n",
       "                        <td id=\"T_37a29_row10_col2\" class=\"data row10 col2\" >116.12 seconds</td>\n",
       "                        <td id=\"T_37a29_row10_col3\" class=\"data row10 col3\" >0.759036</td>\n",
       "                        <td id=\"T_37a29_row10_col4\" class=\"data row10 col4\" >0.757576</td>\n",
       "                        <td id=\"T_37a29_row10_col5\" class=\"data row10 col5\" >0.806452</td>\n",
       "                        <td id=\"T_37a29_row10_col6\" class=\"data row10 col6\" >0.893443</td>\n",
       "                        <td id=\"T_37a29_row10_col7\" class=\"data row10 col7\" >0.739802</td>\n",
       "            </tr>\n",
       "            <tr>\n",
       "                        <th id=\"T_37a29_level0_row11\" class=\"row_heading level0 row11\" >11</th>\n",
       "                        <td id=\"T_37a29_row11_col0\" class=\"data row11 col0\" >ada boost</td>\n",
       "                        <td id=\"T_37a29_row11_col1\" class=\"data row11 col1\" >tfidf</td>\n",
       "                        <td id=\"T_37a29_row11_col2\" class=\"data row11 col2\" >4.17 seconds</td>\n",
       "                        <td id=\"T_37a29_row11_col3\" class=\"data row11 col3\" >0.759036</td>\n",
       "                        <td id=\"T_37a29_row11_col4\" class=\"data row11 col4\" >0.781250</td>\n",
       "                        <td id=\"T_37a29_row11_col5\" class=\"data row11 col5\" >0.806452</td>\n",
       "                        <td id=\"T_37a29_row11_col6\" class=\"data row11 col6\" >0.887014</td>\n",
       "                        <td id=\"T_37a29_row11_col7\" class=\"data row11 col7\" >1.032741</td>\n",
       "            </tr>\n",
       "            <tr>\n",
       "                        <th id=\"T_37a29_level0_row12\" class=\"row_heading level0 row12\" >12</th>\n",
       "                        <td id=\"T_37a29_row12_col0\" class=\"data row12 col0\" >pick most frequent</td>\n",
       "                        <td id=\"T_37a29_row12_col1\" class=\"data row12 col1\" >normbow</td>\n",
       "                        <td id=\"T_37a29_row12_col2\" class=\"data row12 col2\" >0.17 seconds</td>\n",
       "                        <td id=\"T_37a29_row12_col3\" class=\"data row12 col3\" >0.373494</td>\n",
       "                        <td id=\"T_37a29_row12_col4\" class=\"data row12 col4\" >0.373494</td>\n",
       "                        <td id=\"T_37a29_row12_col5\" class=\"data row12 col5\" >1.000000</td>\n",
       "                        <td id=\"T_37a29_row12_col6\" class=\"data row12 col6\" >0.500000</td>\n",
       "                        <td id=\"T_37a29_row12_col7\" class=\"data row12 col7\" >21.638751</td>\n",
       "            </tr>\n",
       "            <tr>\n",
       "                        <th id=\"T_37a29_level0_row13\" class=\"row_heading level0 row13\" >13</th>\n",
       "                        <td id=\"T_37a29_row13_col0\" class=\"data row13 col0\" >naive bayes</td>\n",
       "                        <td id=\"T_37a29_row13_col1\" class=\"data row13 col1\" >normbow</td>\n",
       "                        <td id=\"T_37a29_row13_col2\" class=\"data row13 col2\" >0.35 seconds</td>\n",
       "                        <td id=\"T_37a29_row13_col3\" class=\"data row13 col3\" >0.638554</td>\n",
       "                        <td id=\"T_37a29_row13_col4\" class=\"data row13 col4\" >0.740741</td>\n",
       "                        <td id=\"T_37a29_row13_col5\" class=\"data row13 col5\" >0.645161</td>\n",
       "                        <td id=\"T_37a29_row13_col6\" class=\"data row13 col6\" >0.732457</td>\n",
       "                        <td id=\"T_37a29_row13_col7\" class=\"data row13 col7\" >12.483895</td>\n",
       "            </tr>\n",
       "    </tbody></table>"
      ],
      "text/plain": [
       "<IPython.core.display.HTML object>"
      ]
     },
     "metadata": {},
     "output_type": "display_data"
    }
   ],
   "source": [
    "eval_df = pd.DataFrame(eval_list)\n",
    "# eval_df.columns\n",
    "display(HTML(eval_df[['Model', 'Embedding', 'Train & test duration', 'Accuracy', 'Precision (class 0)',\n",
    "       'Recall (class 0)', 'ROC AUC (ovr)', 'Cross-entropy loss']]\\\n",
    "    .style\\\n",
    "    .background_gradient(cmap='Greens', subset=['Accuracy', 'Precision (class 0)', 'Recall (class 0)', 'ROC AUC (ovr)'])\\\n",
    "    .background_gradient(cmap='Reds', subset=[\"Cross-entropy loss\"])\\\n",
    "    .render()))"
   ]
  },
  {
   "cell_type": "code",
   "execution_count": null,
   "id": "beautiful-longitude",
   "metadata": {},
   "outputs": [],
   "source": []
  }
 ],
 "metadata": {
  "kernelspec": {
   "display_name": "Python 3",
   "language": "python",
   "name": "python3"
  },
  "language_info": {
   "codemirror_mode": {
    "name": "ipython",
    "version": 3
   },
   "file_extension": ".py",
   "mimetype": "text/x-python",
   "name": "python",
   "nbconvert_exporter": "python",
   "pygments_lexer": "ipython3",
   "version": "3.8.5"
  }
 },
 "nbformat": 4,
 "nbformat_minor": 5
}

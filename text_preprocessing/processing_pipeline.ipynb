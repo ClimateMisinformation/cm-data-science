{
 "cells": [
  {
   "cell_type": "code",
   "execution_count": null,
   "id": "serious-bargain",
   "metadata": {},
   "outputs": [],
   "source": [
    "from preprocessing import *\n",
    "from embeddings import *"
   ]
  },
  {
   "cell_type": "code",
   "execution_count": null,
   "id": "unsigned-marriage",
   "metadata": {},
   "outputs": [],
   "source": [
    "def preprocessing_pipeline(path, embedding_technique):\n",
    "\n",
    "    print(\"Importing data...\")\n",
    "    df = import_data(path)\n",
    "\n",
    "    print(\"Dropping na values..\")\n",
    "    df = na_values(df)\n",
    "\n",
    "    print(\"Encoding classes..\")\n",
    "    df = class_encoding(df)\n",
    "\n",
    "    print(\"Exploring length of articles..\")\n",
    "    article_len_exploration(df)\n",
    "\n",
    "    print(\"Starting text preprocessing..\")\n",
    "    clean_text = preprocessing(df)\n",
    "\n",
    "    df['clean_text'] = clean_text\n",
    "\n",
    "    print(df.head())\n",
    "\n",
    "    embedded_df = embedding(df, embedding_technique)\n",
    "\n",
    "    return embedded_df"
   ]
  },
  {
   "cell_type": "code",
   "execution_count": null,
   "id": "exterior-conducting",
   "metadata": {},
   "outputs": [],
   "source": [
    "def embedding(df, embedding_technique):\n",
    "\n",
    "    if embedding_technique == 'word2vec':\n",
    "\n",
    "        print(\"Initialising Word2Vec vectorization\")\n",
    "        embedded_df = word2vec_vectorizer(df)\n",
    "        embedded_df.to_csv('../models/embedding_data/word2vectest.csv')\n",
    "\n",
    "    elif embedding_technique == 'tfidf':\n",
    "\n",
    "        print(\"Initialising tf-idf vectorization\")\n",
    "        embedded_df = tf_idf_vectorizer(df)\n",
    "        embedded_df.to_csv('../models/embedding_data/tfidftest.csv')\n",
    "\n",
    "    elif embedding_technique == 'norm_bow':\n",
    "\n",
    "        print(\"Initialising norm_bow vectorization\")\n",
    "        embedded_df = norm_bow_vectorizer(df)\n",
    "        embedded_df.to_csv('../models/embedding_data/normbowtest.csv')\n",
    "\n",
    "    else:\n",
    "        print(\"ERROR. Please select one of the possible embedding techniques: word2vec, tfidf, normbow\")\n",
    "\n",
    "\n",
    "    return embedded_df"
   ]
  },
  {
   "cell_type": "code",
   "execution_count": null,
   "id": "printable-deficit",
   "metadata": {},
   "outputs": [],
   "source": [
    "%%time\n",
    "\n",
    "path = '../labelled_data/labelled_data.csv'\n",
    "# path = '../labelled_data/labelled_data_14032021.csv' ## switch to latest data when it's all working\n",
    "embeddings = ['word2vec','tfidf','norm_bow']\n",
    "\n",
    "for embedding_technique in embeddings:\n",
    "    print(\"\\n{0}\\n\".format(embedding.upper()))\n",
    "    preprocessing_pipeline(path, embedding_technique)"
   ]
  }
 ],
 "metadata": {
  "kernelspec": {
   "display_name": "Python 3",
   "language": "python",
   "name": "python3"
  },
  "language_info": {
   "codemirror_mode": {
    "name": "ipython",
    "version": 3
   },
   "file_extension": ".py",
   "mimetype": "text/x-python",
   "name": "python",
   "nbconvert_exporter": "python",
   "pygments_lexer": "ipython3",
   "version": "3.8.5"
  }
 },
 "nbformat": 4,
 "nbformat_minor": 5
}

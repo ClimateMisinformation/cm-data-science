{
 "cells": [
  {
   "cell_type": "markdown",
   "metadata": {},
   "source": [
    "# Preprocessing pipeline\n",
    "\n",
    "- cleans text\n",
    "- splits into train,dev,test\n",
    "- fits embeddings if needed and generates embeddings\n",
    "- saves files"
   ]
  },
  {
   "cell_type": "markdown",
   "metadata": {},
   "source": [
    "### Import"
   ]
  },
  {
   "cell_type": "code",
   "execution_count": 4,
   "metadata": {},
   "outputs": [
    {
     "name": "stderr",
     "output_type": "stream",
     "text": [
      "[nltk_data] Downloading package wordnet to\n",
      "[nltk_data]     /Users/renusingh/nltk_data...\n",
      "[nltk_data]   Package wordnet is already up-to-date!\n"
     ]
    }
   ],
   "source": [
    "import nltk\n",
    "nltk.download('wordnet')\n",
    "from preprocessing import *\n",
    "from embeddings import *\n",
    "import pickle\n",
    "from sklearn.model_selection import train_test_split"
   ]
  },
  {
   "cell_type": "markdown",
   "metadata": {},
   "source": [
    "### Load & Clean"
   ]
  },
  {
   "cell_type": "code",
   "execution_count": 2,
   "metadata": {},
   "outputs": [
    {
     "name": "stdout",
     "output_type": "stream",
     "text": [
      "Importing data...\n",
      "   label                                               text\n",
      "0    118  Buenos Aires Playa is an urban beach on the Rí...\n",
      "1    123  Contributed by Robert Lyman  © 2017The United ...\n",
      "2    119  Contributed by Robert Lyman  © 2017The United ...\n",
      "3    119  Share this...FacebookTwitterState parliamentar...\n",
      "4    122  [CHECK OUT OUR PLANS](https://thebfd.co.nz/sub...\n",
      "Size of dataframe\n",
      "Index(['label', 'text'], dtype='object')\n",
      "(778, 2)\n",
      "\n",
      "Dropping na values..\n",
      "NaN values per column\n",
      "label     0\n",
      "text     62\n",
      "dtype: int64\n",
      "\n",
      "Encoding classes..\n",
      "118 is encoded to [0]\n",
      "119 is encoded to [1]\n",
      "120 is encoded to [2]\n",
      "\n",
      "Filtering long doocuments and exploring length..\n",
      "Article length distributon\n",
      "count     628.000000\n",
      "mean      704.353503\n",
      "std       524.516163\n",
      "min        66.000000\n",
      "25%       390.000000\n",
      "50%       651.500000\n",
      "75%       861.000000\n",
      "max      4674.000000\n",
      "Name: text_length, dtype: float64\n",
      "Histogram lens of articles\n"
     ]
    },
    {
     "data": {
      "image/png": "[encoded data removed]",
      "text/plain": [
       "<Figure size 432x288 with 1 Axes>"
      ]
     },
     "metadata": {
      "needs_background": "light"
     },
     "output_type": "display_data"
    },
    {
     "name": "stdout",
     "output_type": "stream",
     "text": [
      "Article length distributon\n",
      "count     599.000000\n",
      "mean      620.439065\n",
      "std       299.411590\n",
      "min        66.000000\n",
      "25%       384.000000\n",
      "50%       602.000000\n",
      "75%       824.000000\n",
      "max      1484.000000\n",
      "Name: text_length, dtype: float64\n",
      "Histogram lens of articles\n"
     ]
    },
    {
     "data": {
      "image/png": "[encoded data removed]",
      "text/plain": [
       "<Figure size 432x288 with 1 Axes>"
      ]
     },
     "metadata": {
      "needs_background": "light"
     },
     "output_type": "display_data"
    },
    {
     "name": "stdout",
     "output_type": "stream",
     "text": [
      "\n",
      "Starting text preprocessing..\n",
      "628\n"
     ]
    },
    {
     "data": {
      "text/html": [
       "<div>\n",
       "<style scoped>\n",
       "    .dataframe tbody tr th:only-of-type {\n",
       "        vertical-align: middle;\n",
       "    }\n",
       "\n",
       "    .dataframe tbody tr th {\n",
       "        vertical-align: top;\n",
       "    }\n",
       "\n",
       "    .dataframe thead th {\n",
       "        text-align: right;\n",
       "    }\n",
       "</style>\n",
       "<table border=\"1\" class=\"dataframe\">\n",
       "  <thead>\n",
       "    <tr style=\"text-align: right;\">\n",
       "      <th></th>\n",
       "      <th>text</th>\n",
       "      <th>human_label</th>\n",
       "      <th>text_length</th>\n",
       "      <th>clean_text</th>\n",
       "    </tr>\n",
       "  </thead>\n",
       "  <tbody>\n",
       "    <tr>\n",
       "      <th>0</th>\n",
       "      <td>Buenos Aires Playa is an urban beach on the Rí...</td>\n",
       "      <td>0</td>\n",
       "      <td>408</td>\n",
       "      <td>[buenos, aire, playa, urban, beach, ro, de, la...</td>\n",
       "    </tr>\n",
       "    <tr>\n",
       "      <th>2</th>\n",
       "      <td>Contributed by Robert Lyman  © 2017The United ...</td>\n",
       "      <td>1</td>\n",
       "      <td>1591</td>\n",
       "      <td>[contribute, robert, lyman, unite, kingdom, fi...</td>\n",
       "    </tr>\n",
       "    <tr>\n",
       "      <th>3</th>\n",
       "      <td>Share this...FacebookTwitterState parliamentar...</td>\n",
       "      <td>1</td>\n",
       "      <td>598</td>\n",
       "      <td>[thisfacebooktwitterstate, parliamentarian, wo...</td>\n",
       "    </tr>\n",
       "    <tr>\n",
       "      <th>5</th>\n",
       "      <td>On April 7, I wrote about global warming “hoth...</td>\n",
       "      <td>0</td>\n",
       "      <td>666</td>\n",
       "      <td>[april, write, global, warm, hothead, dominate...</td>\n",
       "    </tr>\n",
       "    <tr>\n",
       "      <th>6</th>\n",
       "      <td>From PragerU\\nHas environmentalism become more...</td>\n",
       "      <td>2</td>\n",
       "      <td>124</td>\n",
       "      <td>[prageru, environmentalism, become, good, fait...</td>\n",
       "    </tr>\n",
       "  </tbody>\n",
       "</table>\n",
       "</div>"
      ],
      "text/plain": [
       "                                                text  human_label  \\\n",
       "0  Buenos Aires Playa is an urban beach on the Rí...            0   \n",
       "2  Contributed by Robert Lyman  © 2017The United ...            1   \n",
       "3  Share this...FacebookTwitterState parliamentar...            1   \n",
       "5  On April 7, I wrote about global warming “hoth...            0   \n",
       "6  From PragerU\\nHas environmentalism become more...            2   \n",
       "\n",
       "   text_length                                         clean_text  \n",
       "0          408  [buenos, aire, playa, urban, beach, ro, de, la...  \n",
       "2         1591  [contribute, robert, lyman, unite, kingdom, fi...  \n",
       "3          598  [thisfacebooktwitterstate, parliamentarian, wo...  \n",
       "5          666  [april, write, global, warm, hothead, dominate...  \n",
       "6          124  [prageru, environmentalism, become, good, fait...  "
      ]
     },
     "execution_count": 2,
     "metadata": {},
     "output_type": "execute_result"
    }
   ],
   "source": [
    "path = '../labelled_data/labelled_data_14032021.csv'\n",
    "\n",
    "print(\"Importing data...\")\n",
    "df = import_data(path)\n",
    "\n",
    "print(\"\\nDropping na values..\")\n",
    "df = na_values(df)\n",
    "\n",
    "print(\"\\nEncoding classes..\")\n",
    "df = class_encoding(df)\n",
    "\n",
    "print(\"\\nFiltering long doocuments and exploring length..\")\n",
    "documents_len_exploration_and_filter(df,max_len=1500)\n",
    "\n",
    "print(\"\\nStarting text preprocessing..\")\n",
    "clean_text = preprocessing(df)\n",
    "\n",
    "df['clean_text'] = clean_text\n",
    "\n",
    "print(len(df))\n",
    "df.head()"
   ]
  },
  {
   "cell_type": "markdown",
   "metadata": {},
   "source": [
    "### Split data"
   ]
  },
  {
   "cell_type": "code",
   "execution_count": 5,
   "metadata": {},
   "outputs": [
    {
     "name": "stdout",
     "output_type": "stream",
     "text": [
      "Training shape  (502, 4)\n",
      "Test shape  (126, 4)\n",
      "Training target distributions \n",
      "0    199\n",
      "2    175\n",
      "1    128\n",
      "Name: human_label, dtype: int64\n",
      "Test target distributions \n",
      "2    46\n",
      "0    45\n",
      "1    35\n",
      "Name: human_label, dtype: int64\n"
     ]
    }
   ],
   "source": [
    "train_df, test_df = train_test_split(df, test_size=0.2, random_state=1)\n",
    "\n",
    "print(\"Training shape \", train_df.shape)\n",
    "print(\"Test shape \", test_df.shape)\n",
    "\n",
    "print(\"Training target distributions \")\n",
    "print(train_df['human_label'].value_counts())\n",
    "print(\"Test target distributions \")\n",
    "print(test_df['human_label'].value_counts())"
   ]
  },
  {
   "cell_type": "markdown",
   "metadata": {},
   "source": [
    "### Generate & Save Embeddings"
   ]
  },
  {
   "cell_type": "markdown",
   "metadata": {},
   "source": [
    "##### Word2Vec"
   ]
  },
  {
   "cell_type": "code",
   "execution_count": 6,
   "metadata": {},
   "outputs": [
    {
     "name": "stdout",
     "output_type": "stream",
     "text": [
      "words not found  9261\n",
      "words found  187739\n",
      "% of words not found  4.701015228426396\n",
      "words not found  2105\n",
      "words found  50122\n",
      "% of words not found  4.030482317575201\n",
      "(502, 301)\n",
      "(126, 301)\n"
     ]
    }
   ],
   "source": [
    "w2v_model = Word2VecVectorizerClass()\n",
    "w2v_model.fit(None) # Just loads already trained Word2Vec model, no fitting\n",
    "\n",
    "word2vec_embedded_train_df = w2v_model.run(train_df,label_column='human_label')\n",
    "w2v_model.print_debug_info()\n",
    "word2vec_embedded_test_df = w2v_model.run(test_df,label_column='human_label')\n",
    "w2v_model.print_debug_info()\n",
    "\n",
    "print(word2vec_embedded_train_df.shape)\n",
    "print(word2vec_embedded_test_df.shape)"
   ]
  },
  {
   "cell_type": "code",
   "execution_count": 7,
   "metadata": {},
   "outputs": [],
   "source": [
    "word2vec_embedded_train_df.to_csv('../labelled_data/embedded_data/word2vec/train.csv')\n",
    "word2vec_embedded_test_df.to_csv('../labelled_data/embedded_data/word2vec/test.csv')"
   ]
  },
  {
   "cell_type": "markdown",
   "metadata": {},
   "source": [
    "#### NormBow"
   ]
  },
  {
   "cell_type": "code",
   "execution_count": 8,
   "metadata": {},
   "outputs": [
    {
     "name": "stdout",
     "output_type": "stream",
     "text": [
      "(502, 16743)\n",
      "(126, 16743)\n"
     ]
    }
   ],
   "source": [
    "normbow = NormBowVectorizerClass()\n",
    "normbow.fit(train_df)\n",
    "normbow.save(pickle_path=\"./saved_vectorizers/NormBow_vectorizer.pkl\")\n",
    "\n",
    "normbow_embedded_train_df = normbow.run(train_df,label_column='human_label')\n",
    "normbow_embedded_test_df = normbow.run(test_df,label_column='human_label')\n",
    "\n",
    "\n",
    "print(normbow_embedded_train_df.shape)\n",
    "print(normbow_embedded_test_df.shape)"
   ]
  },
  {
   "cell_type": "code",
   "execution_count": 9,
   "metadata": {},
   "outputs": [
    {
     "name": "stdout",
     "output_type": "stream",
     "text": [
      "Vocab length: 16742\n"
     ]
    }
   ],
   "source": [
    "normbow.print_debug_info()"
   ]
  },
  {
   "cell_type": "code",
   "execution_count": 10,
   "metadata": {},
   "outputs": [],
   "source": [
    "normbow_embedded_train_df.to_csv('../labelled_data/embedded_data/normbow/train.csv')\n",
    "normbow_embedded_test_df.to_csv('../labelled_data/embedded_data/normbow/test.csv')"
   ]
  },
  {
   "cell_type": "markdown",
   "metadata": {},
   "source": [
    "#### TfIdfVectrizer"
   ]
  },
  {
   "cell_type": "code",
   "execution_count": 11,
   "metadata": {},
   "outputs": [
    {
     "name": "stdout",
     "output_type": "stream",
     "text": [
      "(502, 3967)\n",
      "(126, 3967)\n"
     ]
    }
   ],
   "source": [
    "tfidf = TfIdfVectorizerClass()\n",
    "tfidf.fit(train_df)\n",
    "tfidf.save(pickle_path=\"./saved_vectorizers/TfIdf_vectorizer.pkl\")\n",
    "\n",
    "tfidf_embedded_train_df = tfidf.run(train_df,label_column='human_label')\n",
    "tfidf_embedded_test_df = tfidf.run(test_df,label_column='human_label')\n",
    "\n",
    "\n",
    "print(tfidf_embedded_train_df.shape)\n",
    "print(tfidf_embedded_test_df.shape)"
   ]
  },
  {
   "cell_type": "code",
   "execution_count": 12,
   "metadata": {},
   "outputs": [
    {
     "name": "stdout",
     "output_type": "stream",
     "text": [
      "Vocab length: 3966\n"
     ]
    }
   ],
   "source": [
    "tfidf.print_debug_info()"
   ]
  },
  {
   "cell_type": "code",
   "execution_count": 13,
   "metadata": {},
   "outputs": [],
   "source": [
    "tfidf_embedded_train_df.to_csv('../labelled_data/embedded_data/tfidf/train.csv')\n",
    "tfidf_embedded_test_df.to_csv('../labelled_data/embedded_data/tfidf/test.csv')"
   ]
  }
 ],
 "metadata": {
  "kernelspec": {
   "display_name": "cm-venv",
   "language": "python",
   "name": "cm-venv"
  },
  "language_info": {
   "codemirror_mode": {
    "name": "ipython",
    "version": 3
   },
   "file_extension": ".py",
   "mimetype": "text/x-python",
   "name": "python",
   "nbconvert_exporter": "python",
   "pygments_lexer": "ipython3",
   "version": "3.7.1"
  }
 },
 "nbformat": 4,
 "nbformat_minor": 2
}

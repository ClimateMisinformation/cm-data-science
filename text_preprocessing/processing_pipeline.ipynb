{
 "cells": [
  {
   "cell_type": "code",
   "execution_count": 1,
   "id": "32afc093",
   "metadata": {},
   "outputs": [
    {
     "name": "stderr",
     "output_type": "stream",
     "text": [
      "/opt/conda/lib/python3.8/site-packages/gensim/similarities/__init__.py:15: UserWarning: The gensim.similarities.levenshtein submodule is disabled, because the optional Levenshtein package <https://pypi.org/project/python-Levenshtein/> is unavailable. Install Levenhstein (e.g. `pip install python-Levenshtein`) to suppress this warning.\n",
      "  warnings.warn(msg)\n"
     ]
    }
   ],
   "source": [
    "from preprocessing import *\n",
    "from embeddings import *"
   ]
  },
  {
   "cell_type": "code",
   "execution_count": 2,
   "id": "cf07fd0f",
   "metadata": {},
   "outputs": [],
   "source": [
    "def preprocessing_pipeline(path, embedding_technique):\n",
    "\n",
    "    print(\"Importing data...\")\n",
    "    df = import_data(path)\n",
    "\n",
    "    print(\"Dropping na values..\")\n",
    "    df = na_values(df)\n",
    "\n",
    "    print(\"Encoding classes..\")\n",
    "    df = class_encoding(df)\n",
    "\n",
    "    print(\"Exploring length of articles..\")\n",
    "    article_len_exploration(df)\n",
    "\n",
    "    print(\"Starting text preprocessing..\")\n",
    "    clean_text = preprocessing(df)\n",
    "\n",
    "    df['clean_text'] = clean_text\n",
    "\n",
    "    print(df.head())\n",
    "\n",
    "    embedded_df = embedding(df, embedding_technique)\n",
    "\n",
    "    return embedded_df"
   ]
  },
  {
   "cell_type": "code",
   "execution_count": 3,
   "id": "8e557e7c",
   "metadata": {},
   "outputs": [],
   "source": [
    "def embedding(df, embedding_technique):\n",
    "\n",
    "    if embedding_technique == 'word2vec':\n",
    "\n",
    "        print(\"Initialising Word2Vec vectorization\")\n",
    "        embedded_df = word2vec_vectorizer(df)\n",
    "        embedded_df.to_csv('../models/embedding_data/word2vectest.csv')\n",
    "\n",
    "    elif embedding_technique == 'tfidf':\n",
    "\n",
    "        print(\"Initialising tf-idf vectorization\")\n",
    "        embedded_df = tf_idf_vectorizer(df)\n",
    "        embedded_df.to_csv('../models/embedding_data/tfidftest.csv')\n",
    "\n",
    "    elif embedding_technique == 'norm_bow':\n",
    "\n",
    "        print(\"Initialising norm_bow vectorization\")\n",
    "        embedded_df = norm_bow_vectorizer(df)\n",
    "        embedded_df.to_csv('../models/embedding_data/normbowtest.csv')\n",
    "\n",
    "    else:\n",
    "        print(\"ERROR. Please select one of the possible embedding techniques: word2vec, tfidf, normbow\")\n",
    "\n",
    "\n",
    "    return embedded_df"
   ]
  },
  {
   "cell_type": "code",
   "execution_count": 4,
   "id": "a3529671",
   "metadata": {},
   "outputs": [
    {
     "name": "stdout",
     "output_type": "stream",
     "text": [
      "\n",
      "WORD2VEC\n",
      "\n",
      "Importing data...\n",
      "   label                                               text\n",
      "0    118  Buenos Aires Playa is an urban beach on the Rí...\n",
      "1    123  Contributed by Robert Lyman  © 2017The United ...\n",
      "2    119  Contributed by Robert Lyman  © 2017The United ...\n",
      "3    119  Share this...FacebookTwitterState parliamentar...\n",
      "4    122  [CHECK OUT OUR PLANS](https://thebfd.co.nz/sub...\n",
      "Size of dataframe\n",
      "Index(['label', 'text'], dtype='object')\n",
      "(540, 2)\n",
      "Dropping na values..\n",
      "NaN values per column\n",
      "label     0\n",
      "text     62\n",
      "dtype: int64\n",
      "Encoding classes..\n",
      "118 is encoded to [0]\n",
      "119 is encoded to [1]\n",
      "120 is encoded to [2]\n",
      "Exploring length of articles..\n",
      "Article length distributon\n",
      "count     413.000000\n",
      "mean      737.641646\n",
      "std       592.149423\n",
      "min        66.000000\n",
      "25%       393.000000\n",
      "50%       654.000000\n",
      "75%       877.000000\n",
      "max      4674.000000\n",
      "Name: text_lens, dtype: float64\n",
      "Histogram lens of articles\n"
     ]
    },
    {
     "data": {
      "image/png": "[encoded data removed]",
      "text/plain": [
       "<Figure size 432x288 with 1 Axes>"
      ]
     },
     "metadata": {
      "needs_background": "light"
     },
     "output_type": "display_data"
    },
    {
     "name": "stdout",
     "output_type": "stream",
     "text": [
      "Article length distributon\n",
      "count     388.000000\n",
      "mean      623.007732\n",
      "std       302.358562\n",
      "min        66.000000\n",
      "25%       384.750000\n",
      "50%       599.000000\n",
      "75%       825.000000\n",
      "max      1467.000000\n",
      "Name: text_lens, dtype: float64\n",
      "Histogram lens of articles\n"
     ]
    },
    {
     "data": {
      "image/png": "[encoded data removed]",
      "text/plain": [
       "<Figure size 432x288 with 1 Axes>"
      ]
     },
     "metadata": {
      "needs_background": "light"
     },
     "output_type": "display_data"
    },
    {
     "name": "stdout",
     "output_type": "stream",
     "text": [
      "Starting text preprocessing..\n",
      "                                                text  labels  text_lens  \\\n",
      "0  Buenos Aires Playa is an urban beach on the Rí...       0        408   \n",
      "2  Contributed by Robert Lyman  © 2017The United ...       1       1591   \n",
      "3  Share this...FacebookTwitterState parliamentar...       1        598   \n",
      "5  On April 7, I wrote about global warming “hoth...       0        666   \n",
      "6  From PragerU\\r\\nHas environmentalism become mo...       2        124   \n",
      "\n",
      "                                          clean_text  \n",
      "0  [buenos, aire, playa, urban, beach, ro, de, la...  \n",
      "2  [contribute, robert, lyman, unite, kingdom, fi...  \n",
      "3  [thisfacebooktwitterstate, parliamentarian, wo...  \n",
      "5  [april, write, global, warm, hothead, dominate...  \n",
      "6  [prageru, environmentalism, become, good, fait...  \n",
      "Initialising Word2Vec vectorization\n",
      "Loading word2vec model\n",
      "[==================================================] 100.0% 1662.8/1662.8MB downloaded\n",
      "Number of articles 413\n",
      "words not found  7873\n",
      "words found  163582\n",
      "% of words not found  4.591875419206206\n",
      "413\n",
      "300\n",
      "        0         1         2         3         4         5         6    \\\n",
      "0  0.007192  0.028022  0.006749  0.079142 -0.062214 -0.004903  0.016493   \n",
      "1  0.000798  0.019996  0.006614  0.059364 -0.063303 -0.040040  0.078169   \n",
      "2  0.021782  0.049869 -0.020966  0.062953 -0.063962  0.001963  0.053028   \n",
      "3  0.038937  0.019370  0.010584  0.093879 -0.062552  0.021742  0.030067   \n",
      "4  0.077813  0.018614  0.013954  0.096244 -0.054503  0.029107  0.090782   \n",
      "\n",
      "        7         8         9    ...       290       291       292       293  \\\n",
      "0 -0.088562  0.083788  0.025779  ... -0.067916  0.016597 -0.032937  0.014552   \n",
      "1 -0.071738  0.123631  0.067792  ... -0.093945  0.054638 -0.043791  0.015719   \n",
      "2 -0.078169  0.108767  0.066616  ... -0.057156  0.067624 -0.060130  0.023692   \n",
      "3 -0.084750  0.098040  0.089435  ... -0.065432  0.055313 -0.075807  0.022930   \n",
      "4 -0.025970  0.091209  0.023436  ... -0.054498  0.030252 -0.080441 -0.022335   \n",
      "\n",
      "        294       295       296       297       298       299  \n",
      "0 -0.004282  0.010711 -0.016544 -0.039515  0.050232 -0.015869  \n",
      "1 -0.038354  0.021654  0.009780  0.003796  0.033485 -0.020712  \n",
      "2 -0.008550  0.021346 -0.033380  0.012736  0.047389  0.009462  \n",
      "3 -0.049081 -0.038403 -0.006825 -0.027244  0.056700 -0.027214  \n",
      "4 -0.048276 -0.037095  0.043473 -0.049286  0.029444 -0.015922  \n",
      "\n",
      "[5 rows x 300 columns]\n",
      "(413, 300)\n",
      "\n",
      "TFIDF\n",
      "\n",
      "Importing data...\n",
      "   label                                               text\n",
      "0    118  Buenos Aires Playa is an urban beach on the Rí...\n",
      "1    123  Contributed by Robert Lyman  © 2017The United ...\n",
      "2    119  Contributed by Robert Lyman  © 2017The United ...\n",
      "3    119  Share this...FacebookTwitterState parliamentar...\n",
      "4    122  [CHECK OUT OUR PLANS](https://thebfd.co.nz/sub...\n",
      "Size of dataframe\n",
      "Index(['label', 'text'], dtype='object')\n",
      "(540, 2)\n",
      "Dropping na values..\n",
      "NaN values per column\n",
      "label     0\n",
      "text     62\n",
      "dtype: int64\n",
      "Encoding classes..\n",
      "118 is encoded to [0]\n",
      "119 is encoded to [1]\n",
      "120 is encoded to [2]\n",
      "Exploring length of articles..\n",
      "Article length distributon\n",
      "count     413.000000\n",
      "mean      737.641646\n",
      "std       592.149423\n",
      "min        66.000000\n",
      "25%       393.000000\n",
      "50%       654.000000\n",
      "75%       877.000000\n",
      "max      4674.000000\n",
      "Name: text_lens, dtype: float64\n",
      "Histogram lens of articles\n"
     ]
    },
    {
     "data": {
      "image/png": "[encoded data removed]",
      "text/plain": [
       "<Figure size 432x288 with 1 Axes>"
      ]
     },
     "metadata": {
      "needs_background": "light"
     },
     "output_type": "display_data"
    },
    {
     "name": "stdout",
     "output_type": "stream",
     "text": [
      "Article length distributon\n",
      "count     388.000000\n",
      "mean      623.007732\n",
      "std       302.358562\n",
      "min        66.000000\n",
      "25%       384.750000\n",
      "50%       599.000000\n",
      "75%       825.000000\n",
      "max      1467.000000\n",
      "Name: text_lens, dtype: float64\n",
      "Histogram lens of articles\n"
     ]
    },
    {
     "data": {
      "image/png": "[encoded data removed]",
      "text/plain": [
       "<Figure size 432x288 with 1 Axes>"
      ]
     },
     "metadata": {
      "needs_background": "light"
     },
     "output_type": "display_data"
    },
    {
     "name": "stdout",
     "output_type": "stream",
     "text": [
      "Starting text preprocessing..\n",
      "                                                text  labels  text_lens  \\\n",
      "0  Buenos Aires Playa is an urban beach on the Rí...       0        408   \n",
      "2  Contributed by Robert Lyman  © 2017The United ...       1       1591   \n",
      "3  Share this...FacebookTwitterState parliamentar...       1        598   \n",
      "5  On April 7, I wrote about global warming “hoth...       0        666   \n",
      "6  From PragerU\\r\\nHas environmentalism become mo...       2        124   \n",
      "\n",
      "                                          clean_text  \n",
      "0  [buenos, aire, playa, urban, beach, ro, de, la...  \n",
      "2  [contribute, robert, lyman, unite, kingdom, fi...  \n",
      "3  [thisfacebooktwitterstate, parliamentarian, wo...  \n",
      "5  [april, write, global, warm, hothead, dominate...  \n",
      "6  [prageru, environmentalism, become, good, fait...  \n",
      "Initialising tf-idf vectorization\n",
      "Number of articles 413\n",
      "Length vocab:  3598\n",
      "Constructing vectors...\n",
      "Size of dataframe  (413, 3599)\n",
      "\n",
      "NORM_BOW\n",
      "\n",
      "Importing data...\n",
      "   label                                               text\n",
      "0    118  Buenos Aires Playa is an urban beach on the Rí...\n",
      "1    123  Contributed by Robert Lyman  © 2017The United ...\n",
      "2    119  Contributed by Robert Lyman  © 2017The United ...\n",
      "3    119  Share this...FacebookTwitterState parliamentar...\n",
      "4    122  [CHECK OUT OUR PLANS](https://thebfd.co.nz/sub...\n",
      "Size of dataframe\n",
      "Index(['label', 'text'], dtype='object')\n",
      "(540, 2)\n",
      "Dropping na values..\n",
      "NaN values per column\n",
      "label     0\n",
      "text     62\n",
      "dtype: int64\n",
      "Encoding classes..\n",
      "118 is encoded to [0]\n",
      "119 is encoded to [1]\n",
      "120 is encoded to [2]\n",
      "Exploring length of articles..\n",
      "Article length distributon\n",
      "count     413.000000\n",
      "mean      737.641646\n",
      "std       592.149423\n",
      "min        66.000000\n",
      "25%       393.000000\n",
      "50%       654.000000\n",
      "75%       877.000000\n",
      "max      4674.000000\n",
      "Name: text_lens, dtype: float64\n",
      "Histogram lens of articles\n"
     ]
    },
    {
     "data": {
      "image/png": "[encoded data removed]",
      "text/plain": [
       "<Figure size 432x288 with 1 Axes>"
      ]
     },
     "metadata": {
      "needs_background": "light"
     },
     "output_type": "display_data"
    },
    {
     "name": "stdout",
     "output_type": "stream",
     "text": [
      "Article length distributon\n",
      "count     388.000000\n",
      "mean      623.007732\n",
      "std       302.358562\n",
      "min        66.000000\n",
      "25%       384.750000\n",
      "50%       599.000000\n",
      "75%       825.000000\n",
      "max      1467.000000\n",
      "Name: text_lens, dtype: float64\n",
      "Histogram lens of articles\n"
     ]
    },
    {
     "data": {
      "image/png": "[encoded data removed]",
      "text/plain": [
       "<Figure size 432x288 with 1 Axes>"
      ]
     },
     "metadata": {
      "needs_background": "light"
     },
     "output_type": "display_data"
    },
    {
     "name": "stdout",
     "output_type": "stream",
     "text": [
      "Starting text preprocessing..\n",
      "                                                text  labels  text_lens  \\\n",
      "0  Buenos Aires Playa is an urban beach on the Rí...       0        408   \n",
      "2  Contributed by Robert Lyman  © 2017The United ...       1       1591   \n",
      "3  Share this...FacebookTwitterState parliamentar...       1        598   \n",
      "5  On April 7, I wrote about global warming “hoth...       0        666   \n",
      "6  From PragerU\\r\\nHas environmentalism become mo...       2        124   \n",
      "\n",
      "                                          clean_text  \n",
      "0  [buenos, aire, playa, urban, beach, ro, de, la...  \n",
      "2  [contribute, robert, lyman, unite, kingdom, fi...  \n",
      "3  [thisfacebooktwitterstate, parliamentarian, wo...  \n",
      "5  [april, write, global, warm, hothead, dominate...  \n",
      "6  [prageru, environmentalism, become, good, fait...  \n",
      "Initialising norm_bow vectorization\n",
      "Initialising normalised BOW model\n",
      "Constructing normalised BOW vectors\n",
      "Number of statements 413\n",
      "Length vocab:  15676\n",
      "Constructing vectors...\n",
      "Size of dataframe  (413, 15676)\n",
      "CPU times: user 8min 8s, sys: 4min 6s, total: 12min 14s\n",
      "Wall time: 10min 14s\n"
     ]
    }
   ],
   "source": [
    "%%time\n",
    "\n",
    "path = '../labelled_data/labelled_data.csv'\n",
    "# path = '../labelled_data/labelled_data_14032021.csv' ## switch to latest data when it's all working\n",
    "embeddings = ['word2vec','tfidf','norm_bow']\n",
    "\n",
    "for embedding_technique in embeddings:\n",
    "    print(\"\\n{0}\\n\".format(embedding_technique.upper()))\n",
    "    preprocessing_pipeline(path, embedding_technique)"
   ]
  }
 ],
 "metadata": {
  "kernelspec": {
   "display_name": "Python 3",
   "language": "python",
   "name": "python3"
  },
  "language_info": {
   "codemirror_mode": {
    "name": "ipython",
    "version": 3
   },
   "file_extension": ".py",
   "mimetype": "text/x-python",
   "name": "python",
   "nbconvert_exporter": "python",
   "pygments_lexer": "ipython3",
   "version": "3.8.5"
  }
 },
 "nbformat": 4,
 "nbformat_minor": 5
}
